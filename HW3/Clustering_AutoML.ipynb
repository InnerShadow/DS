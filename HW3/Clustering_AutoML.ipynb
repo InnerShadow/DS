{
 "cells": [
  {
   "cell_type": "code",
   "execution_count": 1,
   "metadata": {},
   "outputs": [],
   "source": [
    "# Import libs\n",
    "\n",
    "from pycaret.datasets import get_data\n",
    "import matplotlib.pyplot as plt\n",
    "import seaborn as sns\n",
    "import pandas as pd\n",
    "import mlflow"
   ]
  },
  {
   "cell_type": "code",
   "execution_count": 2,
   "metadata": {},
   "outputs": [],
   "source": [
    "from pycaret.clustering import *"
   ]
  },
  {
   "cell_type": "code",
   "execution_count": 3,
   "metadata": {},
   "outputs": [
    {
     "data": {
      "text/html": [
       "<div>\n",
       "<style scoped>\n",
       "    .dataframe tbody tr th:only-of-type {\n",
       "        vertical-align: middle;\n",
       "    }\n",
       "\n",
       "    .dataframe tbody tr th {\n",
       "        vertical-align: top;\n",
       "    }\n",
       "\n",
       "    .dataframe thead th {\n",
       "        text-align: right;\n",
       "    }\n",
       "</style>\n",
       "<table border=\"1\" class=\"dataframe\">\n",
       "  <thead>\n",
       "    <tr style=\"text-align: right;\">\n",
       "      <th></th>\n",
       "      <th>Dataset</th>\n",
       "      <th>Data Types</th>\n",
       "      <th>Default Task</th>\n",
       "      <th>Target Variable 1</th>\n",
       "      <th>Target Variable 2</th>\n",
       "      <th># Instances</th>\n",
       "      <th># Attributes</th>\n",
       "      <th>Missing Values</th>\n",
       "    </tr>\n",
       "  </thead>\n",
       "  <tbody>\n",
       "    <tr>\n",
       "      <th>0</th>\n",
       "      <td>anomaly</td>\n",
       "      <td>Multivariate</td>\n",
       "      <td>Anomaly Detection</td>\n",
       "      <td>NaN</td>\n",
       "      <td>NaN</td>\n",
       "      <td>1000</td>\n",
       "      <td>10</td>\n",
       "      <td>N</td>\n",
       "    </tr>\n",
       "    <tr>\n",
       "      <th>1</th>\n",
       "      <td>france</td>\n",
       "      <td>Multivariate</td>\n",
       "      <td>Association Rule Mining</td>\n",
       "      <td>InvoiceNo</td>\n",
       "      <td>Description</td>\n",
       "      <td>8557</td>\n",
       "      <td>8</td>\n",
       "      <td>N</td>\n",
       "    </tr>\n",
       "    <tr>\n",
       "      <th>2</th>\n",
       "      <td>germany</td>\n",
       "      <td>Multivariate</td>\n",
       "      <td>Association Rule Mining</td>\n",
       "      <td>InvoiceNo</td>\n",
       "      <td>Description</td>\n",
       "      <td>9495</td>\n",
       "      <td>8</td>\n",
       "      <td>N</td>\n",
       "    </tr>\n",
       "    <tr>\n",
       "      <th>3</th>\n",
       "      <td>bank</td>\n",
       "      <td>Multivariate</td>\n",
       "      <td>Classification (Binary)</td>\n",
       "      <td>deposit</td>\n",
       "      <td>NaN</td>\n",
       "      <td>45211</td>\n",
       "      <td>17</td>\n",
       "      <td>N</td>\n",
       "    </tr>\n",
       "    <tr>\n",
       "      <th>4</th>\n",
       "      <td>blood</td>\n",
       "      <td>Multivariate</td>\n",
       "      <td>Classification (Binary)</td>\n",
       "      <td>Class</td>\n",
       "      <td>NaN</td>\n",
       "      <td>748</td>\n",
       "      <td>5</td>\n",
       "      <td>N</td>\n",
       "    </tr>\n",
       "    <tr>\n",
       "      <th>5</th>\n",
       "      <td>cancer</td>\n",
       "      <td>Multivariate</td>\n",
       "      <td>Classification (Binary)</td>\n",
       "      <td>Class</td>\n",
       "      <td>NaN</td>\n",
       "      <td>683</td>\n",
       "      <td>10</td>\n",
       "      <td>N</td>\n",
       "    </tr>\n",
       "    <tr>\n",
       "      <th>6</th>\n",
       "      <td>credit</td>\n",
       "      <td>Multivariate</td>\n",
       "      <td>Classification (Binary)</td>\n",
       "      <td>default</td>\n",
       "      <td>NaN</td>\n",
       "      <td>24000</td>\n",
       "      <td>24</td>\n",
       "      <td>N</td>\n",
       "    </tr>\n",
       "    <tr>\n",
       "      <th>7</th>\n",
       "      <td>diabetes</td>\n",
       "      <td>Multivariate</td>\n",
       "      <td>Classification (Binary)</td>\n",
       "      <td>Class variable</td>\n",
       "      <td>NaN</td>\n",
       "      <td>768</td>\n",
       "      <td>9</td>\n",
       "      <td>N</td>\n",
       "    </tr>\n",
       "    <tr>\n",
       "      <th>8</th>\n",
       "      <td>electrical_grid</td>\n",
       "      <td>Multivariate</td>\n",
       "      <td>Classification (Binary)</td>\n",
       "      <td>stabf</td>\n",
       "      <td>NaN</td>\n",
       "      <td>10000</td>\n",
       "      <td>14</td>\n",
       "      <td>N</td>\n",
       "    </tr>\n",
       "    <tr>\n",
       "      <th>9</th>\n",
       "      <td>employee</td>\n",
       "      <td>Multivariate</td>\n",
       "      <td>Classification (Binary)</td>\n",
       "      <td>left</td>\n",
       "      <td>NaN</td>\n",
       "      <td>14999</td>\n",
       "      <td>10</td>\n",
       "      <td>N</td>\n",
       "    </tr>\n",
       "    <tr>\n",
       "      <th>10</th>\n",
       "      <td>heart</td>\n",
       "      <td>Multivariate</td>\n",
       "      <td>Classification (Binary)</td>\n",
       "      <td>DEATH</td>\n",
       "      <td>NaN</td>\n",
       "      <td>200</td>\n",
       "      <td>16</td>\n",
       "      <td>N</td>\n",
       "    </tr>\n",
       "    <tr>\n",
       "      <th>11</th>\n",
       "      <td>heart_disease</td>\n",
       "      <td>Multivariate</td>\n",
       "      <td>Classification (Binary)</td>\n",
       "      <td>Disease</td>\n",
       "      <td>NaN</td>\n",
       "      <td>270</td>\n",
       "      <td>14</td>\n",
       "      <td>N</td>\n",
       "    </tr>\n",
       "    <tr>\n",
       "      <th>12</th>\n",
       "      <td>hepatitis</td>\n",
       "      <td>Multivariate</td>\n",
       "      <td>Classification (Binary)</td>\n",
       "      <td>Class</td>\n",
       "      <td>NaN</td>\n",
       "      <td>154</td>\n",
       "      <td>32</td>\n",
       "      <td>Y</td>\n",
       "    </tr>\n",
       "    <tr>\n",
       "      <th>13</th>\n",
       "      <td>income</td>\n",
       "      <td>Multivariate</td>\n",
       "      <td>Classification (Binary)</td>\n",
       "      <td>income &gt;50K</td>\n",
       "      <td>NaN</td>\n",
       "      <td>32561</td>\n",
       "      <td>14</td>\n",
       "      <td>Y</td>\n",
       "    </tr>\n",
       "    <tr>\n",
       "      <th>14</th>\n",
       "      <td>juice</td>\n",
       "      <td>Multivariate</td>\n",
       "      <td>Classification (Binary)</td>\n",
       "      <td>Purchase</td>\n",
       "      <td>NaN</td>\n",
       "      <td>1070</td>\n",
       "      <td>15</td>\n",
       "      <td>N</td>\n",
       "    </tr>\n",
       "    <tr>\n",
       "      <th>15</th>\n",
       "      <td>nba</td>\n",
       "      <td>Multivariate</td>\n",
       "      <td>Classification (Binary)</td>\n",
       "      <td>TARGET_5Yrs</td>\n",
       "      <td>NaN</td>\n",
       "      <td>1340</td>\n",
       "      <td>21</td>\n",
       "      <td>N</td>\n",
       "    </tr>\n",
       "    <tr>\n",
       "      <th>16</th>\n",
       "      <td>wine</td>\n",
       "      <td>Multivariate</td>\n",
       "      <td>Classification (Binary)</td>\n",
       "      <td>type</td>\n",
       "      <td>NaN</td>\n",
       "      <td>6498</td>\n",
       "      <td>13</td>\n",
       "      <td>N</td>\n",
       "    </tr>\n",
       "    <tr>\n",
       "      <th>17</th>\n",
       "      <td>telescope</td>\n",
       "      <td>Multivariate</td>\n",
       "      <td>Classification (Binary)</td>\n",
       "      <td>Class</td>\n",
       "      <td>NaN</td>\n",
       "      <td>19020</td>\n",
       "      <td>11</td>\n",
       "      <td>N</td>\n",
       "    </tr>\n",
       "    <tr>\n",
       "      <th>18</th>\n",
       "      <td>titanic</td>\n",
       "      <td>Multivariate</td>\n",
       "      <td>Classification (Binary)</td>\n",
       "      <td>Survived</td>\n",
       "      <td>NaN</td>\n",
       "      <td>891</td>\n",
       "      <td>11</td>\n",
       "      <td>Y</td>\n",
       "    </tr>\n",
       "    <tr>\n",
       "      <th>19</th>\n",
       "      <td>us_presidential_election_results</td>\n",
       "      <td>Multivariate</td>\n",
       "      <td>Classification (Binary)</td>\n",
       "      <td>party_winner</td>\n",
       "      <td>NaN</td>\n",
       "      <td>497</td>\n",
       "      <td>7</td>\n",
       "      <td>N</td>\n",
       "    </tr>\n",
       "    <tr>\n",
       "      <th>20</th>\n",
       "      <td>glass</td>\n",
       "      <td>Multivariate</td>\n",
       "      <td>Classification (Multiclass)</td>\n",
       "      <td>Type</td>\n",
       "      <td>NaN</td>\n",
       "      <td>214</td>\n",
       "      <td>10</td>\n",
       "      <td>N</td>\n",
       "    </tr>\n",
       "    <tr>\n",
       "      <th>21</th>\n",
       "      <td>iris</td>\n",
       "      <td>Multivariate</td>\n",
       "      <td>Classification (Multiclass)</td>\n",
       "      <td>species</td>\n",
       "      <td>NaN</td>\n",
       "      <td>150</td>\n",
       "      <td>5</td>\n",
       "      <td>N</td>\n",
       "    </tr>\n",
       "    <tr>\n",
       "      <th>22</th>\n",
       "      <td>poker</td>\n",
       "      <td>Multivariate</td>\n",
       "      <td>Classification (Multiclass)</td>\n",
       "      <td>CLASS</td>\n",
       "      <td>NaN</td>\n",
       "      <td>100000</td>\n",
       "      <td>11</td>\n",
       "      <td>N</td>\n",
       "    </tr>\n",
       "    <tr>\n",
       "      <th>23</th>\n",
       "      <td>questions</td>\n",
       "      <td>Multivariate</td>\n",
       "      <td>Classification (Multiclass)</td>\n",
       "      <td>Next_Question</td>\n",
       "      <td>NaN</td>\n",
       "      <td>499</td>\n",
       "      <td>4</td>\n",
       "      <td>N</td>\n",
       "    </tr>\n",
       "    <tr>\n",
       "      <th>24</th>\n",
       "      <td>satellite</td>\n",
       "      <td>Multivariate</td>\n",
       "      <td>Classification (Multiclass)</td>\n",
       "      <td>Class</td>\n",
       "      <td>NaN</td>\n",
       "      <td>6435</td>\n",
       "      <td>37</td>\n",
       "      <td>N</td>\n",
       "    </tr>\n",
       "    <tr>\n",
       "      <th>25</th>\n",
       "      <td>CTG</td>\n",
       "      <td>Multivariate</td>\n",
       "      <td>Classification (Multiclass)</td>\n",
       "      <td>NSP</td>\n",
       "      <td>NaN</td>\n",
       "      <td>2129</td>\n",
       "      <td>40</td>\n",
       "      <td>Y</td>\n",
       "    </tr>\n",
       "    <tr>\n",
       "      <th>26</th>\n",
       "      <td>asia_gdp</td>\n",
       "      <td>Multivariate</td>\n",
       "      <td>Clustering</td>\n",
       "      <td>NaN</td>\n",
       "      <td>NaN</td>\n",
       "      <td>40</td>\n",
       "      <td>11</td>\n",
       "      <td>N</td>\n",
       "    </tr>\n",
       "    <tr>\n",
       "      <th>27</th>\n",
       "      <td>elections</td>\n",
       "      <td>Multivariate</td>\n",
       "      <td>Clustering</td>\n",
       "      <td>NaN</td>\n",
       "      <td>NaN</td>\n",
       "      <td>3195</td>\n",
       "      <td>54</td>\n",
       "      <td>Y</td>\n",
       "    </tr>\n",
       "    <tr>\n",
       "      <th>28</th>\n",
       "      <td>facebook</td>\n",
       "      <td>Multivariate</td>\n",
       "      <td>Clustering</td>\n",
       "      <td>NaN</td>\n",
       "      <td>NaN</td>\n",
       "      <td>7050</td>\n",
       "      <td>12</td>\n",
       "      <td>N</td>\n",
       "    </tr>\n",
       "    <tr>\n",
       "      <th>29</th>\n",
       "      <td>ipl</td>\n",
       "      <td>Multivariate</td>\n",
       "      <td>Clustering</td>\n",
       "      <td>NaN</td>\n",
       "      <td>NaN</td>\n",
       "      <td>153</td>\n",
       "      <td>25</td>\n",
       "      <td>N</td>\n",
       "    </tr>\n",
       "    <tr>\n",
       "      <th>30</th>\n",
       "      <td>jewellery</td>\n",
       "      <td>Multivariate</td>\n",
       "      <td>Clustering</td>\n",
       "      <td>NaN</td>\n",
       "      <td>NaN</td>\n",
       "      <td>505</td>\n",
       "      <td>4</td>\n",
       "      <td>N</td>\n",
       "    </tr>\n",
       "    <tr>\n",
       "      <th>31</th>\n",
       "      <td>mice</td>\n",
       "      <td>Multivariate</td>\n",
       "      <td>Clustering</td>\n",
       "      <td>NaN</td>\n",
       "      <td>NaN</td>\n",
       "      <td>1080</td>\n",
       "      <td>82</td>\n",
       "      <td>Y</td>\n",
       "    </tr>\n",
       "    <tr>\n",
       "      <th>32</th>\n",
       "      <td>migration</td>\n",
       "      <td>Multivariate</td>\n",
       "      <td>Clustering</td>\n",
       "      <td>NaN</td>\n",
       "      <td>NaN</td>\n",
       "      <td>233</td>\n",
       "      <td>12</td>\n",
       "      <td>N</td>\n",
       "    </tr>\n",
       "    <tr>\n",
       "      <th>33</th>\n",
       "      <td>perfume</td>\n",
       "      <td>Multivariate</td>\n",
       "      <td>Clustering</td>\n",
       "      <td>NaN</td>\n",
       "      <td>NaN</td>\n",
       "      <td>20</td>\n",
       "      <td>29</td>\n",
       "      <td>N</td>\n",
       "    </tr>\n",
       "    <tr>\n",
       "      <th>34</th>\n",
       "      <td>pokemon</td>\n",
       "      <td>Multivariate</td>\n",
       "      <td>Clustering</td>\n",
       "      <td>NaN</td>\n",
       "      <td>NaN</td>\n",
       "      <td>800</td>\n",
       "      <td>13</td>\n",
       "      <td>Y</td>\n",
       "    </tr>\n",
       "    <tr>\n",
       "      <th>35</th>\n",
       "      <td>population</td>\n",
       "      <td>Multivariate</td>\n",
       "      <td>Clustering</td>\n",
       "      <td>NaN</td>\n",
       "      <td>NaN</td>\n",
       "      <td>255</td>\n",
       "      <td>56</td>\n",
       "      <td>Y</td>\n",
       "    </tr>\n",
       "    <tr>\n",
       "      <th>36</th>\n",
       "      <td>public_health</td>\n",
       "      <td>Multivariate</td>\n",
       "      <td>Clustering</td>\n",
       "      <td>NaN</td>\n",
       "      <td>NaN</td>\n",
       "      <td>224</td>\n",
       "      <td>21</td>\n",
       "      <td>N</td>\n",
       "    </tr>\n",
       "    <tr>\n",
       "      <th>37</th>\n",
       "      <td>seeds</td>\n",
       "      <td>Multivariate</td>\n",
       "      <td>Clustering</td>\n",
       "      <td>NaN</td>\n",
       "      <td>NaN</td>\n",
       "      <td>210</td>\n",
       "      <td>7</td>\n",
       "      <td>N</td>\n",
       "    </tr>\n",
       "    <tr>\n",
       "      <th>38</th>\n",
       "      <td>wholesale</td>\n",
       "      <td>Multivariate</td>\n",
       "      <td>Clustering</td>\n",
       "      <td>NaN</td>\n",
       "      <td>NaN</td>\n",
       "      <td>440</td>\n",
       "      <td>8</td>\n",
       "      <td>N</td>\n",
       "    </tr>\n",
       "    <tr>\n",
       "      <th>39</th>\n",
       "      <td>tweets</td>\n",
       "      <td>Text</td>\n",
       "      <td>NLP</td>\n",
       "      <td>tweet</td>\n",
       "      <td>NaN</td>\n",
       "      <td>8594</td>\n",
       "      <td>2</td>\n",
       "      <td>N</td>\n",
       "    </tr>\n",
       "    <tr>\n",
       "      <th>40</th>\n",
       "      <td>amazon</td>\n",
       "      <td>Text</td>\n",
       "      <td>NLP / Classification</td>\n",
       "      <td>reviewText</td>\n",
       "      <td>NaN</td>\n",
       "      <td>20000</td>\n",
       "      <td>2</td>\n",
       "      <td>N</td>\n",
       "    </tr>\n",
       "    <tr>\n",
       "      <th>41</th>\n",
       "      <td>kiva</td>\n",
       "      <td>Text</td>\n",
       "      <td>NLP / Classification</td>\n",
       "      <td>en</td>\n",
       "      <td>NaN</td>\n",
       "      <td>6818</td>\n",
       "      <td>7</td>\n",
       "      <td>N</td>\n",
       "    </tr>\n",
       "    <tr>\n",
       "      <th>42</th>\n",
       "      <td>spx</td>\n",
       "      <td>Text</td>\n",
       "      <td>NLP / Regression</td>\n",
       "      <td>text</td>\n",
       "      <td>NaN</td>\n",
       "      <td>874</td>\n",
       "      <td>4</td>\n",
       "      <td>N</td>\n",
       "    </tr>\n",
       "    <tr>\n",
       "      <th>43</th>\n",
       "      <td>wikipedia</td>\n",
       "      <td>Text</td>\n",
       "      <td>NLP / Classification</td>\n",
       "      <td>Text</td>\n",
       "      <td>NaN</td>\n",
       "      <td>500</td>\n",
       "      <td>3</td>\n",
       "      <td>N</td>\n",
       "    </tr>\n",
       "    <tr>\n",
       "      <th>44</th>\n",
       "      <td>automobile</td>\n",
       "      <td>Multivariate</td>\n",
       "      <td>Regression</td>\n",
       "      <td>price</td>\n",
       "      <td>NaN</td>\n",
       "      <td>202</td>\n",
       "      <td>26</td>\n",
       "      <td>Y</td>\n",
       "    </tr>\n",
       "    <tr>\n",
       "      <th>45</th>\n",
       "      <td>bike</td>\n",
       "      <td>Multivariate</td>\n",
       "      <td>Regression</td>\n",
       "      <td>cnt</td>\n",
       "      <td>NaN</td>\n",
       "      <td>17379</td>\n",
       "      <td>15</td>\n",
       "      <td>N</td>\n",
       "    </tr>\n",
       "    <tr>\n",
       "      <th>46</th>\n",
       "      <td>boston</td>\n",
       "      <td>Multivariate</td>\n",
       "      <td>Regression</td>\n",
       "      <td>medv</td>\n",
       "      <td>NaN</td>\n",
       "      <td>506</td>\n",
       "      <td>14</td>\n",
       "      <td>N</td>\n",
       "    </tr>\n",
       "    <tr>\n",
       "      <th>47</th>\n",
       "      <td>concrete</td>\n",
       "      <td>Multivariate</td>\n",
       "      <td>Regression</td>\n",
       "      <td>strength</td>\n",
       "      <td>NaN</td>\n",
       "      <td>1030</td>\n",
       "      <td>9</td>\n",
       "      <td>N</td>\n",
       "    </tr>\n",
       "    <tr>\n",
       "      <th>48</th>\n",
       "      <td>diamond</td>\n",
       "      <td>Multivariate</td>\n",
       "      <td>Regression</td>\n",
       "      <td>Price</td>\n",
       "      <td>NaN</td>\n",
       "      <td>6000</td>\n",
       "      <td>8</td>\n",
       "      <td>N</td>\n",
       "    </tr>\n",
       "    <tr>\n",
       "      <th>49</th>\n",
       "      <td>energy</td>\n",
       "      <td>Multivariate</td>\n",
       "      <td>Regression</td>\n",
       "      <td>Heating Load</td>\n",
       "      <td>Cooling Load</td>\n",
       "      <td>768</td>\n",
       "      <td>10</td>\n",
       "      <td>N</td>\n",
       "    </tr>\n",
       "    <tr>\n",
       "      <th>50</th>\n",
       "      <td>forest</td>\n",
       "      <td>Multivariate</td>\n",
       "      <td>Regression</td>\n",
       "      <td>area</td>\n",
       "      <td>NaN</td>\n",
       "      <td>517</td>\n",
       "      <td>13</td>\n",
       "      <td>N</td>\n",
       "    </tr>\n",
       "    <tr>\n",
       "      <th>51</th>\n",
       "      <td>gold</td>\n",
       "      <td>Multivariate</td>\n",
       "      <td>Regression</td>\n",
       "      <td>Gold_T+22</td>\n",
       "      <td>NaN</td>\n",
       "      <td>2558</td>\n",
       "      <td>121</td>\n",
       "      <td>N</td>\n",
       "    </tr>\n",
       "    <tr>\n",
       "      <th>52</th>\n",
       "      <td>house</td>\n",
       "      <td>Multivariate</td>\n",
       "      <td>Regression</td>\n",
       "      <td>SalePrice</td>\n",
       "      <td>NaN</td>\n",
       "      <td>1461</td>\n",
       "      <td>81</td>\n",
       "      <td>Y</td>\n",
       "    </tr>\n",
       "    <tr>\n",
       "      <th>53</th>\n",
       "      <td>insurance</td>\n",
       "      <td>Multivariate</td>\n",
       "      <td>Regression</td>\n",
       "      <td>charges</td>\n",
       "      <td>NaN</td>\n",
       "      <td>1338</td>\n",
       "      <td>7</td>\n",
       "      <td>N</td>\n",
       "    </tr>\n",
       "    <tr>\n",
       "      <th>54</th>\n",
       "      <td>parkinsons</td>\n",
       "      <td>Multivariate</td>\n",
       "      <td>Regression</td>\n",
       "      <td>PPE</td>\n",
       "      <td>NaN</td>\n",
       "      <td>5875</td>\n",
       "      <td>22</td>\n",
       "      <td>N</td>\n",
       "    </tr>\n",
       "    <tr>\n",
       "      <th>55</th>\n",
       "      <td>traffic</td>\n",
       "      <td>Multivariate</td>\n",
       "      <td>Regression</td>\n",
       "      <td>traffic_volume</td>\n",
       "      <td>NaN</td>\n",
       "      <td>48204</td>\n",
       "      <td>8</td>\n",
       "      <td>N</td>\n",
       "    </tr>\n",
       "  </tbody>\n",
       "</table>\n",
       "</div>"
      ],
      "text/plain": [
       "                             Dataset    Data Types  \\\n",
       "0                            anomaly  Multivariate   \n",
       "1                             france  Multivariate   \n",
       "2                            germany  Multivariate   \n",
       "3                               bank  Multivariate   \n",
       "4                              blood  Multivariate   \n",
       "5                             cancer  Multivariate   \n",
       "6                             credit  Multivariate   \n",
       "7                           diabetes  Multivariate   \n",
       "8                    electrical_grid  Multivariate   \n",
       "9                           employee  Multivariate   \n",
       "10                             heart  Multivariate   \n",
       "11                     heart_disease  Multivariate   \n",
       "12                         hepatitis  Multivariate   \n",
       "13                            income  Multivariate   \n",
       "14                             juice  Multivariate   \n",
       "15                               nba  Multivariate   \n",
       "16                              wine  Multivariate   \n",
       "17                         telescope  Multivariate   \n",
       "18                           titanic  Multivariate   \n",
       "19  us_presidential_election_results  Multivariate   \n",
       "20                             glass  Multivariate   \n",
       "21                              iris  Multivariate   \n",
       "22                             poker  Multivariate   \n",
       "23                         questions  Multivariate   \n",
       "24                         satellite  Multivariate   \n",
       "25                               CTG  Multivariate   \n",
       "26                          asia_gdp  Multivariate   \n",
       "27                         elections  Multivariate   \n",
       "28                          facebook  Multivariate   \n",
       "29                               ipl  Multivariate   \n",
       "30                         jewellery  Multivariate   \n",
       "31                              mice  Multivariate   \n",
       "32                         migration  Multivariate   \n",
       "33                           perfume  Multivariate   \n",
       "34                           pokemon  Multivariate   \n",
       "35                        population  Multivariate   \n",
       "36                     public_health  Multivariate   \n",
       "37                             seeds  Multivariate   \n",
       "38                         wholesale  Multivariate   \n",
       "39                            tweets          Text   \n",
       "40                            amazon          Text   \n",
       "41                              kiva          Text   \n",
       "42                               spx          Text   \n",
       "43                         wikipedia          Text   \n",
       "44                        automobile  Multivariate   \n",
       "45                              bike  Multivariate   \n",
       "46                            boston  Multivariate   \n",
       "47                          concrete  Multivariate   \n",
       "48                           diamond  Multivariate   \n",
       "49                            energy  Multivariate   \n",
       "50                            forest  Multivariate   \n",
       "51                              gold  Multivariate   \n",
       "52                             house  Multivariate   \n",
       "53                         insurance  Multivariate   \n",
       "54                        parkinsons  Multivariate   \n",
       "55                           traffic  Multivariate   \n",
       "\n",
       "                   Default Task Target Variable 1 Target Variable 2  \\\n",
       "0             Anomaly Detection               NaN               NaN   \n",
       "1       Association Rule Mining         InvoiceNo       Description   \n",
       "2       Association Rule Mining         InvoiceNo       Description   \n",
       "3       Classification (Binary)           deposit               NaN   \n",
       "4       Classification (Binary)             Class               NaN   \n",
       "5       Classification (Binary)             Class               NaN   \n",
       "6       Classification (Binary)           default               NaN   \n",
       "7       Classification (Binary)    Class variable               NaN   \n",
       "8       Classification (Binary)             stabf               NaN   \n",
       "9       Classification (Binary)              left               NaN   \n",
       "10      Classification (Binary)             DEATH               NaN   \n",
       "11      Classification (Binary)           Disease               NaN   \n",
       "12      Classification (Binary)             Class               NaN   \n",
       "13      Classification (Binary)       income >50K               NaN   \n",
       "14      Classification (Binary)          Purchase               NaN   \n",
       "15      Classification (Binary)       TARGET_5Yrs               NaN   \n",
       "16      Classification (Binary)              type               NaN   \n",
       "17      Classification (Binary)             Class               NaN   \n",
       "18      Classification (Binary)          Survived               NaN   \n",
       "19      Classification (Binary)      party_winner               NaN   \n",
       "20  Classification (Multiclass)              Type               NaN   \n",
       "21  Classification (Multiclass)           species               NaN   \n",
       "22  Classification (Multiclass)             CLASS               NaN   \n",
       "23  Classification (Multiclass)     Next_Question               NaN   \n",
       "24  Classification (Multiclass)             Class               NaN   \n",
       "25  Classification (Multiclass)               NSP               NaN   \n",
       "26                   Clustering               NaN               NaN   \n",
       "27                   Clustering               NaN               NaN   \n",
       "28                   Clustering               NaN               NaN   \n",
       "29                   Clustering               NaN               NaN   \n",
       "30                   Clustering               NaN               NaN   \n",
       "31                   Clustering               NaN               NaN   \n",
       "32                   Clustering               NaN               NaN   \n",
       "33                   Clustering               NaN               NaN   \n",
       "34                   Clustering               NaN               NaN   \n",
       "35                   Clustering               NaN               NaN   \n",
       "36                   Clustering               NaN               NaN   \n",
       "37                   Clustering               NaN               NaN   \n",
       "38                   Clustering               NaN               NaN   \n",
       "39                          NLP             tweet               NaN   \n",
       "40         NLP / Classification        reviewText               NaN   \n",
       "41         NLP / Classification                en               NaN   \n",
       "42             NLP / Regression              text               NaN   \n",
       "43         NLP / Classification              Text               NaN   \n",
       "44                   Regression             price               NaN   \n",
       "45                   Regression               cnt               NaN   \n",
       "46                   Regression              medv               NaN   \n",
       "47                   Regression          strength               NaN   \n",
       "48                   Regression             Price               NaN   \n",
       "49                   Regression      Heating Load      Cooling Load   \n",
       "50                   Regression              area               NaN   \n",
       "51                   Regression         Gold_T+22               NaN   \n",
       "52                   Regression         SalePrice               NaN   \n",
       "53                   Regression           charges               NaN   \n",
       "54                   Regression               PPE               NaN   \n",
       "55                   Regression    traffic_volume               NaN   \n",
       "\n",
       "    # Instances  # Attributes Missing Values  \n",
       "0          1000            10              N  \n",
       "1          8557             8              N  \n",
       "2          9495             8              N  \n",
       "3         45211            17              N  \n",
       "4           748             5              N  \n",
       "5           683            10              N  \n",
       "6         24000            24              N  \n",
       "7           768             9              N  \n",
       "8         10000            14              N  \n",
       "9         14999            10              N  \n",
       "10          200            16              N  \n",
       "11          270            14              N  \n",
       "12          154            32              Y  \n",
       "13        32561            14              Y  \n",
       "14         1070            15              N  \n",
       "15         1340            21              N  \n",
       "16         6498            13              N  \n",
       "17        19020            11              N  \n",
       "18          891            11              Y  \n",
       "19          497             7              N  \n",
       "20          214            10              N  \n",
       "21          150             5              N  \n",
       "22       100000            11              N  \n",
       "23          499             4              N  \n",
       "24         6435            37              N  \n",
       "25         2129            40              Y  \n",
       "26           40            11              N  \n",
       "27         3195            54              Y  \n",
       "28         7050            12              N  \n",
       "29          153            25              N  \n",
       "30          505             4              N  \n",
       "31         1080            82              Y  \n",
       "32          233            12              N  \n",
       "33           20            29              N  \n",
       "34          800            13              Y  \n",
       "35          255            56              Y  \n",
       "36          224            21              N  \n",
       "37          210             7              N  \n",
       "38          440             8              N  \n",
       "39         8594             2              N  \n",
       "40        20000             2              N  \n",
       "41         6818             7              N  \n",
       "42          874             4              N  \n",
       "43          500             3              N  \n",
       "44          202            26              Y  \n",
       "45        17379            15              N  \n",
       "46          506            14              N  \n",
       "47         1030             9              N  \n",
       "48         6000             8              N  \n",
       "49          768            10              N  \n",
       "50          517            13              N  \n",
       "51         2558           121              N  \n",
       "52         1461            81              Y  \n",
       "53         1338             7              N  \n",
       "54         5875            22              N  \n",
       "55        48204             8              N  "
      ]
     },
     "metadata": {},
     "output_type": "display_data"
    }
   ],
   "source": [
    "all_datasets = get_data('index')"
   ]
  },
  {
   "cell_type": "code",
   "execution_count": 4,
   "metadata": {},
   "outputs": [
    {
     "data": {
      "text/html": [
       "<div>\n",
       "<style scoped>\n",
       "    .dataframe tbody tr th:only-of-type {\n",
       "        vertical-align: middle;\n",
       "    }\n",
       "\n",
       "    .dataframe tbody tr th {\n",
       "        vertical-align: top;\n",
       "    }\n",
       "\n",
       "    .dataframe thead th {\n",
       "        text-align: right;\n",
       "    }\n",
       "</style>\n",
       "<table border=\"1\" class=\"dataframe\">\n",
       "  <thead>\n",
       "    <tr style=\"text-align: right;\">\n",
       "      <th></th>\n",
       "      <th>#</th>\n",
       "      <th>Name</th>\n",
       "      <th>Type 1</th>\n",
       "      <th>Type 2</th>\n",
       "      <th>Total</th>\n",
       "      <th>HP</th>\n",
       "      <th>Attack</th>\n",
       "      <th>Defense</th>\n",
       "      <th>Sp. Atk</th>\n",
       "      <th>Sp. Def</th>\n",
       "      <th>Speed</th>\n",
       "      <th>Generation</th>\n",
       "      <th>Legendary</th>\n",
       "    </tr>\n",
       "  </thead>\n",
       "  <tbody>\n",
       "    <tr>\n",
       "      <th>0</th>\n",
       "      <td>1</td>\n",
       "      <td>Bulbasaur</td>\n",
       "      <td>Grass</td>\n",
       "      <td>Poison</td>\n",
       "      <td>318</td>\n",
       "      <td>45</td>\n",
       "      <td>49</td>\n",
       "      <td>49</td>\n",
       "      <td>65</td>\n",
       "      <td>65</td>\n",
       "      <td>45</td>\n",
       "      <td>1</td>\n",
       "      <td>False</td>\n",
       "    </tr>\n",
       "    <tr>\n",
       "      <th>1</th>\n",
       "      <td>2</td>\n",
       "      <td>Ivysaur</td>\n",
       "      <td>Grass</td>\n",
       "      <td>Poison</td>\n",
       "      <td>405</td>\n",
       "      <td>60</td>\n",
       "      <td>62</td>\n",
       "      <td>63</td>\n",
       "      <td>80</td>\n",
       "      <td>80</td>\n",
       "      <td>60</td>\n",
       "      <td>1</td>\n",
       "      <td>False</td>\n",
       "    </tr>\n",
       "    <tr>\n",
       "      <th>2</th>\n",
       "      <td>3</td>\n",
       "      <td>Venusaur</td>\n",
       "      <td>Grass</td>\n",
       "      <td>Poison</td>\n",
       "      <td>525</td>\n",
       "      <td>80</td>\n",
       "      <td>82</td>\n",
       "      <td>83</td>\n",
       "      <td>100</td>\n",
       "      <td>100</td>\n",
       "      <td>80</td>\n",
       "      <td>1</td>\n",
       "      <td>False</td>\n",
       "    </tr>\n",
       "    <tr>\n",
       "      <th>3</th>\n",
       "      <td>3</td>\n",
       "      <td>VenusaurMega Venusaur</td>\n",
       "      <td>Grass</td>\n",
       "      <td>Poison</td>\n",
       "      <td>625</td>\n",
       "      <td>80</td>\n",
       "      <td>100</td>\n",
       "      <td>123</td>\n",
       "      <td>122</td>\n",
       "      <td>120</td>\n",
       "      <td>80</td>\n",
       "      <td>1</td>\n",
       "      <td>False</td>\n",
       "    </tr>\n",
       "    <tr>\n",
       "      <th>4</th>\n",
       "      <td>4</td>\n",
       "      <td>Charmander</td>\n",
       "      <td>Fire</td>\n",
       "      <td>NaN</td>\n",
       "      <td>309</td>\n",
       "      <td>39</td>\n",
       "      <td>52</td>\n",
       "      <td>43</td>\n",
       "      <td>60</td>\n",
       "      <td>50</td>\n",
       "      <td>65</td>\n",
       "      <td>1</td>\n",
       "      <td>False</td>\n",
       "    </tr>\n",
       "  </tbody>\n",
       "</table>\n",
       "</div>"
      ],
      "text/plain": [
       "   #                   Name Type 1  Type 2  Total  HP  Attack  Defense  \\\n",
       "0  1              Bulbasaur  Grass  Poison    318  45      49       49   \n",
       "1  2                Ivysaur  Grass  Poison    405  60      62       63   \n",
       "2  3               Venusaur  Grass  Poison    525  80      82       83   \n",
       "3  3  VenusaurMega Venusaur  Grass  Poison    625  80     100      123   \n",
       "4  4             Charmander   Fire     NaN    309  39      52       43   \n",
       "\n",
       "   Sp. Atk  Sp. Def  Speed  Generation  Legendary  \n",
       "0       65       65     45           1      False  \n",
       "1       80       80     60           1      False  \n",
       "2      100      100     80           1      False  \n",
       "3      122      120     80           1      False  \n",
       "4       60       50     65           1      False  "
      ]
     },
     "metadata": {},
     "output_type": "display_data"
    }
   ],
   "source": [
    "# Grab data\n",
    "\n",
    "df = get_data('pokemon')"
   ]
  },
  {
   "cell_type": "code",
   "execution_count": 5,
   "metadata": {},
   "outputs": [
    {
     "name": "stdout",
     "output_type": "stream",
     "text": [
      "<class 'pandas.core.frame.DataFrame'>\n",
      "RangeIndex: 800 entries, 0 to 799\n",
      "Data columns (total 13 columns):\n",
      " #   Column      Non-Null Count  Dtype \n",
      "---  ------      --------------  ----- \n",
      " 0   #           800 non-null    int64 \n",
      " 1   Name        800 non-null    object\n",
      " 2   Type 1      800 non-null    object\n",
      " 3   Type 2      414 non-null    object\n",
      " 4   Total       800 non-null    int64 \n",
      " 5   HP          800 non-null    int64 \n",
      " 6   Attack      800 non-null    int64 \n",
      " 7   Defense     800 non-null    int64 \n",
      " 8   Sp. Atk     800 non-null    int64 \n",
      " 9   Sp. Def     800 non-null    int64 \n",
      " 10  Speed       800 non-null    int64 \n",
      " 11  Generation  800 non-null    int64 \n",
      " 12  Legendary   800 non-null    bool  \n",
      "dtypes: bool(1), int64(9), object(3)\n",
      "memory usage: 75.9+ KB\n"
     ]
    }
   ],
   "source": [
    "df.info()"
   ]
  },
  {
   "cell_type": "code",
   "execution_count": 6,
   "metadata": {},
   "outputs": [],
   "source": [
    "# Drop useless colums\n",
    "\n",
    "df = df.drop(['#', 'Name'], axis = 1)"
   ]
  },
  {
   "cell_type": "code",
   "execution_count": 7,
   "metadata": {},
   "outputs": [
    {
     "data": {
      "image/png": "[encoded data removed]",
      "text/plain": [
       "<Figure size 800x550 with 1 Axes>"
      ]
     },
     "metadata": {},
     "output_type": "display_data"
    }
   ],
   "source": [
    "# Show boxplots\n",
    "\n",
    "df.boxplot()\n",
    "plt.show()"
   ]
  },
  {
   "cell_type": "code",
   "execution_count": 8,
   "metadata": {},
   "outputs": [
    {
     "data": {
      "text/html": [
       "<div>\n",
       "<style scoped>\n",
       "    .dataframe tbody tr th:only-of-type {\n",
       "        vertical-align: middle;\n",
       "    }\n",
       "\n",
       "    .dataframe tbody tr th {\n",
       "        vertical-align: top;\n",
       "    }\n",
       "\n",
       "    .dataframe thead th {\n",
       "        text-align: right;\n",
       "    }\n",
       "</style>\n",
       "<table border=\"1\" class=\"dataframe\">\n",
       "  <thead>\n",
       "    <tr style=\"text-align: right;\">\n",
       "      <th></th>\n",
       "      <th>Type 1</th>\n",
       "      <th>Type 2</th>\n",
       "      <th>Total</th>\n",
       "      <th>HP</th>\n",
       "      <th>Attack</th>\n",
       "      <th>Defense</th>\n",
       "      <th>Sp. Atk</th>\n",
       "      <th>Sp. Def</th>\n",
       "      <th>Speed</th>\n",
       "      <th>Generation</th>\n",
       "      <th>Legendary</th>\n",
       "    </tr>\n",
       "  </thead>\n",
       "  <tbody>\n",
       "    <tr>\n",
       "      <th>0</th>\n",
       "      <td>9</td>\n",
       "      <td>13</td>\n",
       "      <td>318</td>\n",
       "      <td>45</td>\n",
       "      <td>49</td>\n",
       "      <td>49</td>\n",
       "      <td>65</td>\n",
       "      <td>65</td>\n",
       "      <td>45</td>\n",
       "      <td>1</td>\n",
       "      <td>0</td>\n",
       "    </tr>\n",
       "    <tr>\n",
       "      <th>1</th>\n",
       "      <td>9</td>\n",
       "      <td>13</td>\n",
       "      <td>405</td>\n",
       "      <td>60</td>\n",
       "      <td>62</td>\n",
       "      <td>63</td>\n",
       "      <td>80</td>\n",
       "      <td>80</td>\n",
       "      <td>60</td>\n",
       "      <td>1</td>\n",
       "      <td>0</td>\n",
       "    </tr>\n",
       "    <tr>\n",
       "      <th>2</th>\n",
       "      <td>9</td>\n",
       "      <td>13</td>\n",
       "      <td>525</td>\n",
       "      <td>80</td>\n",
       "      <td>82</td>\n",
       "      <td>83</td>\n",
       "      <td>100</td>\n",
       "      <td>100</td>\n",
       "      <td>80</td>\n",
       "      <td>1</td>\n",
       "      <td>0</td>\n",
       "    </tr>\n",
       "    <tr>\n",
       "      <th>3</th>\n",
       "      <td>9</td>\n",
       "      <td>13</td>\n",
       "      <td>625</td>\n",
       "      <td>80</td>\n",
       "      <td>100</td>\n",
       "      <td>123</td>\n",
       "      <td>122</td>\n",
       "      <td>120</td>\n",
       "      <td>80</td>\n",
       "      <td>1</td>\n",
       "      <td>0</td>\n",
       "    </tr>\n",
       "    <tr>\n",
       "      <th>4</th>\n",
       "      <td>6</td>\n",
       "      <td>18</td>\n",
       "      <td>309</td>\n",
       "      <td>39</td>\n",
       "      <td>52</td>\n",
       "      <td>43</td>\n",
       "      <td>60</td>\n",
       "      <td>50</td>\n",
       "      <td>65</td>\n",
       "      <td>1</td>\n",
       "      <td>0</td>\n",
       "    </tr>\n",
       "  </tbody>\n",
       "</table>\n",
       "</div>"
      ],
      "text/plain": [
       "   Type 1  Type 2  Total  HP  Attack  Defense  Sp. Atk  Sp. Def  Speed  \\\n",
       "0       9      13    318  45      49       49       65       65     45   \n",
       "1       9      13    405  60      62       63       80       80     60   \n",
       "2       9      13    525  80      82       83      100      100     80   \n",
       "3       9      13    625  80     100      123      122      120     80   \n",
       "4       6      18    309  39      52       43       60       50     65   \n",
       "\n",
       "   Generation  Legendary  \n",
       "0           1          0  \n",
       "1           1          0  \n",
       "2           1          0  \n",
       "3           1          0  \n",
       "4           1          0  "
      ]
     },
     "execution_count": 8,
     "metadata": {},
     "output_type": "execute_result"
    }
   ],
   "source": [
    "# Make encoder categorical features with numbrs \n",
    "\n",
    "from sklearn.preprocessing import LabelEncoder\n",
    "\n",
    "encoder = LabelEncoder()\n",
    "for i in ['Type 1', 'Type 2', 'Legendary']:\n",
    "    df[i] = encoder.fit_transform(df[i])\n",
    "\n",
    "df.head()"
   ]
  },
  {
   "cell_type": "code",
   "execution_count": 9,
   "metadata": {},
   "outputs": [
    {
     "data": {
      "image/png": "[encoded data removed]",
      "text/plain": [
       "<Figure size 800x550 with 1 Axes>"
      ]
     },
     "metadata": {},
     "output_type": "display_data"
    },
    {
     "name": "stderr",
     "output_type": "stream",
     "text": [
      "2024/03/02 16:59:45 INFO mlflow.tracking.fluent: Autologging successfully enabled for statsmodels.\n",
      "2024/03/02 16:59:45 INFO mlflow.tracking.fluent: Autologging successfully enabled for sklearn.\n"
     ]
    }
   ],
   "source": [
    "# Show elbow method\n",
    "\n",
    "from sklearn.cluster import KMeans\n",
    "from scipy.spatial.distance import cdist\n",
    "import numpy as np\n",
    "\n",
    "distortions = []\n",
    "\n",
    "for k in range(1, 20):\n",
    "    kmeans = KMeans(n_clusters = k, random_state = 42)\n",
    "    kmeans.fit(df)\n",
    "    distortions.append(sum(np.min(cdist(df, kmeans.cluster_centers_, 'euclidean'), axis = 1)) / df.shape[0])\n",
    "\n",
    "\n",
    "plt.plot(range(1, 20), distortions, marker = 'o')\n",
    "plt.title('Elbow Method')\n",
    "plt.xlabel('Number of Clusters')\n",
    "plt.ylabel('Distortion')\n",
    "plt.show()"
   ]
  },
  {
   "cell_type": "code",
   "execution_count": 10,
   "metadata": {},
   "outputs": [
    {
     "name": "stderr",
     "output_type": "stream",
     "text": [
      "2024/03/02 16:59:45 INFO mlflow.tracking.fluent: Autologging successfully enabled for statsmodels.\n",
      "2024/03/02 16:59:45 INFO mlflow.tracking.fluent: Autologging successfully enabled for sklearn.\n"
     ]
    }
   ],
   "source": [
    "# Enable mlflow autologgining\n",
    "\n",
    "mlflow.autolog()"
   ]
  },
  {
   "cell_type": "code",
   "execution_count": 11,
   "metadata": {},
   "outputs": [
    {
     "data": {
      "text/html": [
       "<style type=\"text/css\">\n",
       "#T_be4bf_row4_col1, #T_be4bf_row8_col1 {\n",
       "  background-color: lightgreen;\n",
       "}\n",
       "</style>\n",
       "<table id=\"T_be4bf\">\n",
       "  <thead>\n",
       "    <tr>\n",
       "      <th class=\"blank level0\" >&nbsp;</th>\n",
       "      <th id=\"T_be4bf_level0_col0\" class=\"col_heading level0 col0\" >Description</th>\n",
       "      <th id=\"T_be4bf_level0_col1\" class=\"col_heading level0 col1\" >Value</th>\n",
       "    </tr>\n",
       "  </thead>\n",
       "  <tbody>\n",
       "    <tr>\n",
       "      <th id=\"T_be4bf_level0_row0\" class=\"row_heading level0 row0\" >0</th>\n",
       "      <td id=\"T_be4bf_row0_col0\" class=\"data row0 col0\" >Session id</td>\n",
       "      <td id=\"T_be4bf_row0_col1\" class=\"data row0 col1\" >1212</td>\n",
       "    </tr>\n",
       "    <tr>\n",
       "      <th id=\"T_be4bf_level0_row1\" class=\"row_heading level0 row1\" >1</th>\n",
       "      <td id=\"T_be4bf_row1_col0\" class=\"data row1 col0\" >Original data shape</td>\n",
       "      <td id=\"T_be4bf_row1_col1\" class=\"data row1 col1\" >(800, 11)</td>\n",
       "    </tr>\n",
       "    <tr>\n",
       "      <th id=\"T_be4bf_level0_row2\" class=\"row_heading level0 row2\" >2</th>\n",
       "      <td id=\"T_be4bf_row2_col0\" class=\"data row2 col0\" >Transformed data shape</td>\n",
       "      <td id=\"T_be4bf_row2_col1\" class=\"data row2 col1\" >(800, 11)</td>\n",
       "    </tr>\n",
       "    <tr>\n",
       "      <th id=\"T_be4bf_level0_row3\" class=\"row_heading level0 row3\" >3</th>\n",
       "      <td id=\"T_be4bf_row3_col0\" class=\"data row3 col0\" >Numeric features</td>\n",
       "      <td id=\"T_be4bf_row3_col1\" class=\"data row3 col1\" >11</td>\n",
       "    </tr>\n",
       "    <tr>\n",
       "      <th id=\"T_be4bf_level0_row4\" class=\"row_heading level0 row4\" >4</th>\n",
       "      <td id=\"T_be4bf_row4_col0\" class=\"data row4 col0\" >Preprocess</td>\n",
       "      <td id=\"T_be4bf_row4_col1\" class=\"data row4 col1\" >True</td>\n",
       "    </tr>\n",
       "    <tr>\n",
       "      <th id=\"T_be4bf_level0_row5\" class=\"row_heading level0 row5\" >5</th>\n",
       "      <td id=\"T_be4bf_row5_col0\" class=\"data row5 col0\" >Imputation type</td>\n",
       "      <td id=\"T_be4bf_row5_col1\" class=\"data row5 col1\" >simple</td>\n",
       "    </tr>\n",
       "    <tr>\n",
       "      <th id=\"T_be4bf_level0_row6\" class=\"row_heading level0 row6\" >6</th>\n",
       "      <td id=\"T_be4bf_row6_col0\" class=\"data row6 col0\" >Numeric imputation</td>\n",
       "      <td id=\"T_be4bf_row6_col1\" class=\"data row6 col1\" >mean</td>\n",
       "    </tr>\n",
       "    <tr>\n",
       "      <th id=\"T_be4bf_level0_row7\" class=\"row_heading level0 row7\" >7</th>\n",
       "      <td id=\"T_be4bf_row7_col0\" class=\"data row7 col0\" >Categorical imputation</td>\n",
       "      <td id=\"T_be4bf_row7_col1\" class=\"data row7 col1\" >mode</td>\n",
       "    </tr>\n",
       "    <tr>\n",
       "      <th id=\"T_be4bf_level0_row8\" class=\"row_heading level0 row8\" >8</th>\n",
       "      <td id=\"T_be4bf_row8_col0\" class=\"data row8 col0\" >Normalize</td>\n",
       "      <td id=\"T_be4bf_row8_col1\" class=\"data row8 col1\" >True</td>\n",
       "    </tr>\n",
       "    <tr>\n",
       "      <th id=\"T_be4bf_level0_row9\" class=\"row_heading level0 row9\" >9</th>\n",
       "      <td id=\"T_be4bf_row9_col0\" class=\"data row9 col0\" >Normalize method</td>\n",
       "      <td id=\"T_be4bf_row9_col1\" class=\"data row9 col1\" >zscore</td>\n",
       "    </tr>\n",
       "    <tr>\n",
       "      <th id=\"T_be4bf_level0_row10\" class=\"row_heading level0 row10\" >10</th>\n",
       "      <td id=\"T_be4bf_row10_col0\" class=\"data row10 col0\" >CPU Jobs</td>\n",
       "      <td id=\"T_be4bf_row10_col1\" class=\"data row10 col1\" >-1</td>\n",
       "    </tr>\n",
       "    <tr>\n",
       "      <th id=\"T_be4bf_level0_row11\" class=\"row_heading level0 row11\" >11</th>\n",
       "      <td id=\"T_be4bf_row11_col0\" class=\"data row11 col0\" >Use GPU</td>\n",
       "      <td id=\"T_be4bf_row11_col1\" class=\"data row11 col1\" >False</td>\n",
       "    </tr>\n",
       "    <tr>\n",
       "      <th id=\"T_be4bf_level0_row12\" class=\"row_heading level0 row12\" >12</th>\n",
       "      <td id=\"T_be4bf_row12_col0\" class=\"data row12 col0\" >Log Experiment</td>\n",
       "      <td id=\"T_be4bf_row12_col1\" class=\"data row12 col1\" >MlflowLogger</td>\n",
       "    </tr>\n",
       "    <tr>\n",
       "      <th id=\"T_be4bf_level0_row13\" class=\"row_heading level0 row13\" >13</th>\n",
       "      <td id=\"T_be4bf_row13_col0\" class=\"data row13 col0\" >Experiment Name</td>\n",
       "      <td id=\"T_be4bf_row13_col1\" class=\"data row13 col1\" >pockemon_0</td>\n",
       "    </tr>\n",
       "    <tr>\n",
       "      <th id=\"T_be4bf_level0_row14\" class=\"row_heading level0 row14\" >14</th>\n",
       "      <td id=\"T_be4bf_row14_col0\" class=\"data row14 col0\" >USI</td>\n",
       "      <td id=\"T_be4bf_row14_col1\" class=\"data row14 col1\" >37d3</td>\n",
       "    </tr>\n",
       "  </tbody>\n",
       "</table>\n"
      ],
      "text/plain": [
       "<pandas.io.formats.style.Styler at 0x7f0e6c14b3a0>"
      ]
     },
     "metadata": {},
     "output_type": "display_data"
    },
    {
     "name": "stderr",
     "output_type": "stream",
     "text": [
      "2024/03/02 16:59:46 INFO mlflow.tracking.fluent: Experiment with name 'pockemon_0' does not exist. Creating a new experiment.\n"
     ]
    }
   ],
   "source": [
    "from pycaret.clustering import *\n",
    "\n",
    "s = setup(df, session_id = 1212,\n",
    "           log_experiment = True, experiment_name = 'pockemon_0', normalize = True)"
   ]
  },
  {
   "cell_type": "code",
   "execution_count": 12,
   "metadata": {},
   "outputs": [
    {
     "data": {
      "text/html": [],
      "text/plain": [
       "<IPython.core.display.HTML object>"
      ]
     },
     "metadata": {},
     "output_type": "display_data"
    },
    {
     "data": {
      "text/html": [
       "<style type=\"text/css\">\n",
       "</style>\n",
       "<table id=\"T_c9a61\">\n",
       "  <thead>\n",
       "    <tr>\n",
       "      <th class=\"blank level0\" >&nbsp;</th>\n",
       "      <th id=\"T_c9a61_level0_col0\" class=\"col_heading level0 col0\" >Silhouette</th>\n",
       "      <th id=\"T_c9a61_level0_col1\" class=\"col_heading level0 col1\" >Calinski-Harabasz</th>\n",
       "      <th id=\"T_c9a61_level0_col2\" class=\"col_heading level0 col2\" >Davies-Bouldin</th>\n",
       "      <th id=\"T_c9a61_level0_col3\" class=\"col_heading level0 col3\" >Homogeneity</th>\n",
       "      <th id=\"T_c9a61_level0_col4\" class=\"col_heading level0 col4\" >Rand Index</th>\n",
       "      <th id=\"T_c9a61_level0_col5\" class=\"col_heading level0 col5\" >Completeness</th>\n",
       "    </tr>\n",
       "  </thead>\n",
       "  <tbody>\n",
       "    <tr>\n",
       "      <th id=\"T_c9a61_level0_row0\" class=\"row_heading level0 row0\" >0</th>\n",
       "      <td id=\"T_c9a61_row0_col0\" class=\"data row0 col0\" >0.1415</td>\n",
       "      <td id=\"T_c9a61_row0_col1\" class=\"data row0 col1\" >172.6402</td>\n",
       "      <td id=\"T_c9a61_row0_col2\" class=\"data row0 col2\" >1.8652</td>\n",
       "      <td id=\"T_c9a61_row0_col3\" class=\"data row0 col3\" >0</td>\n",
       "      <td id=\"T_c9a61_row0_col4\" class=\"data row0 col4\" >0</td>\n",
       "      <td id=\"T_c9a61_row0_col5\" class=\"data row0 col5\" >0</td>\n",
       "    </tr>\n",
       "  </tbody>\n",
       "</table>\n"
      ],
      "text/plain": [
       "<pandas.io.formats.style.Styler at 0x7f0e6c139090>"
      ]
     },
     "metadata": {},
     "output_type": "display_data"
    },
    {
     "data": {
      "text/html": [],
      "text/plain": [
       "<IPython.core.display.HTML object>"
      ]
     },
     "metadata": {},
     "output_type": "display_data"
    }
   ],
   "source": [
    "# Fit model\n",
    "\n",
    "model = create_model('kmeans')\n",
    "\n",
    "# save metrics cause mlflow for some reason do not want do it himself\n",
    "metrics_dict = pull()\n",
    "for metric_name, metric_value in metrics_dict.items():\n",
    "    numeric_value = metric_value.values[0]\n",
    "\n",
    "    mlflow.log_metrics({metric_name: numeric_value})"
   ]
  },
  {
   "cell_type": "code",
   "execution_count": 13,
   "metadata": {},
   "outputs": [
    {
     "data": {
      "text/html": [
       "<style type=\"text/css\">\n",
       "#T_07446_row4_col1, #T_07446_row8_col1 {\n",
       "  background-color: lightgreen;\n",
       "}\n",
       "</style>\n",
       "<table id=\"T_07446\">\n",
       "  <thead>\n",
       "    <tr>\n",
       "      <th class=\"blank level0\" >&nbsp;</th>\n",
       "      <th id=\"T_07446_level0_col0\" class=\"col_heading level0 col0\" >Description</th>\n",
       "      <th id=\"T_07446_level0_col1\" class=\"col_heading level0 col1\" >Value</th>\n",
       "    </tr>\n",
       "  </thead>\n",
       "  <tbody>\n",
       "    <tr>\n",
       "      <th id=\"T_07446_level0_row0\" class=\"row_heading level0 row0\" >0</th>\n",
       "      <td id=\"T_07446_row0_col0\" class=\"data row0 col0\" >Session id</td>\n",
       "      <td id=\"T_07446_row0_col1\" class=\"data row0 col1\" >1212</td>\n",
       "    </tr>\n",
       "    <tr>\n",
       "      <th id=\"T_07446_level0_row1\" class=\"row_heading level0 row1\" >1</th>\n",
       "      <td id=\"T_07446_row1_col0\" class=\"data row1 col0\" >Original data shape</td>\n",
       "      <td id=\"T_07446_row1_col1\" class=\"data row1 col1\" >(800, 11)</td>\n",
       "    </tr>\n",
       "    <tr>\n",
       "      <th id=\"T_07446_level0_row2\" class=\"row_heading level0 row2\" >2</th>\n",
       "      <td id=\"T_07446_row2_col0\" class=\"data row2 col0\" >Transformed data shape</td>\n",
       "      <td id=\"T_07446_row2_col1\" class=\"data row2 col1\" >(800, 11)</td>\n",
       "    </tr>\n",
       "    <tr>\n",
       "      <th id=\"T_07446_level0_row3\" class=\"row_heading level0 row3\" >3</th>\n",
       "      <td id=\"T_07446_row3_col0\" class=\"data row3 col0\" >Numeric features</td>\n",
       "      <td id=\"T_07446_row3_col1\" class=\"data row3 col1\" >11</td>\n",
       "    </tr>\n",
       "    <tr>\n",
       "      <th id=\"T_07446_level0_row4\" class=\"row_heading level0 row4\" >4</th>\n",
       "      <td id=\"T_07446_row4_col0\" class=\"data row4 col0\" >Preprocess</td>\n",
       "      <td id=\"T_07446_row4_col1\" class=\"data row4 col1\" >True</td>\n",
       "    </tr>\n",
       "    <tr>\n",
       "      <th id=\"T_07446_level0_row5\" class=\"row_heading level0 row5\" >5</th>\n",
       "      <td id=\"T_07446_row5_col0\" class=\"data row5 col0\" >Imputation type</td>\n",
       "      <td id=\"T_07446_row5_col1\" class=\"data row5 col1\" >simple</td>\n",
       "    </tr>\n",
       "    <tr>\n",
       "      <th id=\"T_07446_level0_row6\" class=\"row_heading level0 row6\" >6</th>\n",
       "      <td id=\"T_07446_row6_col0\" class=\"data row6 col0\" >Numeric imputation</td>\n",
       "      <td id=\"T_07446_row6_col1\" class=\"data row6 col1\" >mean</td>\n",
       "    </tr>\n",
       "    <tr>\n",
       "      <th id=\"T_07446_level0_row7\" class=\"row_heading level0 row7\" >7</th>\n",
       "      <td id=\"T_07446_row7_col0\" class=\"data row7 col0\" >Categorical imputation</td>\n",
       "      <td id=\"T_07446_row7_col1\" class=\"data row7 col1\" >mode</td>\n",
       "    </tr>\n",
       "    <tr>\n",
       "      <th id=\"T_07446_level0_row8\" class=\"row_heading level0 row8\" >8</th>\n",
       "      <td id=\"T_07446_row8_col0\" class=\"data row8 col0\" >Normalize</td>\n",
       "      <td id=\"T_07446_row8_col1\" class=\"data row8 col1\" >True</td>\n",
       "    </tr>\n",
       "    <tr>\n",
       "      <th id=\"T_07446_level0_row9\" class=\"row_heading level0 row9\" >9</th>\n",
       "      <td id=\"T_07446_row9_col0\" class=\"data row9 col0\" >Normalize method</td>\n",
       "      <td id=\"T_07446_row9_col1\" class=\"data row9 col1\" >zscore</td>\n",
       "    </tr>\n",
       "    <tr>\n",
       "      <th id=\"T_07446_level0_row10\" class=\"row_heading level0 row10\" >10</th>\n",
       "      <td id=\"T_07446_row10_col0\" class=\"data row10 col0\" >CPU Jobs</td>\n",
       "      <td id=\"T_07446_row10_col1\" class=\"data row10 col1\" >-1</td>\n",
       "    </tr>\n",
       "    <tr>\n",
       "      <th id=\"T_07446_level0_row11\" class=\"row_heading level0 row11\" >11</th>\n",
       "      <td id=\"T_07446_row11_col0\" class=\"data row11 col0\" >Use GPU</td>\n",
       "      <td id=\"T_07446_row11_col1\" class=\"data row11 col1\" >False</td>\n",
       "    </tr>\n",
       "    <tr>\n",
       "      <th id=\"T_07446_level0_row12\" class=\"row_heading level0 row12\" >12</th>\n",
       "      <td id=\"T_07446_row12_col0\" class=\"data row12 col0\" >Log Experiment</td>\n",
       "      <td id=\"T_07446_row12_col1\" class=\"data row12 col1\" >MlflowLogger</td>\n",
       "    </tr>\n",
       "    <tr>\n",
       "      <th id=\"T_07446_level0_row13\" class=\"row_heading level0 row13\" >13</th>\n",
       "      <td id=\"T_07446_row13_col0\" class=\"data row13 col0\" >Experiment Name</td>\n",
       "      <td id=\"T_07446_row13_col1\" class=\"data row13 col1\" >pockemon_1</td>\n",
       "    </tr>\n",
       "    <tr>\n",
       "      <th id=\"T_07446_level0_row14\" class=\"row_heading level0 row14\" >14</th>\n",
       "      <td id=\"T_07446_row14_col0\" class=\"data row14 col0\" >USI</td>\n",
       "      <td id=\"T_07446_row14_col1\" class=\"data row14 col1\" >d4a1</td>\n",
       "    </tr>\n",
       "  </tbody>\n",
       "</table>\n"
      ],
      "text/plain": [
       "<pandas.io.formats.style.Styler at 0x7f0e7e811390>"
      ]
     },
     "metadata": {},
     "output_type": "display_data"
    },
    {
     "name": "stderr",
     "output_type": "stream",
     "text": [
      "2024/03/02 16:59:51 INFO mlflow.tracking.fluent: Experiment with name 'pockemon_1' does not exist. Creating a new experiment.\n"
     ]
    },
    {
     "data": {
      "text/html": [],
      "text/plain": [
       "<IPython.core.display.HTML object>"
      ]
     },
     "metadata": {},
     "output_type": "display_data"
    },
    {
     "data": {
      "text/html": [
       "<style type=\"text/css\">\n",
       "</style>\n",
       "<table id=\"T_7d085\">\n",
       "  <thead>\n",
       "    <tr>\n",
       "      <th class=\"blank level0\" >&nbsp;</th>\n",
       "      <th id=\"T_7d085_level0_col0\" class=\"col_heading level0 col0\" >Silhouette</th>\n",
       "      <th id=\"T_7d085_level0_col1\" class=\"col_heading level0 col1\" >Calinski-Harabasz</th>\n",
       "      <th id=\"T_7d085_level0_col2\" class=\"col_heading level0 col2\" >Davies-Bouldin</th>\n",
       "      <th id=\"T_7d085_level0_col3\" class=\"col_heading level0 col3\" >Homogeneity</th>\n",
       "      <th id=\"T_7d085_level0_col4\" class=\"col_heading level0 col4\" >Rand Index</th>\n",
       "      <th id=\"T_7d085_level0_col5\" class=\"col_heading level0 col5\" >Completeness</th>\n",
       "    </tr>\n",
       "  </thead>\n",
       "  <tbody>\n",
       "    <tr>\n",
       "      <th id=\"T_7d085_level0_row0\" class=\"row_heading level0 row0\" >0</th>\n",
       "      <td id=\"T_7d085_row0_col0\" class=\"data row0 col0\" >0.1231</td>\n",
       "      <td id=\"T_7d085_row0_col1\" class=\"data row0 col1\" >42.8682</td>\n",
       "      <td id=\"T_7d085_row0_col2\" class=\"data row0 col2\" >1.5406</td>\n",
       "      <td id=\"T_7d085_row0_col3\" class=\"data row0 col3\" >0</td>\n",
       "      <td id=\"T_7d085_row0_col4\" class=\"data row0 col4\" >0</td>\n",
       "      <td id=\"T_7d085_row0_col5\" class=\"data row0 col5\" >0</td>\n",
       "    </tr>\n",
       "  </tbody>\n",
       "</table>\n"
      ],
      "text/plain": [
       "<pandas.io.formats.style.Styler at 0x7f0e64275120>"
      ]
     },
     "metadata": {},
     "output_type": "display_data"
    },
    {
     "data": {
      "text/html": [],
      "text/plain": [
       "<IPython.core.display.HTML object>"
      ]
     },
     "metadata": {},
     "output_type": "display_data"
    }
   ],
   "source": [
    "# Try some others posible models...\n",
    "\n",
    "s = setup(df, session_id = 1212,\n",
    "           log_experiment = True, experiment_name = 'pockemon_1', normalize = True)\n",
    "model = create_model('ap')\n",
    "\n",
    "metrics_dict = pull()\n",
    "for metric_name, metric_value in metrics_dict.items():\n",
    "    numeric_value = metric_value.values[0]\n",
    "\n",
    "    mlflow.log_metrics({metric_name: numeric_value})"
   ]
  },
  {
   "cell_type": "code",
   "execution_count": 14,
   "metadata": {},
   "outputs": [
    {
     "data": {
      "text/html": [
       "<style type=\"text/css\">\n",
       "#T_7c978_row4_col1, #T_7c978_row8_col1 {\n",
       "  background-color: lightgreen;\n",
       "}\n",
       "</style>\n",
       "<table id=\"T_7c978\">\n",
       "  <thead>\n",
       "    <tr>\n",
       "      <th class=\"blank level0\" >&nbsp;</th>\n",
       "      <th id=\"T_7c978_level0_col0\" class=\"col_heading level0 col0\" >Description</th>\n",
       "      <th id=\"T_7c978_level0_col1\" class=\"col_heading level0 col1\" >Value</th>\n",
       "    </tr>\n",
       "  </thead>\n",
       "  <tbody>\n",
       "    <tr>\n",
       "      <th id=\"T_7c978_level0_row0\" class=\"row_heading level0 row0\" >0</th>\n",
       "      <td id=\"T_7c978_row0_col0\" class=\"data row0 col0\" >Session id</td>\n",
       "      <td id=\"T_7c978_row0_col1\" class=\"data row0 col1\" >1212</td>\n",
       "    </tr>\n",
       "    <tr>\n",
       "      <th id=\"T_7c978_level0_row1\" class=\"row_heading level0 row1\" >1</th>\n",
       "      <td id=\"T_7c978_row1_col0\" class=\"data row1 col0\" >Original data shape</td>\n",
       "      <td id=\"T_7c978_row1_col1\" class=\"data row1 col1\" >(800, 11)</td>\n",
       "    </tr>\n",
       "    <tr>\n",
       "      <th id=\"T_7c978_level0_row2\" class=\"row_heading level0 row2\" >2</th>\n",
       "      <td id=\"T_7c978_row2_col0\" class=\"data row2 col0\" >Transformed data shape</td>\n",
       "      <td id=\"T_7c978_row2_col1\" class=\"data row2 col1\" >(800, 11)</td>\n",
       "    </tr>\n",
       "    <tr>\n",
       "      <th id=\"T_7c978_level0_row3\" class=\"row_heading level0 row3\" >3</th>\n",
       "      <td id=\"T_7c978_row3_col0\" class=\"data row3 col0\" >Numeric features</td>\n",
       "      <td id=\"T_7c978_row3_col1\" class=\"data row3 col1\" >11</td>\n",
       "    </tr>\n",
       "    <tr>\n",
       "      <th id=\"T_7c978_level0_row4\" class=\"row_heading level0 row4\" >4</th>\n",
       "      <td id=\"T_7c978_row4_col0\" class=\"data row4 col0\" >Preprocess</td>\n",
       "      <td id=\"T_7c978_row4_col1\" class=\"data row4 col1\" >True</td>\n",
       "    </tr>\n",
       "    <tr>\n",
       "      <th id=\"T_7c978_level0_row5\" class=\"row_heading level0 row5\" >5</th>\n",
       "      <td id=\"T_7c978_row5_col0\" class=\"data row5 col0\" >Imputation type</td>\n",
       "      <td id=\"T_7c978_row5_col1\" class=\"data row5 col1\" >simple</td>\n",
       "    </tr>\n",
       "    <tr>\n",
       "      <th id=\"T_7c978_level0_row6\" class=\"row_heading level0 row6\" >6</th>\n",
       "      <td id=\"T_7c978_row6_col0\" class=\"data row6 col0\" >Numeric imputation</td>\n",
       "      <td id=\"T_7c978_row6_col1\" class=\"data row6 col1\" >mean</td>\n",
       "    </tr>\n",
       "    <tr>\n",
       "      <th id=\"T_7c978_level0_row7\" class=\"row_heading level0 row7\" >7</th>\n",
       "      <td id=\"T_7c978_row7_col0\" class=\"data row7 col0\" >Categorical imputation</td>\n",
       "      <td id=\"T_7c978_row7_col1\" class=\"data row7 col1\" >mode</td>\n",
       "    </tr>\n",
       "    <tr>\n",
       "      <th id=\"T_7c978_level0_row8\" class=\"row_heading level0 row8\" >8</th>\n",
       "      <td id=\"T_7c978_row8_col0\" class=\"data row8 col0\" >Normalize</td>\n",
       "      <td id=\"T_7c978_row8_col1\" class=\"data row8 col1\" >True</td>\n",
       "    </tr>\n",
       "    <tr>\n",
       "      <th id=\"T_7c978_level0_row9\" class=\"row_heading level0 row9\" >9</th>\n",
       "      <td id=\"T_7c978_row9_col0\" class=\"data row9 col0\" >Normalize method</td>\n",
       "      <td id=\"T_7c978_row9_col1\" class=\"data row9 col1\" >zscore</td>\n",
       "    </tr>\n",
       "    <tr>\n",
       "      <th id=\"T_7c978_level0_row10\" class=\"row_heading level0 row10\" >10</th>\n",
       "      <td id=\"T_7c978_row10_col0\" class=\"data row10 col0\" >CPU Jobs</td>\n",
       "      <td id=\"T_7c978_row10_col1\" class=\"data row10 col1\" >-1</td>\n",
       "    </tr>\n",
       "    <tr>\n",
       "      <th id=\"T_7c978_level0_row11\" class=\"row_heading level0 row11\" >11</th>\n",
       "      <td id=\"T_7c978_row11_col0\" class=\"data row11 col0\" >Use GPU</td>\n",
       "      <td id=\"T_7c978_row11_col1\" class=\"data row11 col1\" >False</td>\n",
       "    </tr>\n",
       "    <tr>\n",
       "      <th id=\"T_7c978_level0_row12\" class=\"row_heading level0 row12\" >12</th>\n",
       "      <td id=\"T_7c978_row12_col0\" class=\"data row12 col0\" >Log Experiment</td>\n",
       "      <td id=\"T_7c978_row12_col1\" class=\"data row12 col1\" >MlflowLogger</td>\n",
       "    </tr>\n",
       "    <tr>\n",
       "      <th id=\"T_7c978_level0_row13\" class=\"row_heading level0 row13\" >13</th>\n",
       "      <td id=\"T_7c978_row13_col0\" class=\"data row13 col0\" >Experiment Name</td>\n",
       "      <td id=\"T_7c978_row13_col1\" class=\"data row13 col1\" >pockemon_2</td>\n",
       "    </tr>\n",
       "    <tr>\n",
       "      <th id=\"T_7c978_level0_row14\" class=\"row_heading level0 row14\" >14</th>\n",
       "      <td id=\"T_7c978_row14_col0\" class=\"data row14 col0\" >USI</td>\n",
       "      <td id=\"T_7c978_row14_col1\" class=\"data row14 col1\" >927c</td>\n",
       "    </tr>\n",
       "  </tbody>\n",
       "</table>\n"
      ],
      "text/plain": [
       "<pandas.io.formats.style.Styler at 0x7f0e6c14b430>"
      ]
     },
     "metadata": {},
     "output_type": "display_data"
    },
    {
     "name": "stderr",
     "output_type": "stream",
     "text": [
      "2024/03/02 16:59:56 INFO mlflow.tracking.fluent: Experiment with name 'pockemon_2' does not exist. Creating a new experiment.\n"
     ]
    },
    {
     "data": {
      "text/html": [],
      "text/plain": [
       "<IPython.core.display.HTML object>"
      ]
     },
     "metadata": {},
     "output_type": "display_data"
    },
    {
     "data": {
      "text/html": [
       "<style type=\"text/css\">\n",
       "</style>\n",
       "<table id=\"T_ef43b\">\n",
       "  <thead>\n",
       "    <tr>\n",
       "      <th class=\"blank level0\" >&nbsp;</th>\n",
       "      <th id=\"T_ef43b_level0_col0\" class=\"col_heading level0 col0\" >Silhouette</th>\n",
       "      <th id=\"T_ef43b_level0_col1\" class=\"col_heading level0 col1\" >Calinski-Harabasz</th>\n",
       "      <th id=\"T_ef43b_level0_col2\" class=\"col_heading level0 col2\" >Davies-Bouldin</th>\n",
       "      <th id=\"T_ef43b_level0_col3\" class=\"col_heading level0 col3\" >Homogeneity</th>\n",
       "      <th id=\"T_ef43b_level0_col4\" class=\"col_heading level0 col4\" >Rand Index</th>\n",
       "      <th id=\"T_ef43b_level0_col5\" class=\"col_heading level0 col5\" >Completeness</th>\n",
       "    </tr>\n",
       "  </thead>\n",
       "  <tbody>\n",
       "    <tr>\n",
       "      <th id=\"T_ef43b_level0_row0\" class=\"row_heading level0 row0\" >0</th>\n",
       "      <td id=\"T_ef43b_row0_col0\" class=\"data row0 col0\" >0.3428</td>\n",
       "      <td id=\"T_ef43b_row0_col1\" class=\"data row0 col1\" >71.5688</td>\n",
       "      <td id=\"T_ef43b_row0_col2\" class=\"data row0 col2\" >0.9140</td>\n",
       "      <td id=\"T_ef43b_row0_col3\" class=\"data row0 col3\" >0</td>\n",
       "      <td id=\"T_ef43b_row0_col4\" class=\"data row0 col4\" >0</td>\n",
       "      <td id=\"T_ef43b_row0_col5\" class=\"data row0 col5\" >0</td>\n",
       "    </tr>\n",
       "  </tbody>\n",
       "</table>\n"
      ],
      "text/plain": [
       "<pandas.io.formats.style.Styler at 0x7f0e7e5d9bd0>"
      ]
     },
     "metadata": {},
     "output_type": "display_data"
    },
    {
     "data": {
      "text/html": [],
      "text/plain": [
       "<IPython.core.display.HTML object>"
      ]
     },
     "metadata": {},
     "output_type": "display_data"
    }
   ],
   "source": [
    "s = setup(df, session_id = 1212,\n",
    "           log_experiment = True, experiment_name = 'pockemon_2', normalize = True)\n",
    "\n",
    "model = create_model('meanshift')\n",
    "\n",
    "metrics_dict = pull()\n",
    "for metric_name, metric_value in metrics_dict.items():\n",
    "    numeric_value = metric_value.values[0]\n",
    "\n",
    "    mlflow.log_metrics({metric_name: numeric_value})"
   ]
  },
  {
   "cell_type": "code",
   "execution_count": 15,
   "metadata": {},
   "outputs": [
    {
     "data": {
      "text/html": [
       "<style type=\"text/css\">\n",
       "#T_39b1d_row4_col1, #T_39b1d_row8_col1 {\n",
       "  background-color: lightgreen;\n",
       "}\n",
       "</style>\n",
       "<table id=\"T_39b1d\">\n",
       "  <thead>\n",
       "    <tr>\n",
       "      <th class=\"blank level0\" >&nbsp;</th>\n",
       "      <th id=\"T_39b1d_level0_col0\" class=\"col_heading level0 col0\" >Description</th>\n",
       "      <th id=\"T_39b1d_level0_col1\" class=\"col_heading level0 col1\" >Value</th>\n",
       "    </tr>\n",
       "  </thead>\n",
       "  <tbody>\n",
       "    <tr>\n",
       "      <th id=\"T_39b1d_level0_row0\" class=\"row_heading level0 row0\" >0</th>\n",
       "      <td id=\"T_39b1d_row0_col0\" class=\"data row0 col0\" >Session id</td>\n",
       "      <td id=\"T_39b1d_row0_col1\" class=\"data row0 col1\" >1212</td>\n",
       "    </tr>\n",
       "    <tr>\n",
       "      <th id=\"T_39b1d_level0_row1\" class=\"row_heading level0 row1\" >1</th>\n",
       "      <td id=\"T_39b1d_row1_col0\" class=\"data row1 col0\" >Original data shape</td>\n",
       "      <td id=\"T_39b1d_row1_col1\" class=\"data row1 col1\" >(800, 11)</td>\n",
       "    </tr>\n",
       "    <tr>\n",
       "      <th id=\"T_39b1d_level0_row2\" class=\"row_heading level0 row2\" >2</th>\n",
       "      <td id=\"T_39b1d_row2_col0\" class=\"data row2 col0\" >Transformed data shape</td>\n",
       "      <td id=\"T_39b1d_row2_col1\" class=\"data row2 col1\" >(800, 11)</td>\n",
       "    </tr>\n",
       "    <tr>\n",
       "      <th id=\"T_39b1d_level0_row3\" class=\"row_heading level0 row3\" >3</th>\n",
       "      <td id=\"T_39b1d_row3_col0\" class=\"data row3 col0\" >Numeric features</td>\n",
       "      <td id=\"T_39b1d_row3_col1\" class=\"data row3 col1\" >11</td>\n",
       "    </tr>\n",
       "    <tr>\n",
       "      <th id=\"T_39b1d_level0_row4\" class=\"row_heading level0 row4\" >4</th>\n",
       "      <td id=\"T_39b1d_row4_col0\" class=\"data row4 col0\" >Preprocess</td>\n",
       "      <td id=\"T_39b1d_row4_col1\" class=\"data row4 col1\" >True</td>\n",
       "    </tr>\n",
       "    <tr>\n",
       "      <th id=\"T_39b1d_level0_row5\" class=\"row_heading level0 row5\" >5</th>\n",
       "      <td id=\"T_39b1d_row5_col0\" class=\"data row5 col0\" >Imputation type</td>\n",
       "      <td id=\"T_39b1d_row5_col1\" class=\"data row5 col1\" >simple</td>\n",
       "    </tr>\n",
       "    <tr>\n",
       "      <th id=\"T_39b1d_level0_row6\" class=\"row_heading level0 row6\" >6</th>\n",
       "      <td id=\"T_39b1d_row6_col0\" class=\"data row6 col0\" >Numeric imputation</td>\n",
       "      <td id=\"T_39b1d_row6_col1\" class=\"data row6 col1\" >mean</td>\n",
       "    </tr>\n",
       "    <tr>\n",
       "      <th id=\"T_39b1d_level0_row7\" class=\"row_heading level0 row7\" >7</th>\n",
       "      <td id=\"T_39b1d_row7_col0\" class=\"data row7 col0\" >Categorical imputation</td>\n",
       "      <td id=\"T_39b1d_row7_col1\" class=\"data row7 col1\" >mode</td>\n",
       "    </tr>\n",
       "    <tr>\n",
       "      <th id=\"T_39b1d_level0_row8\" class=\"row_heading level0 row8\" >8</th>\n",
       "      <td id=\"T_39b1d_row8_col0\" class=\"data row8 col0\" >Normalize</td>\n",
       "      <td id=\"T_39b1d_row8_col1\" class=\"data row8 col1\" >True</td>\n",
       "    </tr>\n",
       "    <tr>\n",
       "      <th id=\"T_39b1d_level0_row9\" class=\"row_heading level0 row9\" >9</th>\n",
       "      <td id=\"T_39b1d_row9_col0\" class=\"data row9 col0\" >Normalize method</td>\n",
       "      <td id=\"T_39b1d_row9_col1\" class=\"data row9 col1\" >zscore</td>\n",
       "    </tr>\n",
       "    <tr>\n",
       "      <th id=\"T_39b1d_level0_row10\" class=\"row_heading level0 row10\" >10</th>\n",
       "      <td id=\"T_39b1d_row10_col0\" class=\"data row10 col0\" >CPU Jobs</td>\n",
       "      <td id=\"T_39b1d_row10_col1\" class=\"data row10 col1\" >-1</td>\n",
       "    </tr>\n",
       "    <tr>\n",
       "      <th id=\"T_39b1d_level0_row11\" class=\"row_heading level0 row11\" >11</th>\n",
       "      <td id=\"T_39b1d_row11_col0\" class=\"data row11 col0\" >Use GPU</td>\n",
       "      <td id=\"T_39b1d_row11_col1\" class=\"data row11 col1\" >False</td>\n",
       "    </tr>\n",
       "    <tr>\n",
       "      <th id=\"T_39b1d_level0_row12\" class=\"row_heading level0 row12\" >12</th>\n",
       "      <td id=\"T_39b1d_row12_col0\" class=\"data row12 col0\" >Log Experiment</td>\n",
       "      <td id=\"T_39b1d_row12_col1\" class=\"data row12 col1\" >MlflowLogger</td>\n",
       "    </tr>\n",
       "    <tr>\n",
       "      <th id=\"T_39b1d_level0_row13\" class=\"row_heading level0 row13\" >13</th>\n",
       "      <td id=\"T_39b1d_row13_col0\" class=\"data row13 col0\" >Experiment Name</td>\n",
       "      <td id=\"T_39b1d_row13_col1\" class=\"data row13 col1\" >pockemon_3</td>\n",
       "    </tr>\n",
       "    <tr>\n",
       "      <th id=\"T_39b1d_level0_row14\" class=\"row_heading level0 row14\" >14</th>\n",
       "      <td id=\"T_39b1d_row14_col0\" class=\"data row14 col0\" >USI</td>\n",
       "      <td id=\"T_39b1d_row14_col1\" class=\"data row14 col1\" >573c</td>\n",
       "    </tr>\n",
       "  </tbody>\n",
       "</table>\n"
      ],
      "text/plain": [
       "<pandas.io.formats.style.Styler at 0x7f0e6c156d70>"
      ]
     },
     "metadata": {},
     "output_type": "display_data"
    },
    {
     "name": "stderr",
     "output_type": "stream",
     "text": [
      "2024/03/02 17:00:04 INFO mlflow.tracking.fluent: Experiment with name 'pockemon_3' does not exist. Creating a new experiment.\n"
     ]
    },
    {
     "data": {
      "text/html": [],
      "text/plain": [
       "<IPython.core.display.HTML object>"
      ]
     },
     "metadata": {},
     "output_type": "display_data"
    },
    {
     "data": {
      "text/html": [
       "<style type=\"text/css\">\n",
       "</style>\n",
       "<table id=\"T_87fca\">\n",
       "  <thead>\n",
       "    <tr>\n",
       "      <th class=\"blank level0\" >&nbsp;</th>\n",
       "      <th id=\"T_87fca_level0_col0\" class=\"col_heading level0 col0\" >Silhouette</th>\n",
       "      <th id=\"T_87fca_level0_col1\" class=\"col_heading level0 col1\" >Calinski-Harabasz</th>\n",
       "      <th id=\"T_87fca_level0_col2\" class=\"col_heading level0 col2\" >Davies-Bouldin</th>\n",
       "      <th id=\"T_87fca_level0_col3\" class=\"col_heading level0 col3\" >Homogeneity</th>\n",
       "      <th id=\"T_87fca_level0_col4\" class=\"col_heading level0 col4\" >Rand Index</th>\n",
       "      <th id=\"T_87fca_level0_col5\" class=\"col_heading level0 col5\" >Completeness</th>\n",
       "    </tr>\n",
       "  </thead>\n",
       "  <tbody>\n",
       "    <tr>\n",
       "      <th id=\"T_87fca_level0_row0\" class=\"row_heading level0 row0\" >0</th>\n",
       "      <td id=\"T_87fca_row0_col0\" class=\"data row0 col0\" >0.2559</td>\n",
       "      <td id=\"T_87fca_row0_col1\" class=\"data row0 col1\" >65.8391</td>\n",
       "      <td id=\"T_87fca_row0_col2\" class=\"data row0 col2\" >0.8391</td>\n",
       "      <td id=\"T_87fca_row0_col3\" class=\"data row0 col3\" >0</td>\n",
       "      <td id=\"T_87fca_row0_col4\" class=\"data row0 col4\" >0</td>\n",
       "      <td id=\"T_87fca_row0_col5\" class=\"data row0 col5\" >0</td>\n",
       "    </tr>\n",
       "  </tbody>\n",
       "</table>\n"
      ],
      "text/plain": [
       "<pandas.io.formats.style.Styler at 0x7f0e64217d30>"
      ]
     },
     "metadata": {},
     "output_type": "display_data"
    },
    {
     "data": {
      "text/html": [],
      "text/plain": [
       "<IPython.core.display.HTML object>"
      ]
     },
     "metadata": {},
     "output_type": "display_data"
    },
    {
     "name": "stderr",
     "output_type": "stream",
     "text": [
      "2024/03/02 17:00:08 WARNING mlflow.sklearn: Model was missing function: predict. Not logging python_function flavor!\n"
     ]
    }
   ],
   "source": [
    "s = setup(df, session_id = 1212,\n",
    "           log_experiment = True, experiment_name = 'pockemon_3', normalize = True)\n",
    "\n",
    "model = create_model('sc')\n",
    "\n",
    "metrics_dict = pull()\n",
    "for metric_name, metric_value in metrics_dict.items():\n",
    "    numeric_value = metric_value.values[0]\n",
    "\n",
    "    mlflow.log_metrics({metric_name: numeric_value})"
   ]
  },
  {
   "cell_type": "code",
   "execution_count": 16,
   "metadata": {},
   "outputs": [
    {
     "data": {
      "text/html": [
       "<style type=\"text/css\">\n",
       "#T_c740d_row4_col1, #T_c740d_row8_col1 {\n",
       "  background-color: lightgreen;\n",
       "}\n",
       "</style>\n",
       "<table id=\"T_c740d\">\n",
       "  <thead>\n",
       "    <tr>\n",
       "      <th class=\"blank level0\" >&nbsp;</th>\n",
       "      <th id=\"T_c740d_level0_col0\" class=\"col_heading level0 col0\" >Description</th>\n",
       "      <th id=\"T_c740d_level0_col1\" class=\"col_heading level0 col1\" >Value</th>\n",
       "    </tr>\n",
       "  </thead>\n",
       "  <tbody>\n",
       "    <tr>\n",
       "      <th id=\"T_c740d_level0_row0\" class=\"row_heading level0 row0\" >0</th>\n",
       "      <td id=\"T_c740d_row0_col0\" class=\"data row0 col0\" >Session id</td>\n",
       "      <td id=\"T_c740d_row0_col1\" class=\"data row0 col1\" >1212</td>\n",
       "    </tr>\n",
       "    <tr>\n",
       "      <th id=\"T_c740d_level0_row1\" class=\"row_heading level0 row1\" >1</th>\n",
       "      <td id=\"T_c740d_row1_col0\" class=\"data row1 col0\" >Original data shape</td>\n",
       "      <td id=\"T_c740d_row1_col1\" class=\"data row1 col1\" >(800, 11)</td>\n",
       "    </tr>\n",
       "    <tr>\n",
       "      <th id=\"T_c740d_level0_row2\" class=\"row_heading level0 row2\" >2</th>\n",
       "      <td id=\"T_c740d_row2_col0\" class=\"data row2 col0\" >Transformed data shape</td>\n",
       "      <td id=\"T_c740d_row2_col1\" class=\"data row2 col1\" >(800, 11)</td>\n",
       "    </tr>\n",
       "    <tr>\n",
       "      <th id=\"T_c740d_level0_row3\" class=\"row_heading level0 row3\" >3</th>\n",
       "      <td id=\"T_c740d_row3_col0\" class=\"data row3 col0\" >Numeric features</td>\n",
       "      <td id=\"T_c740d_row3_col1\" class=\"data row3 col1\" >11</td>\n",
       "    </tr>\n",
       "    <tr>\n",
       "      <th id=\"T_c740d_level0_row4\" class=\"row_heading level0 row4\" >4</th>\n",
       "      <td id=\"T_c740d_row4_col0\" class=\"data row4 col0\" >Preprocess</td>\n",
       "      <td id=\"T_c740d_row4_col1\" class=\"data row4 col1\" >True</td>\n",
       "    </tr>\n",
       "    <tr>\n",
       "      <th id=\"T_c740d_level0_row5\" class=\"row_heading level0 row5\" >5</th>\n",
       "      <td id=\"T_c740d_row5_col0\" class=\"data row5 col0\" >Imputation type</td>\n",
       "      <td id=\"T_c740d_row5_col1\" class=\"data row5 col1\" >simple</td>\n",
       "    </tr>\n",
       "    <tr>\n",
       "      <th id=\"T_c740d_level0_row6\" class=\"row_heading level0 row6\" >6</th>\n",
       "      <td id=\"T_c740d_row6_col0\" class=\"data row6 col0\" >Numeric imputation</td>\n",
       "      <td id=\"T_c740d_row6_col1\" class=\"data row6 col1\" >mean</td>\n",
       "    </tr>\n",
       "    <tr>\n",
       "      <th id=\"T_c740d_level0_row7\" class=\"row_heading level0 row7\" >7</th>\n",
       "      <td id=\"T_c740d_row7_col0\" class=\"data row7 col0\" >Categorical imputation</td>\n",
       "      <td id=\"T_c740d_row7_col1\" class=\"data row7 col1\" >mode</td>\n",
       "    </tr>\n",
       "    <tr>\n",
       "      <th id=\"T_c740d_level0_row8\" class=\"row_heading level0 row8\" >8</th>\n",
       "      <td id=\"T_c740d_row8_col0\" class=\"data row8 col0\" >Normalize</td>\n",
       "      <td id=\"T_c740d_row8_col1\" class=\"data row8 col1\" >True</td>\n",
       "    </tr>\n",
       "    <tr>\n",
       "      <th id=\"T_c740d_level0_row9\" class=\"row_heading level0 row9\" >9</th>\n",
       "      <td id=\"T_c740d_row9_col0\" class=\"data row9 col0\" >Normalize method</td>\n",
       "      <td id=\"T_c740d_row9_col1\" class=\"data row9 col1\" >zscore</td>\n",
       "    </tr>\n",
       "    <tr>\n",
       "      <th id=\"T_c740d_level0_row10\" class=\"row_heading level0 row10\" >10</th>\n",
       "      <td id=\"T_c740d_row10_col0\" class=\"data row10 col0\" >CPU Jobs</td>\n",
       "      <td id=\"T_c740d_row10_col1\" class=\"data row10 col1\" >-1</td>\n",
       "    </tr>\n",
       "    <tr>\n",
       "      <th id=\"T_c740d_level0_row11\" class=\"row_heading level0 row11\" >11</th>\n",
       "      <td id=\"T_c740d_row11_col0\" class=\"data row11 col0\" >Use GPU</td>\n",
       "      <td id=\"T_c740d_row11_col1\" class=\"data row11 col1\" >False</td>\n",
       "    </tr>\n",
       "    <tr>\n",
       "      <th id=\"T_c740d_level0_row12\" class=\"row_heading level0 row12\" >12</th>\n",
       "      <td id=\"T_c740d_row12_col0\" class=\"data row12 col0\" >Log Experiment</td>\n",
       "      <td id=\"T_c740d_row12_col1\" class=\"data row12 col1\" >MlflowLogger</td>\n",
       "    </tr>\n",
       "    <tr>\n",
       "      <th id=\"T_c740d_level0_row13\" class=\"row_heading level0 row13\" >13</th>\n",
       "      <td id=\"T_c740d_row13_col0\" class=\"data row13 col0\" >Experiment Name</td>\n",
       "      <td id=\"T_c740d_row13_col1\" class=\"data row13 col1\" >pockemon_4</td>\n",
       "    </tr>\n",
       "    <tr>\n",
       "      <th id=\"T_c740d_level0_row14\" class=\"row_heading level0 row14\" >14</th>\n",
       "      <td id=\"T_c740d_row14_col0\" class=\"data row14 col0\" >USI</td>\n",
       "      <td id=\"T_c740d_row14_col1\" class=\"data row14 col1\" >3eaa</td>\n",
       "    </tr>\n",
       "  </tbody>\n",
       "</table>\n"
      ],
      "text/plain": [
       "<pandas.io.formats.style.Styler at 0x7f0e6c14b7c0>"
      ]
     },
     "metadata": {},
     "output_type": "display_data"
    },
    {
     "name": "stderr",
     "output_type": "stream",
     "text": [
      "2024/03/02 17:00:08 INFO mlflow.tracking.fluent: Experiment with name 'pockemon_4' does not exist. Creating a new experiment.\n"
     ]
    },
    {
     "data": {
      "text/html": [],
      "text/plain": [
       "<IPython.core.display.HTML object>"
      ]
     },
     "metadata": {},
     "output_type": "display_data"
    },
    {
     "data": {
      "text/html": [
       "<style type=\"text/css\">\n",
       "</style>\n",
       "<table id=\"T_f7131\">\n",
       "  <thead>\n",
       "    <tr>\n",
       "      <th class=\"blank level0\" >&nbsp;</th>\n",
       "      <th id=\"T_f7131_level0_col0\" class=\"col_heading level0 col0\" >Silhouette</th>\n",
       "      <th id=\"T_f7131_level0_col1\" class=\"col_heading level0 col1\" >Calinski-Harabasz</th>\n",
       "      <th id=\"T_f7131_level0_col2\" class=\"col_heading level0 col2\" >Davies-Bouldin</th>\n",
       "      <th id=\"T_f7131_level0_col3\" class=\"col_heading level0 col3\" >Homogeneity</th>\n",
       "      <th id=\"T_f7131_level0_col4\" class=\"col_heading level0 col4\" >Rand Index</th>\n",
       "      <th id=\"T_f7131_level0_col5\" class=\"col_heading level0 col5\" >Completeness</th>\n",
       "    </tr>\n",
       "  </thead>\n",
       "  <tbody>\n",
       "    <tr>\n",
       "      <th id=\"T_f7131_level0_row0\" class=\"row_heading level0 row0\" >0</th>\n",
       "      <td id=\"T_f7131_row0_col0\" class=\"data row0 col0\" >0.1522</td>\n",
       "      <td id=\"T_f7131_row0_col1\" class=\"data row0 col1\" >166.9944</td>\n",
       "      <td id=\"T_f7131_row0_col2\" class=\"data row0 col2\" >2.2025</td>\n",
       "      <td id=\"T_f7131_row0_col3\" class=\"data row0 col3\" >0</td>\n",
       "      <td id=\"T_f7131_row0_col4\" class=\"data row0 col4\" >0</td>\n",
       "      <td id=\"T_f7131_row0_col5\" class=\"data row0 col5\" >0</td>\n",
       "    </tr>\n",
       "  </tbody>\n",
       "</table>\n"
      ],
      "text/plain": [
       "<pandas.io.formats.style.Styler at 0x7f0e6776d930>"
      ]
     },
     "metadata": {},
     "output_type": "display_data"
    },
    {
     "data": {
      "text/html": [],
      "text/plain": [
       "<IPython.core.display.HTML object>"
      ]
     },
     "metadata": {},
     "output_type": "display_data"
    },
    {
     "name": "stderr",
     "output_type": "stream",
     "text": [
      "2024/03/02 17:00:12 WARNING mlflow.sklearn: Model was missing function: predict. Not logging python_function flavor!\n"
     ]
    }
   ],
   "source": [
    "s = setup(df, session_id = 1212,\n",
    "           log_experiment = True, experiment_name = 'pockemon_4', normalize = True)\n",
    "\n",
    "model = create_model('hclust')\n",
    "\n",
    "metrics_dict = pull()\n",
    "for metric_name, metric_value in metrics_dict.items():\n",
    "    numeric_value = metric_value.values[0]\n",
    "\n",
    "    mlflow.log_metrics({metric_name: numeric_value})"
   ]
  },
  {
   "cell_type": "code",
   "execution_count": 17,
   "metadata": {},
   "outputs": [
    {
     "data": {
      "text/html": [
       "<style type=\"text/css\">\n",
       "#T_535f3_row4_col1, #T_535f3_row8_col1 {\n",
       "  background-color: lightgreen;\n",
       "}\n",
       "</style>\n",
       "<table id=\"T_535f3\">\n",
       "  <thead>\n",
       "    <tr>\n",
       "      <th class=\"blank level0\" >&nbsp;</th>\n",
       "      <th id=\"T_535f3_level0_col0\" class=\"col_heading level0 col0\" >Description</th>\n",
       "      <th id=\"T_535f3_level0_col1\" class=\"col_heading level0 col1\" >Value</th>\n",
       "    </tr>\n",
       "  </thead>\n",
       "  <tbody>\n",
       "    <tr>\n",
       "      <th id=\"T_535f3_level0_row0\" class=\"row_heading level0 row0\" >0</th>\n",
       "      <td id=\"T_535f3_row0_col0\" class=\"data row0 col0\" >Session id</td>\n",
       "      <td id=\"T_535f3_row0_col1\" class=\"data row0 col1\" >1212</td>\n",
       "    </tr>\n",
       "    <tr>\n",
       "      <th id=\"T_535f3_level0_row1\" class=\"row_heading level0 row1\" >1</th>\n",
       "      <td id=\"T_535f3_row1_col0\" class=\"data row1 col0\" >Original data shape</td>\n",
       "      <td id=\"T_535f3_row1_col1\" class=\"data row1 col1\" >(800, 11)</td>\n",
       "    </tr>\n",
       "    <tr>\n",
       "      <th id=\"T_535f3_level0_row2\" class=\"row_heading level0 row2\" >2</th>\n",
       "      <td id=\"T_535f3_row2_col0\" class=\"data row2 col0\" >Transformed data shape</td>\n",
       "      <td id=\"T_535f3_row2_col1\" class=\"data row2 col1\" >(800, 11)</td>\n",
       "    </tr>\n",
       "    <tr>\n",
       "      <th id=\"T_535f3_level0_row3\" class=\"row_heading level0 row3\" >3</th>\n",
       "      <td id=\"T_535f3_row3_col0\" class=\"data row3 col0\" >Numeric features</td>\n",
       "      <td id=\"T_535f3_row3_col1\" class=\"data row3 col1\" >11</td>\n",
       "    </tr>\n",
       "    <tr>\n",
       "      <th id=\"T_535f3_level0_row4\" class=\"row_heading level0 row4\" >4</th>\n",
       "      <td id=\"T_535f3_row4_col0\" class=\"data row4 col0\" >Preprocess</td>\n",
       "      <td id=\"T_535f3_row4_col1\" class=\"data row4 col1\" >True</td>\n",
       "    </tr>\n",
       "    <tr>\n",
       "      <th id=\"T_535f3_level0_row5\" class=\"row_heading level0 row5\" >5</th>\n",
       "      <td id=\"T_535f3_row5_col0\" class=\"data row5 col0\" >Imputation type</td>\n",
       "      <td id=\"T_535f3_row5_col1\" class=\"data row5 col1\" >simple</td>\n",
       "    </tr>\n",
       "    <tr>\n",
       "      <th id=\"T_535f3_level0_row6\" class=\"row_heading level0 row6\" >6</th>\n",
       "      <td id=\"T_535f3_row6_col0\" class=\"data row6 col0\" >Numeric imputation</td>\n",
       "      <td id=\"T_535f3_row6_col1\" class=\"data row6 col1\" >mean</td>\n",
       "    </tr>\n",
       "    <tr>\n",
       "      <th id=\"T_535f3_level0_row7\" class=\"row_heading level0 row7\" >7</th>\n",
       "      <td id=\"T_535f3_row7_col0\" class=\"data row7 col0\" >Categorical imputation</td>\n",
       "      <td id=\"T_535f3_row7_col1\" class=\"data row7 col1\" >mode</td>\n",
       "    </tr>\n",
       "    <tr>\n",
       "      <th id=\"T_535f3_level0_row8\" class=\"row_heading level0 row8\" >8</th>\n",
       "      <td id=\"T_535f3_row8_col0\" class=\"data row8 col0\" >Normalize</td>\n",
       "      <td id=\"T_535f3_row8_col1\" class=\"data row8 col1\" >True</td>\n",
       "    </tr>\n",
       "    <tr>\n",
       "      <th id=\"T_535f3_level0_row9\" class=\"row_heading level0 row9\" >9</th>\n",
       "      <td id=\"T_535f3_row9_col0\" class=\"data row9 col0\" >Normalize method</td>\n",
       "      <td id=\"T_535f3_row9_col1\" class=\"data row9 col1\" >zscore</td>\n",
       "    </tr>\n",
       "    <tr>\n",
       "      <th id=\"T_535f3_level0_row10\" class=\"row_heading level0 row10\" >10</th>\n",
       "      <td id=\"T_535f3_row10_col0\" class=\"data row10 col0\" >CPU Jobs</td>\n",
       "      <td id=\"T_535f3_row10_col1\" class=\"data row10 col1\" >-1</td>\n",
       "    </tr>\n",
       "    <tr>\n",
       "      <th id=\"T_535f3_level0_row11\" class=\"row_heading level0 row11\" >11</th>\n",
       "      <td id=\"T_535f3_row11_col0\" class=\"data row11 col0\" >Use GPU</td>\n",
       "      <td id=\"T_535f3_row11_col1\" class=\"data row11 col1\" >False</td>\n",
       "    </tr>\n",
       "    <tr>\n",
       "      <th id=\"T_535f3_level0_row12\" class=\"row_heading level0 row12\" >12</th>\n",
       "      <td id=\"T_535f3_row12_col0\" class=\"data row12 col0\" >Log Experiment</td>\n",
       "      <td id=\"T_535f3_row12_col1\" class=\"data row12 col1\" >MlflowLogger</td>\n",
       "    </tr>\n",
       "    <tr>\n",
       "      <th id=\"T_535f3_level0_row13\" class=\"row_heading level0 row13\" >13</th>\n",
       "      <td id=\"T_535f3_row13_col0\" class=\"data row13 col0\" >Experiment Name</td>\n",
       "      <td id=\"T_535f3_row13_col1\" class=\"data row13 col1\" >pockemon_5</td>\n",
       "    </tr>\n",
       "    <tr>\n",
       "      <th id=\"T_535f3_level0_row14\" class=\"row_heading level0 row14\" >14</th>\n",
       "      <td id=\"T_535f3_row14_col0\" class=\"data row14 col0\" >USI</td>\n",
       "      <td id=\"T_535f3_row14_col1\" class=\"data row14 col1\" >af5a</td>\n",
       "    </tr>\n",
       "  </tbody>\n",
       "</table>\n"
      ],
      "text/plain": [
       "<pandas.io.formats.style.Styler at 0x7f0e6c155de0>"
      ]
     },
     "metadata": {},
     "output_type": "display_data"
    },
    {
     "name": "stderr",
     "output_type": "stream",
     "text": [
      "2024/03/02 17:00:13 INFO mlflow.tracking.fluent: Experiment with name 'pockemon_5' does not exist. Creating a new experiment.\n"
     ]
    },
    {
     "data": {
      "text/html": [],
      "text/plain": [
       "<IPython.core.display.HTML object>"
      ]
     },
     "metadata": {},
     "output_type": "display_data"
    },
    {
     "data": {
      "text/html": [
       "<style type=\"text/css\">\n",
       "</style>\n",
       "<table id=\"T_a6f9b\">\n",
       "  <thead>\n",
       "    <tr>\n",
       "      <th class=\"blank level0\" >&nbsp;</th>\n",
       "      <th id=\"T_a6f9b_level0_col0\" class=\"col_heading level0 col0\" >Silhouette</th>\n",
       "      <th id=\"T_a6f9b_level0_col1\" class=\"col_heading level0 col1\" >Calinski-Harabasz</th>\n",
       "      <th id=\"T_a6f9b_level0_col2\" class=\"col_heading level0 col2\" >Davies-Bouldin</th>\n",
       "      <th id=\"T_a6f9b_level0_col3\" class=\"col_heading level0 col3\" >Homogeneity</th>\n",
       "      <th id=\"T_a6f9b_level0_col4\" class=\"col_heading level0 col4\" >Rand Index</th>\n",
       "      <th id=\"T_a6f9b_level0_col5\" class=\"col_heading level0 col5\" >Completeness</th>\n",
       "    </tr>\n",
       "  </thead>\n",
       "  <tbody>\n",
       "    <tr>\n",
       "      <th id=\"T_a6f9b_level0_row0\" class=\"row_heading level0 row0\" >0</th>\n",
       "      <td id=\"T_a6f9b_row0_col0\" class=\"data row0 col0\" >0</td>\n",
       "      <td id=\"T_a6f9b_row0_col1\" class=\"data row0 col1\" >0</td>\n",
       "      <td id=\"T_a6f9b_row0_col2\" class=\"data row0 col2\" >0</td>\n",
       "      <td id=\"T_a6f9b_row0_col3\" class=\"data row0 col3\" >0</td>\n",
       "      <td id=\"T_a6f9b_row0_col4\" class=\"data row0 col4\" >0</td>\n",
       "      <td id=\"T_a6f9b_row0_col5\" class=\"data row0 col5\" >0</td>\n",
       "    </tr>\n",
       "  </tbody>\n",
       "</table>\n"
      ],
      "text/plain": [
       "<pandas.io.formats.style.Styler at 0x7f0e643f2320>"
      ]
     },
     "metadata": {},
     "output_type": "display_data"
    },
    {
     "data": {
      "text/html": [],
      "text/plain": [
       "<IPython.core.display.HTML object>"
      ]
     },
     "metadata": {},
     "output_type": "display_data"
    },
    {
     "name": "stderr",
     "output_type": "stream",
     "text": [
      "2024/03/02 17:00:16 WARNING mlflow.sklearn: Model was missing function: predict. Not logging python_function flavor!\n"
     ]
    }
   ],
   "source": [
    "s = setup(df, session_id = 1212,\n",
    "           log_experiment = True, experiment_name = 'pockemon_5', normalize = True)\n",
    "\n",
    "model = create_model('dbscan')\n",
    "\n",
    "metrics_dict = pull()\n",
    "for metric_name, metric_value in metrics_dict.items():\n",
    "    numeric_value = metric_value.values[0]\n",
    "\n",
    "    mlflow.log_metrics({metric_name: numeric_value})"
   ]
  },
  {
   "cell_type": "code",
   "execution_count": 18,
   "metadata": {},
   "outputs": [
    {
     "data": {
      "text/html": [
       "<style type=\"text/css\">\n",
       "#T_32ec9_row4_col1, #T_32ec9_row8_col1 {\n",
       "  background-color: lightgreen;\n",
       "}\n",
       "</style>\n",
       "<table id=\"T_32ec9\">\n",
       "  <thead>\n",
       "    <tr>\n",
       "      <th class=\"blank level0\" >&nbsp;</th>\n",
       "      <th id=\"T_32ec9_level0_col0\" class=\"col_heading level0 col0\" >Description</th>\n",
       "      <th id=\"T_32ec9_level0_col1\" class=\"col_heading level0 col1\" >Value</th>\n",
       "    </tr>\n",
       "  </thead>\n",
       "  <tbody>\n",
       "    <tr>\n",
       "      <th id=\"T_32ec9_level0_row0\" class=\"row_heading level0 row0\" >0</th>\n",
       "      <td id=\"T_32ec9_row0_col0\" class=\"data row0 col0\" >Session id</td>\n",
       "      <td id=\"T_32ec9_row0_col1\" class=\"data row0 col1\" >1212</td>\n",
       "    </tr>\n",
       "    <tr>\n",
       "      <th id=\"T_32ec9_level0_row1\" class=\"row_heading level0 row1\" >1</th>\n",
       "      <td id=\"T_32ec9_row1_col0\" class=\"data row1 col0\" >Original data shape</td>\n",
       "      <td id=\"T_32ec9_row1_col1\" class=\"data row1 col1\" >(800, 11)</td>\n",
       "    </tr>\n",
       "    <tr>\n",
       "      <th id=\"T_32ec9_level0_row2\" class=\"row_heading level0 row2\" >2</th>\n",
       "      <td id=\"T_32ec9_row2_col0\" class=\"data row2 col0\" >Transformed data shape</td>\n",
       "      <td id=\"T_32ec9_row2_col1\" class=\"data row2 col1\" >(800, 11)</td>\n",
       "    </tr>\n",
       "    <tr>\n",
       "      <th id=\"T_32ec9_level0_row3\" class=\"row_heading level0 row3\" >3</th>\n",
       "      <td id=\"T_32ec9_row3_col0\" class=\"data row3 col0\" >Numeric features</td>\n",
       "      <td id=\"T_32ec9_row3_col1\" class=\"data row3 col1\" >11</td>\n",
       "    </tr>\n",
       "    <tr>\n",
       "      <th id=\"T_32ec9_level0_row4\" class=\"row_heading level0 row4\" >4</th>\n",
       "      <td id=\"T_32ec9_row4_col0\" class=\"data row4 col0\" >Preprocess</td>\n",
       "      <td id=\"T_32ec9_row4_col1\" class=\"data row4 col1\" >True</td>\n",
       "    </tr>\n",
       "    <tr>\n",
       "      <th id=\"T_32ec9_level0_row5\" class=\"row_heading level0 row5\" >5</th>\n",
       "      <td id=\"T_32ec9_row5_col0\" class=\"data row5 col0\" >Imputation type</td>\n",
       "      <td id=\"T_32ec9_row5_col1\" class=\"data row5 col1\" >simple</td>\n",
       "    </tr>\n",
       "    <tr>\n",
       "      <th id=\"T_32ec9_level0_row6\" class=\"row_heading level0 row6\" >6</th>\n",
       "      <td id=\"T_32ec9_row6_col0\" class=\"data row6 col0\" >Numeric imputation</td>\n",
       "      <td id=\"T_32ec9_row6_col1\" class=\"data row6 col1\" >mean</td>\n",
       "    </tr>\n",
       "    <tr>\n",
       "      <th id=\"T_32ec9_level0_row7\" class=\"row_heading level0 row7\" >7</th>\n",
       "      <td id=\"T_32ec9_row7_col0\" class=\"data row7 col0\" >Categorical imputation</td>\n",
       "      <td id=\"T_32ec9_row7_col1\" class=\"data row7 col1\" >mode</td>\n",
       "    </tr>\n",
       "    <tr>\n",
       "      <th id=\"T_32ec9_level0_row8\" class=\"row_heading level0 row8\" >8</th>\n",
       "      <td id=\"T_32ec9_row8_col0\" class=\"data row8 col0\" >Normalize</td>\n",
       "      <td id=\"T_32ec9_row8_col1\" class=\"data row8 col1\" >True</td>\n",
       "    </tr>\n",
       "    <tr>\n",
       "      <th id=\"T_32ec9_level0_row9\" class=\"row_heading level0 row9\" >9</th>\n",
       "      <td id=\"T_32ec9_row9_col0\" class=\"data row9 col0\" >Normalize method</td>\n",
       "      <td id=\"T_32ec9_row9_col1\" class=\"data row9 col1\" >zscore</td>\n",
       "    </tr>\n",
       "    <tr>\n",
       "      <th id=\"T_32ec9_level0_row10\" class=\"row_heading level0 row10\" >10</th>\n",
       "      <td id=\"T_32ec9_row10_col0\" class=\"data row10 col0\" >CPU Jobs</td>\n",
       "      <td id=\"T_32ec9_row10_col1\" class=\"data row10 col1\" >-1</td>\n",
       "    </tr>\n",
       "    <tr>\n",
       "      <th id=\"T_32ec9_level0_row11\" class=\"row_heading level0 row11\" >11</th>\n",
       "      <td id=\"T_32ec9_row11_col0\" class=\"data row11 col0\" >Use GPU</td>\n",
       "      <td id=\"T_32ec9_row11_col1\" class=\"data row11 col1\" >False</td>\n",
       "    </tr>\n",
       "    <tr>\n",
       "      <th id=\"T_32ec9_level0_row12\" class=\"row_heading level0 row12\" >12</th>\n",
       "      <td id=\"T_32ec9_row12_col0\" class=\"data row12 col0\" >Log Experiment</td>\n",
       "      <td id=\"T_32ec9_row12_col1\" class=\"data row12 col1\" >MlflowLogger</td>\n",
       "    </tr>\n",
       "    <tr>\n",
       "      <th id=\"T_32ec9_level0_row13\" class=\"row_heading level0 row13\" >13</th>\n",
       "      <td id=\"T_32ec9_row13_col0\" class=\"data row13 col0\" >Experiment Name</td>\n",
       "      <td id=\"T_32ec9_row13_col1\" class=\"data row13 col1\" >pockemon_6</td>\n",
       "    </tr>\n",
       "    <tr>\n",
       "      <th id=\"T_32ec9_level0_row14\" class=\"row_heading level0 row14\" >14</th>\n",
       "      <td id=\"T_32ec9_row14_col0\" class=\"data row14 col0\" >USI</td>\n",
       "      <td id=\"T_32ec9_row14_col1\" class=\"data row14 col1\" >bc79</td>\n",
       "    </tr>\n",
       "  </tbody>\n",
       "</table>\n"
      ],
      "text/plain": [
       "<pandas.io.formats.style.Styler at 0x7f0e641473a0>"
      ]
     },
     "metadata": {},
     "output_type": "display_data"
    },
    {
     "name": "stderr",
     "output_type": "stream",
     "text": [
      "2024/03/02 17:00:17 INFO mlflow.tracking.fluent: Experiment with name 'pockemon_6' does not exist. Creating a new experiment.\n"
     ]
    },
    {
     "data": {
      "text/html": [],
      "text/plain": [
       "<IPython.core.display.HTML object>"
      ]
     },
     "metadata": {},
     "output_type": "display_data"
    },
    {
     "data": {
      "text/html": [
       "<style type=\"text/css\">\n",
       "</style>\n",
       "<table id=\"T_6257b\">\n",
       "  <thead>\n",
       "    <tr>\n",
       "      <th class=\"blank level0\" >&nbsp;</th>\n",
       "      <th id=\"T_6257b_level0_col0\" class=\"col_heading level0 col0\" >Silhouette</th>\n",
       "      <th id=\"T_6257b_level0_col1\" class=\"col_heading level0 col1\" >Calinski-Harabasz</th>\n",
       "      <th id=\"T_6257b_level0_col2\" class=\"col_heading level0 col2\" >Davies-Bouldin</th>\n",
       "      <th id=\"T_6257b_level0_col3\" class=\"col_heading level0 col3\" >Homogeneity</th>\n",
       "      <th id=\"T_6257b_level0_col4\" class=\"col_heading level0 col4\" >Rand Index</th>\n",
       "      <th id=\"T_6257b_level0_col5\" class=\"col_heading level0 col5\" >Completeness</th>\n",
       "    </tr>\n",
       "  </thead>\n",
       "  <tbody>\n",
       "    <tr>\n",
       "      <th id=\"T_6257b_level0_row0\" class=\"row_heading level0 row0\" >0</th>\n",
       "      <td id=\"T_6257b_row0_col0\" class=\"data row0 col0\" >-0.3132</td>\n",
       "      <td id=\"T_6257b_row0_col1\" class=\"data row0 col1\" >8.4923</td>\n",
       "      <td id=\"T_6257b_row0_col2\" class=\"data row0 col2\" >1.4712</td>\n",
       "      <td id=\"T_6257b_row0_col3\" class=\"data row0 col3\" >0</td>\n",
       "      <td id=\"T_6257b_row0_col4\" class=\"data row0 col4\" >0</td>\n",
       "      <td id=\"T_6257b_row0_col5\" class=\"data row0 col5\" >0</td>\n",
       "    </tr>\n",
       "  </tbody>\n",
       "</table>\n"
      ],
      "text/plain": [
       "<pandas.io.formats.style.Styler at 0x7f0e67704f40>"
      ]
     },
     "metadata": {},
     "output_type": "display_data"
    },
    {
     "data": {
      "text/html": [],
      "text/plain": [
       "<IPython.core.display.HTML object>"
      ]
     },
     "metadata": {},
     "output_type": "display_data"
    },
    {
     "name": "stderr",
     "output_type": "stream",
     "text": [
      "2024/03/02 17:00:32 WARNING mlflow.sklearn: Model was missing function: predict. Not logging python_function flavor!\n"
     ]
    }
   ],
   "source": [
    "s = setup(df, session_id = 1212,\n",
    "           log_experiment = True, experiment_name = 'pockemon_6', normalize = True)\n",
    "\n",
    "model = create_model('optics')\n",
    "\n",
    "metrics_dict = pull()\n",
    "for metric_name, metric_value in metrics_dict.items():\n",
    "    numeric_value = metric_value.values[0]\n",
    "\n",
    "    mlflow.log_metrics({metric_name: numeric_value})"
   ]
  },
  {
   "cell_type": "code",
   "execution_count": 19,
   "metadata": {},
   "outputs": [
    {
     "data": {
      "text/html": [
       "<style type=\"text/css\">\n",
       "#T_4ea45_row4_col1, #T_4ea45_row8_col1 {\n",
       "  background-color: lightgreen;\n",
       "}\n",
       "</style>\n",
       "<table id=\"T_4ea45\">\n",
       "  <thead>\n",
       "    <tr>\n",
       "      <th class=\"blank level0\" >&nbsp;</th>\n",
       "      <th id=\"T_4ea45_level0_col0\" class=\"col_heading level0 col0\" >Description</th>\n",
       "      <th id=\"T_4ea45_level0_col1\" class=\"col_heading level0 col1\" >Value</th>\n",
       "    </tr>\n",
       "  </thead>\n",
       "  <tbody>\n",
       "    <tr>\n",
       "      <th id=\"T_4ea45_level0_row0\" class=\"row_heading level0 row0\" >0</th>\n",
       "      <td id=\"T_4ea45_row0_col0\" class=\"data row0 col0\" >Session id</td>\n",
       "      <td id=\"T_4ea45_row0_col1\" class=\"data row0 col1\" >1212</td>\n",
       "    </tr>\n",
       "    <tr>\n",
       "      <th id=\"T_4ea45_level0_row1\" class=\"row_heading level0 row1\" >1</th>\n",
       "      <td id=\"T_4ea45_row1_col0\" class=\"data row1 col0\" >Original data shape</td>\n",
       "      <td id=\"T_4ea45_row1_col1\" class=\"data row1 col1\" >(800, 11)</td>\n",
       "    </tr>\n",
       "    <tr>\n",
       "      <th id=\"T_4ea45_level0_row2\" class=\"row_heading level0 row2\" >2</th>\n",
       "      <td id=\"T_4ea45_row2_col0\" class=\"data row2 col0\" >Transformed data shape</td>\n",
       "      <td id=\"T_4ea45_row2_col1\" class=\"data row2 col1\" >(800, 11)</td>\n",
       "    </tr>\n",
       "    <tr>\n",
       "      <th id=\"T_4ea45_level0_row3\" class=\"row_heading level0 row3\" >3</th>\n",
       "      <td id=\"T_4ea45_row3_col0\" class=\"data row3 col0\" >Numeric features</td>\n",
       "      <td id=\"T_4ea45_row3_col1\" class=\"data row3 col1\" >11</td>\n",
       "    </tr>\n",
       "    <tr>\n",
       "      <th id=\"T_4ea45_level0_row4\" class=\"row_heading level0 row4\" >4</th>\n",
       "      <td id=\"T_4ea45_row4_col0\" class=\"data row4 col0\" >Preprocess</td>\n",
       "      <td id=\"T_4ea45_row4_col1\" class=\"data row4 col1\" >True</td>\n",
       "    </tr>\n",
       "    <tr>\n",
       "      <th id=\"T_4ea45_level0_row5\" class=\"row_heading level0 row5\" >5</th>\n",
       "      <td id=\"T_4ea45_row5_col0\" class=\"data row5 col0\" >Imputation type</td>\n",
       "      <td id=\"T_4ea45_row5_col1\" class=\"data row5 col1\" >simple</td>\n",
       "    </tr>\n",
       "    <tr>\n",
       "      <th id=\"T_4ea45_level0_row6\" class=\"row_heading level0 row6\" >6</th>\n",
       "      <td id=\"T_4ea45_row6_col0\" class=\"data row6 col0\" >Numeric imputation</td>\n",
       "      <td id=\"T_4ea45_row6_col1\" class=\"data row6 col1\" >mean</td>\n",
       "    </tr>\n",
       "    <tr>\n",
       "      <th id=\"T_4ea45_level0_row7\" class=\"row_heading level0 row7\" >7</th>\n",
       "      <td id=\"T_4ea45_row7_col0\" class=\"data row7 col0\" >Categorical imputation</td>\n",
       "      <td id=\"T_4ea45_row7_col1\" class=\"data row7 col1\" >mode</td>\n",
       "    </tr>\n",
       "    <tr>\n",
       "      <th id=\"T_4ea45_level0_row8\" class=\"row_heading level0 row8\" >8</th>\n",
       "      <td id=\"T_4ea45_row8_col0\" class=\"data row8 col0\" >Normalize</td>\n",
       "      <td id=\"T_4ea45_row8_col1\" class=\"data row8 col1\" >True</td>\n",
       "    </tr>\n",
       "    <tr>\n",
       "      <th id=\"T_4ea45_level0_row9\" class=\"row_heading level0 row9\" >9</th>\n",
       "      <td id=\"T_4ea45_row9_col0\" class=\"data row9 col0\" >Normalize method</td>\n",
       "      <td id=\"T_4ea45_row9_col1\" class=\"data row9 col1\" >zscore</td>\n",
       "    </tr>\n",
       "    <tr>\n",
       "      <th id=\"T_4ea45_level0_row10\" class=\"row_heading level0 row10\" >10</th>\n",
       "      <td id=\"T_4ea45_row10_col0\" class=\"data row10 col0\" >CPU Jobs</td>\n",
       "      <td id=\"T_4ea45_row10_col1\" class=\"data row10 col1\" >-1</td>\n",
       "    </tr>\n",
       "    <tr>\n",
       "      <th id=\"T_4ea45_level0_row11\" class=\"row_heading level0 row11\" >11</th>\n",
       "      <td id=\"T_4ea45_row11_col0\" class=\"data row11 col0\" >Use GPU</td>\n",
       "      <td id=\"T_4ea45_row11_col1\" class=\"data row11 col1\" >False</td>\n",
       "    </tr>\n",
       "    <tr>\n",
       "      <th id=\"T_4ea45_level0_row12\" class=\"row_heading level0 row12\" >12</th>\n",
       "      <td id=\"T_4ea45_row12_col0\" class=\"data row12 col0\" >Log Experiment</td>\n",
       "      <td id=\"T_4ea45_row12_col1\" class=\"data row12 col1\" >MlflowLogger</td>\n",
       "    </tr>\n",
       "    <tr>\n",
       "      <th id=\"T_4ea45_level0_row13\" class=\"row_heading level0 row13\" >13</th>\n",
       "      <td id=\"T_4ea45_row13_col0\" class=\"data row13 col0\" >Experiment Name</td>\n",
       "      <td id=\"T_4ea45_row13_col1\" class=\"data row13 col1\" >pockemon_7</td>\n",
       "    </tr>\n",
       "    <tr>\n",
       "      <th id=\"T_4ea45_level0_row14\" class=\"row_heading level0 row14\" >14</th>\n",
       "      <td id=\"T_4ea45_row14_col0\" class=\"data row14 col0\" >USI</td>\n",
       "      <td id=\"T_4ea45_row14_col1\" class=\"data row14 col1\" >ee2a</td>\n",
       "    </tr>\n",
       "  </tbody>\n",
       "</table>\n"
      ],
      "text/plain": [
       "<pandas.io.formats.style.Styler at 0x7f0e67707580>"
      ]
     },
     "metadata": {},
     "output_type": "display_data"
    },
    {
     "name": "stderr",
     "output_type": "stream",
     "text": [
      "2024/03/02 17:00:32 INFO mlflow.tracking.fluent: Experiment with name 'pockemon_7' does not exist. Creating a new experiment.\n"
     ]
    },
    {
     "data": {
      "text/html": [],
      "text/plain": [
       "<IPython.core.display.HTML object>"
      ]
     },
     "metadata": {},
     "output_type": "display_data"
    },
    {
     "data": {
      "text/html": [
       "<style type=\"text/css\">\n",
       "</style>\n",
       "<table id=\"T_f402e\">\n",
       "  <thead>\n",
       "    <tr>\n",
       "      <th class=\"blank level0\" >&nbsp;</th>\n",
       "      <th id=\"T_f402e_level0_col0\" class=\"col_heading level0 col0\" >Silhouette</th>\n",
       "      <th id=\"T_f402e_level0_col1\" class=\"col_heading level0 col1\" >Calinski-Harabasz</th>\n",
       "      <th id=\"T_f402e_level0_col2\" class=\"col_heading level0 col2\" >Davies-Bouldin</th>\n",
       "      <th id=\"T_f402e_level0_col3\" class=\"col_heading level0 col3\" >Homogeneity</th>\n",
       "      <th id=\"T_f402e_level0_col4\" class=\"col_heading level0 col4\" >Rand Index</th>\n",
       "      <th id=\"T_f402e_level0_col5\" class=\"col_heading level0 col5\" >Completeness</th>\n",
       "    </tr>\n",
       "  </thead>\n",
       "  <tbody>\n",
       "    <tr>\n",
       "      <th id=\"T_f402e_level0_row0\" class=\"row_heading level0 row0\" >0</th>\n",
       "      <td id=\"T_f402e_row0_col0\" class=\"data row0 col0\" >0.1585</td>\n",
       "      <td id=\"T_f402e_row0_col1\" class=\"data row0 col1\" >170.6474</td>\n",
       "      <td id=\"T_f402e_row0_col2\" class=\"data row0 col2\" >2.1282</td>\n",
       "      <td id=\"T_f402e_row0_col3\" class=\"data row0 col3\" >0</td>\n",
       "      <td id=\"T_f402e_row0_col4\" class=\"data row0 col4\" >0</td>\n",
       "      <td id=\"T_f402e_row0_col5\" class=\"data row0 col5\" >0</td>\n",
       "    </tr>\n",
       "  </tbody>\n",
       "</table>\n"
      ],
      "text/plain": [
       "<pandas.io.formats.style.Styler at 0x7f0e642bab30>"
      ]
     },
     "metadata": {},
     "output_type": "display_data"
    },
    {
     "data": {
      "text/html": [],
      "text/plain": [
       "<IPython.core.display.HTML object>"
      ]
     },
     "metadata": {},
     "output_type": "display_data"
    }
   ],
   "source": [
    "s = setup(df, session_id = 1212,\n",
    "           log_experiment = True, experiment_name = 'pockemon_7', normalize = True)\n",
    "\n",
    "model = create_model('birch')\n",
    "\n",
    "metrics_dict = pull()\n",
    "for metric_name, metric_value in metrics_dict.items():\n",
    "    numeric_value = metric_value.values[0]\n",
    "\n",
    "    mlflow.log_metrics({metric_name: numeric_value})"
   ]
  },
  {
   "cell_type": "code",
   "execution_count": 25,
   "metadata": {},
   "outputs": [
    {
     "data": {
      "text/html": [
       "<style type=\"text/css\">\n",
       "#T_df589_row4_col1, #T_df589_row8_col1 {\n",
       "  background-color: lightgreen;\n",
       "}\n",
       "</style>\n",
       "<table id=\"T_df589\">\n",
       "  <thead>\n",
       "    <tr>\n",
       "      <th class=\"blank level0\" >&nbsp;</th>\n",
       "      <th id=\"T_df589_level0_col0\" class=\"col_heading level0 col0\" >Description</th>\n",
       "      <th id=\"T_df589_level0_col1\" class=\"col_heading level0 col1\" >Value</th>\n",
       "    </tr>\n",
       "  </thead>\n",
       "  <tbody>\n",
       "    <tr>\n",
       "      <th id=\"T_df589_level0_row0\" class=\"row_heading level0 row0\" >0</th>\n",
       "      <td id=\"T_df589_row0_col0\" class=\"data row0 col0\" >Session id</td>\n",
       "      <td id=\"T_df589_row0_col1\" class=\"data row0 col1\" >1212</td>\n",
       "    </tr>\n",
       "    <tr>\n",
       "      <th id=\"T_df589_level0_row1\" class=\"row_heading level0 row1\" >1</th>\n",
       "      <td id=\"T_df589_row1_col0\" class=\"data row1 col0\" >Original data shape</td>\n",
       "      <td id=\"T_df589_row1_col1\" class=\"data row1 col1\" >(800, 11)</td>\n",
       "    </tr>\n",
       "    <tr>\n",
       "      <th id=\"T_df589_level0_row2\" class=\"row_heading level0 row2\" >2</th>\n",
       "      <td id=\"T_df589_row2_col0\" class=\"data row2 col0\" >Transformed data shape</td>\n",
       "      <td id=\"T_df589_row2_col1\" class=\"data row2 col1\" >(800, 11)</td>\n",
       "    </tr>\n",
       "    <tr>\n",
       "      <th id=\"T_df589_level0_row3\" class=\"row_heading level0 row3\" >3</th>\n",
       "      <td id=\"T_df589_row3_col0\" class=\"data row3 col0\" >Numeric features</td>\n",
       "      <td id=\"T_df589_row3_col1\" class=\"data row3 col1\" >11</td>\n",
       "    </tr>\n",
       "    <tr>\n",
       "      <th id=\"T_df589_level0_row4\" class=\"row_heading level0 row4\" >4</th>\n",
       "      <td id=\"T_df589_row4_col0\" class=\"data row4 col0\" >Preprocess</td>\n",
       "      <td id=\"T_df589_row4_col1\" class=\"data row4 col1\" >True</td>\n",
       "    </tr>\n",
       "    <tr>\n",
       "      <th id=\"T_df589_level0_row5\" class=\"row_heading level0 row5\" >5</th>\n",
       "      <td id=\"T_df589_row5_col0\" class=\"data row5 col0\" >Imputation type</td>\n",
       "      <td id=\"T_df589_row5_col1\" class=\"data row5 col1\" >simple</td>\n",
       "    </tr>\n",
       "    <tr>\n",
       "      <th id=\"T_df589_level0_row6\" class=\"row_heading level0 row6\" >6</th>\n",
       "      <td id=\"T_df589_row6_col0\" class=\"data row6 col0\" >Numeric imputation</td>\n",
       "      <td id=\"T_df589_row6_col1\" class=\"data row6 col1\" >mean</td>\n",
       "    </tr>\n",
       "    <tr>\n",
       "      <th id=\"T_df589_level0_row7\" class=\"row_heading level0 row7\" >7</th>\n",
       "      <td id=\"T_df589_row7_col0\" class=\"data row7 col0\" >Categorical imputation</td>\n",
       "      <td id=\"T_df589_row7_col1\" class=\"data row7 col1\" >mode</td>\n",
       "    </tr>\n",
       "    <tr>\n",
       "      <th id=\"T_df589_level0_row8\" class=\"row_heading level0 row8\" >8</th>\n",
       "      <td id=\"T_df589_row8_col0\" class=\"data row8 col0\" >Normalize</td>\n",
       "      <td id=\"T_df589_row8_col1\" class=\"data row8 col1\" >True</td>\n",
       "    </tr>\n",
       "    <tr>\n",
       "      <th id=\"T_df589_level0_row9\" class=\"row_heading level0 row9\" >9</th>\n",
       "      <td id=\"T_df589_row9_col0\" class=\"data row9 col0\" >Normalize method</td>\n",
       "      <td id=\"T_df589_row9_col1\" class=\"data row9 col1\" >zscore</td>\n",
       "    </tr>\n",
       "    <tr>\n",
       "      <th id=\"T_df589_level0_row10\" class=\"row_heading level0 row10\" >10</th>\n",
       "      <td id=\"T_df589_row10_col0\" class=\"data row10 col0\" >CPU Jobs</td>\n",
       "      <td id=\"T_df589_row10_col1\" class=\"data row10 col1\" >-1</td>\n",
       "    </tr>\n",
       "    <tr>\n",
       "      <th id=\"T_df589_level0_row11\" class=\"row_heading level0 row11\" >11</th>\n",
       "      <td id=\"T_df589_row11_col0\" class=\"data row11 col0\" >Use GPU</td>\n",
       "      <td id=\"T_df589_row11_col1\" class=\"data row11 col1\" >False</td>\n",
       "    </tr>\n",
       "    <tr>\n",
       "      <th id=\"T_df589_level0_row12\" class=\"row_heading level0 row12\" >12</th>\n",
       "      <td id=\"T_df589_row12_col0\" class=\"data row12 col0\" >Log Experiment</td>\n",
       "      <td id=\"T_df589_row12_col1\" class=\"data row12 col1\" >MlflowLogger</td>\n",
       "    </tr>\n",
       "    <tr>\n",
       "      <th id=\"T_df589_level0_row13\" class=\"row_heading level0 row13\" >13</th>\n",
       "      <td id=\"T_df589_row13_col0\" class=\"data row13 col0\" >Experiment Name</td>\n",
       "      <td id=\"T_df589_row13_col1\" class=\"data row13 col1\" >pockemon_8</td>\n",
       "    </tr>\n",
       "    <tr>\n",
       "      <th id=\"T_df589_level0_row14\" class=\"row_heading level0 row14\" >14</th>\n",
       "      <td id=\"T_df589_row14_col0\" class=\"data row14 col0\" >USI</td>\n",
       "      <td id=\"T_df589_row14_col1\" class=\"data row14 col1\" >04ea</td>\n",
       "    </tr>\n",
       "  </tbody>\n",
       "</table>\n"
      ],
      "text/plain": [
       "<pandas.io.formats.style.Styler at 0x7f0e5dcc5060>"
      ]
     },
     "metadata": {},
     "output_type": "display_data"
    }
   ],
   "source": [
    "from pycaret.clustering import *\n",
    "\n",
    "s = setup(df, session_id = 1212,\n",
    "           log_experiment = True, experiment_name = 'pockemon_8', normalize = True)"
   ]
  },
  {
   "cell_type": "code",
   "execution_count": 26,
   "metadata": {},
   "outputs": [
    {
     "data": {
      "text/html": [],
      "text/plain": [
       "<IPython.core.display.HTML object>"
      ]
     },
     "metadata": {},
     "output_type": "display_data"
    },
    {
     "data": {
      "text/html": [
       "<style type=\"text/css\">\n",
       "</style>\n",
       "<table id=\"T_8f070\">\n",
       "  <thead>\n",
       "    <tr>\n",
       "      <th class=\"blank level0\" >&nbsp;</th>\n",
       "      <th id=\"T_8f070_level0_col0\" class=\"col_heading level0 col0\" >Silhouette</th>\n",
       "      <th id=\"T_8f070_level0_col1\" class=\"col_heading level0 col1\" >Calinski-Harabasz</th>\n",
       "      <th id=\"T_8f070_level0_col2\" class=\"col_heading level0 col2\" >Davies-Bouldin</th>\n",
       "      <th id=\"T_8f070_level0_col3\" class=\"col_heading level0 col3\" >Homogeneity</th>\n",
       "      <th id=\"T_8f070_level0_col4\" class=\"col_heading level0 col4\" >Rand Index</th>\n",
       "      <th id=\"T_8f070_level0_col5\" class=\"col_heading level0 col5\" >Completeness</th>\n",
       "    </tr>\n",
       "  </thead>\n",
       "  <tbody>\n",
       "    <tr>\n",
       "      <th id=\"T_8f070_level0_row0\" class=\"row_heading level0 row0\" >0</th>\n",
       "      <td id=\"T_8f070_row0_col0\" class=\"data row0 col0\" >0.1362</td>\n",
       "      <td id=\"T_8f070_row0_col1\" class=\"data row0 col1\" >141.6419</td>\n",
       "      <td id=\"T_8f070_row0_col2\" class=\"data row0 col2\" >1.9959</td>\n",
       "      <td id=\"T_8f070_row0_col3\" class=\"data row0 col3\" >0</td>\n",
       "      <td id=\"T_8f070_row0_col4\" class=\"data row0 col4\" >0</td>\n",
       "      <td id=\"T_8f070_row0_col5\" class=\"data row0 col5\" >0</td>\n",
       "    </tr>\n",
       "  </tbody>\n",
       "</table>\n"
      ],
      "text/plain": [
       "<pandas.io.formats.style.Styler at 0x7f0e7cc739a0>"
      ]
     },
     "metadata": {},
     "output_type": "display_data"
    },
    {
     "data": {
      "application/vnd.jupyter.widget-view+json": {
       "model_id": "788fae7fb1f545789326e1ed1e4e5d6f",
       "version_major": 2,
       "version_minor": 0
      },
      "text/plain": [
       "Processing:   0%|          | 0/3 [00:00<?, ?it/s]"
      ]
     },
     "metadata": {},
     "output_type": "display_data"
    }
   ],
   "source": [
    "# Try 6 clusters\n",
    "\n",
    "model = create_model('kmeans', num_clusters = 6)\n",
    "\n",
    "metrics_dict = pull()\n",
    "for metric_name, metric_value in metrics_dict.items():\n",
    "    numeric_value = metric_value.values[0]\n",
    "\n",
    "    mlflow.log_metrics({metric_name: numeric_value})"
   ]
  },
  {
   "cell_type": "code",
   "execution_count": 27,
   "metadata": {},
   "outputs": [
    {
     "data": {
      "text/html": [
       "<style type=\"text/css\">\n",
       "#T_c9d66_row4_col1, #T_c9d66_row8_col1 {\n",
       "  background-color: lightgreen;\n",
       "}\n",
       "</style>\n",
       "<table id=\"T_c9d66\">\n",
       "  <thead>\n",
       "    <tr>\n",
       "      <th class=\"blank level0\" >&nbsp;</th>\n",
       "      <th id=\"T_c9d66_level0_col0\" class=\"col_heading level0 col0\" >Description</th>\n",
       "      <th id=\"T_c9d66_level0_col1\" class=\"col_heading level0 col1\" >Value</th>\n",
       "    </tr>\n",
       "  </thead>\n",
       "  <tbody>\n",
       "    <tr>\n",
       "      <th id=\"T_c9d66_level0_row0\" class=\"row_heading level0 row0\" >0</th>\n",
       "      <td id=\"T_c9d66_row0_col0\" class=\"data row0 col0\" >Session id</td>\n",
       "      <td id=\"T_c9d66_row0_col1\" class=\"data row0 col1\" >1212</td>\n",
       "    </tr>\n",
       "    <tr>\n",
       "      <th id=\"T_c9d66_level0_row1\" class=\"row_heading level0 row1\" >1</th>\n",
       "      <td id=\"T_c9d66_row1_col0\" class=\"data row1 col0\" >Original data shape</td>\n",
       "      <td id=\"T_c9d66_row1_col1\" class=\"data row1 col1\" >(800, 11)</td>\n",
       "    </tr>\n",
       "    <tr>\n",
       "      <th id=\"T_c9d66_level0_row2\" class=\"row_heading level0 row2\" >2</th>\n",
       "      <td id=\"T_c9d66_row2_col0\" class=\"data row2 col0\" >Transformed data shape</td>\n",
       "      <td id=\"T_c9d66_row2_col1\" class=\"data row2 col1\" >(800, 11)</td>\n",
       "    </tr>\n",
       "    <tr>\n",
       "      <th id=\"T_c9d66_level0_row3\" class=\"row_heading level0 row3\" >3</th>\n",
       "      <td id=\"T_c9d66_row3_col0\" class=\"data row3 col0\" >Numeric features</td>\n",
       "      <td id=\"T_c9d66_row3_col1\" class=\"data row3 col1\" >11</td>\n",
       "    </tr>\n",
       "    <tr>\n",
       "      <th id=\"T_c9d66_level0_row4\" class=\"row_heading level0 row4\" >4</th>\n",
       "      <td id=\"T_c9d66_row4_col0\" class=\"data row4 col0\" >Preprocess</td>\n",
       "      <td id=\"T_c9d66_row4_col1\" class=\"data row4 col1\" >True</td>\n",
       "    </tr>\n",
       "    <tr>\n",
       "      <th id=\"T_c9d66_level0_row5\" class=\"row_heading level0 row5\" >5</th>\n",
       "      <td id=\"T_c9d66_row5_col0\" class=\"data row5 col0\" >Imputation type</td>\n",
       "      <td id=\"T_c9d66_row5_col1\" class=\"data row5 col1\" >simple</td>\n",
       "    </tr>\n",
       "    <tr>\n",
       "      <th id=\"T_c9d66_level0_row6\" class=\"row_heading level0 row6\" >6</th>\n",
       "      <td id=\"T_c9d66_row6_col0\" class=\"data row6 col0\" >Numeric imputation</td>\n",
       "      <td id=\"T_c9d66_row6_col1\" class=\"data row6 col1\" >mean</td>\n",
       "    </tr>\n",
       "    <tr>\n",
       "      <th id=\"T_c9d66_level0_row7\" class=\"row_heading level0 row7\" >7</th>\n",
       "      <td id=\"T_c9d66_row7_col0\" class=\"data row7 col0\" >Categorical imputation</td>\n",
       "      <td id=\"T_c9d66_row7_col1\" class=\"data row7 col1\" >mode</td>\n",
       "    </tr>\n",
       "    <tr>\n",
       "      <th id=\"T_c9d66_level0_row8\" class=\"row_heading level0 row8\" >8</th>\n",
       "      <td id=\"T_c9d66_row8_col0\" class=\"data row8 col0\" >Normalize</td>\n",
       "      <td id=\"T_c9d66_row8_col1\" class=\"data row8 col1\" >True</td>\n",
       "    </tr>\n",
       "    <tr>\n",
       "      <th id=\"T_c9d66_level0_row9\" class=\"row_heading level0 row9\" >9</th>\n",
       "      <td id=\"T_c9d66_row9_col0\" class=\"data row9 col0\" >Normalize method</td>\n",
       "      <td id=\"T_c9d66_row9_col1\" class=\"data row9 col1\" >zscore</td>\n",
       "    </tr>\n",
       "    <tr>\n",
       "      <th id=\"T_c9d66_level0_row10\" class=\"row_heading level0 row10\" >10</th>\n",
       "      <td id=\"T_c9d66_row10_col0\" class=\"data row10 col0\" >CPU Jobs</td>\n",
       "      <td id=\"T_c9d66_row10_col1\" class=\"data row10 col1\" >-1</td>\n",
       "    </tr>\n",
       "    <tr>\n",
       "      <th id=\"T_c9d66_level0_row11\" class=\"row_heading level0 row11\" >11</th>\n",
       "      <td id=\"T_c9d66_row11_col0\" class=\"data row11 col0\" >Use GPU</td>\n",
       "      <td id=\"T_c9d66_row11_col1\" class=\"data row11 col1\" >False</td>\n",
       "    </tr>\n",
       "    <tr>\n",
       "      <th id=\"T_c9d66_level0_row12\" class=\"row_heading level0 row12\" >12</th>\n",
       "      <td id=\"T_c9d66_row12_col0\" class=\"data row12 col0\" >Log Experiment</td>\n",
       "      <td id=\"T_c9d66_row12_col1\" class=\"data row12 col1\" >MlflowLogger</td>\n",
       "    </tr>\n",
       "    <tr>\n",
       "      <th id=\"T_c9d66_level0_row13\" class=\"row_heading level0 row13\" >13</th>\n",
       "      <td id=\"T_c9d66_row13_col0\" class=\"data row13 col0\" >Experiment Name</td>\n",
       "      <td id=\"T_c9d66_row13_col1\" class=\"data row13 col1\" >pockemon_9</td>\n",
       "    </tr>\n",
       "    <tr>\n",
       "      <th id=\"T_c9d66_level0_row14\" class=\"row_heading level0 row14\" >14</th>\n",
       "      <td id=\"T_c9d66_row14_col0\" class=\"data row14 col0\" >USI</td>\n",
       "      <td id=\"T_c9d66_row14_col1\" class=\"data row14 col1\" >76f7</td>\n",
       "    </tr>\n",
       "  </tbody>\n",
       "</table>\n"
      ],
      "text/plain": [
       "<pandas.io.formats.style.Styler at 0x7f0e7cc0bf10>"
      ]
     },
     "metadata": {},
     "output_type": "display_data"
    },
    {
     "name": "stderr",
     "output_type": "stream",
     "text": [
      "2024/03/02 17:02:23 INFO mlflow.tracking.fluent: Experiment with name 'pockemon_9' does not exist. Creating a new experiment.\n"
     ]
    },
    {
     "data": {
      "text/html": [],
      "text/plain": [
       "<IPython.core.display.HTML object>"
      ]
     },
     "metadata": {},
     "output_type": "display_data"
    },
    {
     "data": {
      "text/html": [
       "<style type=\"text/css\">\n",
       "</style>\n",
       "<table id=\"T_2ccd8\">\n",
       "  <thead>\n",
       "    <tr>\n",
       "      <th class=\"blank level0\" >&nbsp;</th>\n",
       "      <th id=\"T_2ccd8_level0_col0\" class=\"col_heading level0 col0\" >Silhouette</th>\n",
       "      <th id=\"T_2ccd8_level0_col1\" class=\"col_heading level0 col1\" >Calinski-Harabasz</th>\n",
       "      <th id=\"T_2ccd8_level0_col2\" class=\"col_heading level0 col2\" >Davies-Bouldin</th>\n",
       "      <th id=\"T_2ccd8_level0_col3\" class=\"col_heading level0 col3\" >Homogeneity</th>\n",
       "      <th id=\"T_2ccd8_level0_col4\" class=\"col_heading level0 col4\" >Rand Index</th>\n",
       "      <th id=\"T_2ccd8_level0_col5\" class=\"col_heading level0 col5\" >Completeness</th>\n",
       "    </tr>\n",
       "  </thead>\n",
       "  <tbody>\n",
       "    <tr>\n",
       "      <th id=\"T_2ccd8_level0_row0\" class=\"row_heading level0 row0\" >0</th>\n",
       "      <td id=\"T_2ccd8_row0_col0\" class=\"data row0 col0\" >0.1245</td>\n",
       "      <td id=\"T_2ccd8_row0_col1\" class=\"data row0 col1\" >125.6700</td>\n",
       "      <td id=\"T_2ccd8_row0_col2\" class=\"data row0 col2\" >2.0817</td>\n",
       "      <td id=\"T_2ccd8_row0_col3\" class=\"data row0 col3\" >0</td>\n",
       "      <td id=\"T_2ccd8_row0_col4\" class=\"data row0 col4\" >0</td>\n",
       "      <td id=\"T_2ccd8_row0_col5\" class=\"data row0 col5\" >0</td>\n",
       "    </tr>\n",
       "  </tbody>\n",
       "</table>\n"
      ],
      "text/plain": [
       "<pandas.io.formats.style.Styler at 0x7f0e91b43d30>"
      ]
     },
     "metadata": {},
     "output_type": "display_data"
    },
    {
     "data": {
      "text/html": [],
      "text/plain": [
       "<IPython.core.display.HTML object>"
      ]
     },
     "metadata": {},
     "output_type": "display_data"
    }
   ],
   "source": [
    "s = setup(df, session_id = 1212,\n",
    "           log_experiment = True, experiment_name = 'pockemon_9', normalize = True)\n",
    "\n",
    "model = create_model('birch', num_clusters = 6)\n",
    "\n",
    "metrics_dict = pull()\n",
    "for metric_name, metric_value in metrics_dict.items():\n",
    "    numeric_value = metric_value.values[0]\n",
    "\n",
    "    mlflow.log_metrics({metric_name: numeric_value})"
   ]
  },
  {
   "cell_type": "code",
   "execution_count": 28,
   "metadata": {},
   "outputs": [
    {
     "data": {
      "text/html": [],
      "text/plain": [
       "<IPython.core.display.HTML object>"
      ]
     },
     "metadata": {},
     "output_type": "display_data"
    },
    {
     "data": {
      "image/png": "[encoded data removed]",
      "text/plain": [
       "<Figure size 800x550 with 1 Axes>"
      ]
     },
     "metadata": {},
     "output_type": "display_data"
    }
   ],
   "source": [
    "# plot elbow with pycaret\n",
    "# Seems that there are 4 clusters...\n",
    "\n",
    "plot_model(model, plot = 'elbow')"
   ]
  },
  {
   "cell_type": "code",
   "execution_count": 29,
   "metadata": {},
   "outputs": [
    {
     "name": "stderr",
     "output_type": "stream",
     "text": [
      "2024-03-02 17:03:06.255682: I tensorflow/tsl/cuda/cudart_stub.cc:28] Could not find cuda drivers on your machine, GPU will not be used.\n",
      "2024-03-02 17:03:06.879745: I tensorflow/tsl/cuda/cudart_stub.cc:28] Could not find cuda drivers on your machine, GPU will not be used.\n",
      "2024-03-02 17:03:06.888976: I tensorflow/core/platform/cpu_feature_guard.cc:182] This TensorFlow binary is optimized to use available CPU instructions in performance-critical operations.\n",
      "To enable the following instructions: AVX2 FMA, in other operations, rebuild TensorFlow with the appropriate compiler flags.\n",
      "2024-03-02 17:03:08.923592: W tensorflow/compiler/tf2tensorrt/utils/py_utils.cc:38] TF-TRT Warning: Could not find TensorRT\n",
      "2024/03/02 17:03:11 INFO mlflow.tracking.fluent: Autologging successfully enabled for keras.\n",
      "2024/03/02 17:03:11 INFO mlflow.tracking.fluent: Autologging successfully enabled for tensorflow.\n"
     ]
    },
    {
     "data": {
      "image/png": "[encoded data removed]",
      "text/plain": [
       "<Figure size 800x550 with 1 Axes>"
      ]
     },
     "metadata": {},
     "output_type": "display_data"
    }
   ],
   "source": [
    "# applay umap to squeeze space\n",
    "\n",
    "import umap\n",
    "\n",
    "uMap = umap.UMAP()\n",
    "df_umap = uMap.fit_transform(df.copy())\n",
    "\n",
    "plt.scatter(df_umap[:, 0], df_umap[:, 1])\n",
    "plt.show()"
   ]
  },
  {
   "cell_type": "code",
   "execution_count": 30,
   "metadata": {},
   "outputs": [
    {
     "data": {
      "image/png": "[encoded data removed]",
      "text/plain": [
       "<Figure size 800x550 with 1 Axes>"
      ]
     },
     "metadata": {},
     "output_type": "display_data"
    }
   ],
   "source": [
    "# And squeeze to 2 dims\n",
    "\n",
    "uMap = umap.UMAP(n_components = 2)\n",
    "df_umap = uMap.fit_transform(df.copy())\n",
    "\n",
    "plt.scatter(df_umap[:, 0], df_umap[:, 1])\n",
    "plt.show()"
   ]
  },
  {
   "cell_type": "code",
   "execution_count": 31,
   "metadata": {},
   "outputs": [],
   "source": [
    "# Scale features with StandardScaler\n",
    "\n",
    "from sklearn.preprocessing import StandardScaler\n",
    "\n",
    "sclaer = StandardScaler()\n",
    "df_umap = sclaer.fit_transform(df_umap)"
   ]
  },
  {
   "cell_type": "code",
   "execution_count": 32,
   "metadata": {},
   "outputs": [
    {
     "data": {
      "text/html": [
       "<style type=\"text/css\">\n",
       "</style>\n",
       "<table id=\"T_4d720\">\n",
       "  <thead>\n",
       "    <tr>\n",
       "      <th class=\"blank level0\" >&nbsp;</th>\n",
       "      <th id=\"T_4d720_level0_col0\" class=\"col_heading level0 col0\" >Description</th>\n",
       "      <th id=\"T_4d720_level0_col1\" class=\"col_heading level0 col1\" >Value</th>\n",
       "    </tr>\n",
       "  </thead>\n",
       "  <tbody>\n",
       "    <tr>\n",
       "      <th id=\"T_4d720_level0_row0\" class=\"row_heading level0 row0\" >0</th>\n",
       "      <td id=\"T_4d720_row0_col0\" class=\"data row0 col0\" >Session id</td>\n",
       "      <td id=\"T_4d720_row0_col1\" class=\"data row0 col1\" >1212</td>\n",
       "    </tr>\n",
       "    <tr>\n",
       "      <th id=\"T_4d720_level0_row1\" class=\"row_heading level0 row1\" >1</th>\n",
       "      <td id=\"T_4d720_row1_col0\" class=\"data row1 col0\" >Original data shape</td>\n",
       "      <td id=\"T_4d720_row1_col1\" class=\"data row1 col1\" >(800, 11)</td>\n",
       "    </tr>\n",
       "    <tr>\n",
       "      <th id=\"T_4d720_level0_row2\" class=\"row_heading level0 row2\" >2</th>\n",
       "      <td id=\"T_4d720_row2_col0\" class=\"data row2 col0\" >Transformed data shape</td>\n",
       "      <td id=\"T_4d720_row2_col1\" class=\"data row2 col1\" >(800, 11)</td>\n",
       "    </tr>\n",
       "    <tr>\n",
       "      <th id=\"T_4d720_level0_row3\" class=\"row_heading level0 row3\" >3</th>\n",
       "      <td id=\"T_4d720_row3_col0\" class=\"data row3 col0\" >Numeric features</td>\n",
       "      <td id=\"T_4d720_row3_col1\" class=\"data row3 col1\" >11</td>\n",
       "    </tr>\n",
       "  </tbody>\n",
       "</table>\n"
      ],
      "text/plain": [
       "<pandas.io.formats.style.Styler at 0x7f0def63a530>"
      ]
     },
     "metadata": {},
     "output_type": "display_data"
    },
    {
     "name": "stderr",
     "output_type": "stream",
     "text": [
      "2024/03/02 17:03:27 INFO mlflow.tracking.fluent: Experiment with name 'pockemon_10' does not exist. Creating a new experiment.\n"
     ]
    },
    {
     "data": {
      "text/html": [],
      "text/plain": [
       "<IPython.core.display.HTML object>"
      ]
     },
     "metadata": {},
     "output_type": "display_data"
    },
    {
     "data": {
      "text/html": [
       "<style type=\"text/css\">\n",
       "</style>\n",
       "<table id=\"T_54601\">\n",
       "  <thead>\n",
       "    <tr>\n",
       "      <th class=\"blank level0\" >&nbsp;</th>\n",
       "      <th id=\"T_54601_level0_col0\" class=\"col_heading level0 col0\" >Silhouette</th>\n",
       "      <th id=\"T_54601_level0_col1\" class=\"col_heading level0 col1\" >Calinski-Harabasz</th>\n",
       "      <th id=\"T_54601_level0_col2\" class=\"col_heading level0 col2\" >Davies-Bouldin</th>\n",
       "      <th id=\"T_54601_level0_col3\" class=\"col_heading level0 col3\" >Homogeneity</th>\n",
       "      <th id=\"T_54601_level0_col4\" class=\"col_heading level0 col4\" >Rand Index</th>\n",
       "      <th id=\"T_54601_level0_col5\" class=\"col_heading level0 col5\" >Completeness</th>\n",
       "    </tr>\n",
       "  </thead>\n",
       "  <tbody>\n",
       "    <tr>\n",
       "      <th id=\"T_54601_level0_row0\" class=\"row_heading level0 row0\" >0</th>\n",
       "      <td id=\"T_54601_row0_col0\" class=\"data row0 col0\" >0.3289</td>\n",
       "      <td id=\"T_54601_row0_col1\" class=\"data row0 col1\" >926.8205</td>\n",
       "      <td id=\"T_54601_row0_col2\" class=\"data row0 col2\" >1.0261</td>\n",
       "      <td id=\"T_54601_row0_col3\" class=\"data row0 col3\" >0</td>\n",
       "      <td id=\"T_54601_row0_col4\" class=\"data row0 col4\" >0</td>\n",
       "      <td id=\"T_54601_row0_col5\" class=\"data row0 col5\" >0</td>\n",
       "    </tr>\n",
       "  </tbody>\n",
       "</table>\n"
      ],
      "text/plain": [
       "<pandas.io.formats.style.Styler at 0x7f0deff70cd0>"
      ]
     },
     "metadata": {},
     "output_type": "display_data"
    },
    {
     "data": {
      "text/html": [],
      "text/plain": [
       "<IPython.core.display.HTML object>"
      ]
     },
     "metadata": {},
     "output_type": "display_data"
    }
   ],
   "source": [
    "# Tell pycarm do not preprocess my data, i do it myself\n",
    "\n",
    "s = setup(df, session_id = 1212,  normalize = False, preprocess = False,\n",
    "           log_experiment = True, experiment_name = 'pockemon_10')\n",
    "\n",
    "model = create_model('kmeans', num_clusters = 4)\n",
    "\n",
    "metrics_dict = pull()\n",
    "for metric_name, metric_value in metrics_dict.items():\n",
    "    numeric_value = metric_value.values[0]\n",
    "\n",
    "    mlflow.log_metrics({metric_name: numeric_value})"
   ]
  },
  {
   "cell_type": "code",
   "execution_count": 33,
   "metadata": {},
   "outputs": [
    {
     "data": {
      "text/html": [
       "<style type=\"text/css\">\n",
       "</style>\n",
       "<table id=\"T_38a6f\">\n",
       "  <thead>\n",
       "    <tr>\n",
       "      <th class=\"blank level0\" >&nbsp;</th>\n",
       "      <th id=\"T_38a6f_level0_col0\" class=\"col_heading level0 col0\" >Description</th>\n",
       "      <th id=\"T_38a6f_level0_col1\" class=\"col_heading level0 col1\" >Value</th>\n",
       "    </tr>\n",
       "  </thead>\n",
       "  <tbody>\n",
       "    <tr>\n",
       "      <th id=\"T_38a6f_level0_row0\" class=\"row_heading level0 row0\" >0</th>\n",
       "      <td id=\"T_38a6f_row0_col0\" class=\"data row0 col0\" >Session id</td>\n",
       "      <td id=\"T_38a6f_row0_col1\" class=\"data row0 col1\" >1212</td>\n",
       "    </tr>\n",
       "    <tr>\n",
       "      <th id=\"T_38a6f_level0_row1\" class=\"row_heading level0 row1\" >1</th>\n",
       "      <td id=\"T_38a6f_row1_col0\" class=\"data row1 col0\" >Original data shape</td>\n",
       "      <td id=\"T_38a6f_row1_col1\" class=\"data row1 col1\" >(800, 11)</td>\n",
       "    </tr>\n",
       "    <tr>\n",
       "      <th id=\"T_38a6f_level0_row2\" class=\"row_heading level0 row2\" >2</th>\n",
       "      <td id=\"T_38a6f_row2_col0\" class=\"data row2 col0\" >Transformed data shape</td>\n",
       "      <td id=\"T_38a6f_row2_col1\" class=\"data row2 col1\" >(800, 11)</td>\n",
       "    </tr>\n",
       "    <tr>\n",
       "      <th id=\"T_38a6f_level0_row3\" class=\"row_heading level0 row3\" >3</th>\n",
       "      <td id=\"T_38a6f_row3_col0\" class=\"data row3 col0\" >Numeric features</td>\n",
       "      <td id=\"T_38a6f_row3_col1\" class=\"data row3 col1\" >11</td>\n",
       "    </tr>\n",
       "  </tbody>\n",
       "</table>\n"
      ],
      "text/plain": [
       "<pandas.io.formats.style.Styler at 0x7f0e641461a0>"
      ]
     },
     "metadata": {},
     "output_type": "display_data"
    },
    {
     "name": "stderr",
     "output_type": "stream",
     "text": [
      "2024/03/02 17:03:34 INFO mlflow.tracking.fluent: Experiment with name 'pockemon_11' does not exist. Creating a new experiment.\n"
     ]
    },
    {
     "data": {
      "text/html": [],
      "text/plain": [
       "<IPython.core.display.HTML object>"
      ]
     },
     "metadata": {},
     "output_type": "display_data"
    },
    {
     "data": {
      "text/html": [
       "<style type=\"text/css\">\n",
       "</style>\n",
       "<table id=\"T_a060d\">\n",
       "  <thead>\n",
       "    <tr>\n",
       "      <th class=\"blank level0\" >&nbsp;</th>\n",
       "      <th id=\"T_a060d_level0_col0\" class=\"col_heading level0 col0\" >Silhouette</th>\n",
       "      <th id=\"T_a060d_level0_col1\" class=\"col_heading level0 col1\" >Calinski-Harabasz</th>\n",
       "      <th id=\"T_a060d_level0_col2\" class=\"col_heading level0 col2\" >Davies-Bouldin</th>\n",
       "      <th id=\"T_a060d_level0_col3\" class=\"col_heading level0 col3\" >Homogeneity</th>\n",
       "      <th id=\"T_a060d_level0_col4\" class=\"col_heading level0 col4\" >Rand Index</th>\n",
       "      <th id=\"T_a060d_level0_col5\" class=\"col_heading level0 col5\" >Completeness</th>\n",
       "    </tr>\n",
       "  </thead>\n",
       "  <tbody>\n",
       "    <tr>\n",
       "      <th id=\"T_a060d_level0_row0\" class=\"row_heading level0 row0\" >0</th>\n",
       "      <td id=\"T_a060d_row0_col0\" class=\"data row0 col0\" >0.2965</td>\n",
       "      <td id=\"T_a060d_row0_col1\" class=\"data row0 col1\" >851.5435</td>\n",
       "      <td id=\"T_a060d_row0_col2\" class=\"data row0 col2\" >1.0891</td>\n",
       "      <td id=\"T_a060d_row0_col3\" class=\"data row0 col3\" >0</td>\n",
       "      <td id=\"T_a060d_row0_col4\" class=\"data row0 col4\" >0</td>\n",
       "      <td id=\"T_a060d_row0_col5\" class=\"data row0 col5\" >0</td>\n",
       "    </tr>\n",
       "  </tbody>\n",
       "</table>\n"
      ],
      "text/plain": [
       "<pandas.io.formats.style.Styler at 0x7f0e90ffb6a0>"
      ]
     },
     "metadata": {},
     "output_type": "display_data"
    },
    {
     "data": {
      "text/html": [],
      "text/plain": [
       "<IPython.core.display.HTML object>"
      ]
     },
     "metadata": {},
     "output_type": "display_data"
    }
   ],
   "source": [
    "# Get better metrics...\n",
    "\n",
    "s = setup(df, session_id = 1212,  normalize = False, preprocess = False,\n",
    "           log_experiment = True, experiment_name = 'pockemon_11')\n",
    "\n",
    "model = create_model('birch', num_clusters = 4)\n",
    "\n",
    "metrics_dict = pull()\n",
    "for metric_name, metric_value in metrics_dict.items():\n",
    "    numeric_value = metric_value.values[0]\n",
    "\n",
    "    mlflow.log_metrics({metric_name: numeric_value})"
   ]
  },
  {
   "cell_type": "code",
   "execution_count": 34,
   "metadata": {},
   "outputs": [
    {
     "data": {
      "text/html": [
       "<style type=\"text/css\">\n",
       "</style>\n",
       "<table id=\"T_bad66\">\n",
       "  <thead>\n",
       "    <tr>\n",
       "      <th class=\"blank level0\" >&nbsp;</th>\n",
       "      <th id=\"T_bad66_level0_col0\" class=\"col_heading level0 col0\" >Description</th>\n",
       "      <th id=\"T_bad66_level0_col1\" class=\"col_heading level0 col1\" >Value</th>\n",
       "    </tr>\n",
       "  </thead>\n",
       "  <tbody>\n",
       "    <tr>\n",
       "      <th id=\"T_bad66_level0_row0\" class=\"row_heading level0 row0\" >0</th>\n",
       "      <td id=\"T_bad66_row0_col0\" class=\"data row0 col0\" >Session id</td>\n",
       "      <td id=\"T_bad66_row0_col1\" class=\"data row0 col1\" >1212</td>\n",
       "    </tr>\n",
       "    <tr>\n",
       "      <th id=\"T_bad66_level0_row1\" class=\"row_heading level0 row1\" >1</th>\n",
       "      <td id=\"T_bad66_row1_col0\" class=\"data row1 col0\" >Original data shape</td>\n",
       "      <td id=\"T_bad66_row1_col1\" class=\"data row1 col1\" >(800, 11)</td>\n",
       "    </tr>\n",
       "    <tr>\n",
       "      <th id=\"T_bad66_level0_row2\" class=\"row_heading level0 row2\" >2</th>\n",
       "      <td id=\"T_bad66_row2_col0\" class=\"data row2 col0\" >Transformed data shape</td>\n",
       "      <td id=\"T_bad66_row2_col1\" class=\"data row2 col1\" >(800, 11)</td>\n",
       "    </tr>\n",
       "    <tr>\n",
       "      <th id=\"T_bad66_level0_row3\" class=\"row_heading level0 row3\" >3</th>\n",
       "      <td id=\"T_bad66_row3_col0\" class=\"data row3 col0\" >Numeric features</td>\n",
       "      <td id=\"T_bad66_row3_col1\" class=\"data row3 col1\" >11</td>\n",
       "    </tr>\n",
       "  </tbody>\n",
       "</table>\n"
      ],
      "text/plain": [
       "<pandas.io.formats.style.Styler at 0x7f0def6d6350>"
      ]
     },
     "metadata": {},
     "output_type": "display_data"
    },
    {
     "data": {
      "text/html": [],
      "text/plain": [
       "<IPython.core.display.HTML object>"
      ]
     },
     "metadata": {},
     "output_type": "display_data"
    },
    {
     "data": {
      "text/html": [
       "<style type=\"text/css\">\n",
       "</style>\n",
       "<table id=\"T_585d8\">\n",
       "  <thead>\n",
       "    <tr>\n",
       "      <th class=\"blank level0\" >&nbsp;</th>\n",
       "      <th id=\"T_585d8_level0_col0\" class=\"col_heading level0 col0\" >Silhouette</th>\n",
       "      <th id=\"T_585d8_level0_col1\" class=\"col_heading level0 col1\" >Calinski-Harabasz</th>\n",
       "      <th id=\"T_585d8_level0_col2\" class=\"col_heading level0 col2\" >Davies-Bouldin</th>\n",
       "      <th id=\"T_585d8_level0_col3\" class=\"col_heading level0 col3\" >Homogeneity</th>\n",
       "      <th id=\"T_585d8_level0_col4\" class=\"col_heading level0 col4\" >Rand Index</th>\n",
       "      <th id=\"T_585d8_level0_col5\" class=\"col_heading level0 col5\" >Completeness</th>\n",
       "    </tr>\n",
       "  </thead>\n",
       "  <tbody>\n",
       "    <tr>\n",
       "      <th id=\"T_585d8_level0_row0\" class=\"row_heading level0 row0\" >0</th>\n",
       "      <td id=\"T_585d8_row0_col0\" class=\"data row0 col0\" >0.3289</td>\n",
       "      <td id=\"T_585d8_row0_col1\" class=\"data row0 col1\" >926.8205</td>\n",
       "      <td id=\"T_585d8_row0_col2\" class=\"data row0 col2\" >1.0261</td>\n",
       "      <td id=\"T_585d8_row0_col3\" class=\"data row0 col3\" >0</td>\n",
       "      <td id=\"T_585d8_row0_col4\" class=\"data row0 col4\" >0</td>\n",
       "      <td id=\"T_585d8_row0_col5\" class=\"data row0 col5\" >0</td>\n",
       "    </tr>\n",
       "  </tbody>\n",
       "</table>\n"
      ],
      "text/plain": [
       "<pandas.io.formats.style.Styler at 0x7f0e7cd71ff0>"
      ]
     },
     "metadata": {},
     "output_type": "display_data"
    },
    {
     "data": {
      "text/html": [],
      "text/plain": [
       "<IPython.core.display.HTML object>"
      ]
     },
     "metadata": {},
     "output_type": "display_data"
    }
   ],
   "source": [
    "s = setup(df, session_id = 1212,  normalize = False, preprocess = False,\n",
    "           log_experiment = True, experiment_name = 'pockemon_10')\n",
    "\n",
    "model = create_model('kmeans', num_clusters = 4)\n",
    "\n",
    "metrics_dict = pull()\n",
    "for metric_name, metric_value in metrics_dict.items():\n",
    "    numeric_value = metric_value.values[0]\n",
    "\n",
    "    mlflow.log_metrics({metric_name: numeric_value})"
   ]
  },
  {
   "cell_type": "code",
   "execution_count": 35,
   "metadata": {},
   "outputs": [
    {
     "data": {
      "text/html": [],
      "text/plain": [
       "<IPython.core.display.HTML object>"
      ]
     },
     "metadata": {},
     "output_type": "display_data"
    },
    {
     "data": {
      "application/vnd.plotly.v1+json": {
       "config": {
        "plotlyServerURL": "https://plot.ly"
       },
       "data": [
        {
         "customdata": [
          [
           6
          ],
          [
           16
          ],
          [
           2
          ],
          [
           6
          ],
          [
           12
          ],
          [
           17
          ],
          [
           2
          ],
          [
           2
          ],
          [
           8
          ],
          [
           5
          ],
          [
           9
          ],
          [
           14
          ],
          [
           14
          ],
          [
           14
          ],
          [
           14
          ],
          [
           14
          ],
          [
           16
          ],
          [
           6
          ],
          [
           12
          ],
          [
           8
          ],
          [
           8
          ],
          [
           17
          ],
          [
           14
          ],
          [
           17
          ],
          [
           1
          ],
          [
           9
          ],
          [
           9
          ],
          [
           12
          ],
          [
           14
          ],
          [
           1
          ],
          [
           3
          ],
          [
           17
          ],
          [
           14
          ],
          [
           14
          ],
          [
           14
          ],
          [
           15
          ],
          [
           11
          ],
          [
           14
          ],
          [
           3
          ],
          [
           6
          ],
          [
           2
          ],
          [
           2
          ],
          [
           16
          ],
          [
           16
          ],
          [
           15
          ],
          [
           11
          ],
          [
           16
          ],
          [
           17
          ],
          [
           2
          ],
          [
           2
          ],
          [
           2
          ],
          [
           0
          ],
          [
           2
          ],
          [
           12
          ],
          [
           14
          ],
          [
           14
          ],
          [
           14
          ],
          [
           14
          ],
          [
           16
          ],
          [
           16
          ],
          [
           2
          ],
          [
           10
          ],
          [
           10
          ],
          [
           17
          ],
          [
           17
          ],
          [
           2
          ],
          [
           2
          ],
          [
           14
          ],
          [
           11
          ],
          [
           10
          ],
          [
           14
          ],
          [
           16
          ],
          [
           15
          ],
          [
           9
          ],
          [
           7
          ],
          [
           7
          ],
          [
           3
          ],
          [
           3
          ],
          [
           3
          ],
          [
           2
          ],
          [
           6
          ],
          [
           2
          ],
          [
           17
          ],
          [
           12
          ],
          [
           15
          ],
          [
           15
          ],
          [
           0
          ],
          [
           10
          ],
          [
           2
          ],
          [
           2
          ],
          [
           2
          ],
          [
           17
          ],
          [
           12
          ],
          [
           17
          ],
          [
           1
          ],
          [
           1
          ],
          [
           14
          ],
          [
           14
          ],
          [
           12
          ],
          [
           15
          ],
          [
           9
          ],
          [
           15
          ],
          [
           2
          ],
          [
           1
          ],
          [
           6
          ],
          [
           14
          ],
          [
           6
          ],
          [
           4
          ],
          [
           6
          ],
          [
           3
          ],
          [
           2
          ],
          [
           0
          ],
          [
           17
          ],
          [
           0
          ],
          [
           17
          ],
          [
           6
          ],
          [
           9
          ],
          [
           15
          ],
          [
           12
          ]
         ],
         "hovertemplate": "Cluster=Cluster 0<br>PCA1=%{x}<br>PCA2=%{y}<br>Feature=%{customdata[0]}<extra></extra>",
         "legendgroup": "Cluster 0",
         "marker": {
          "color": "#636efa",
          "opacity": 0.5,
          "symbol": "circle"
         },
         "mode": "markers",
         "name": "Cluster 0",
         "orientation": "v",
         "showlegend": true,
         "textposition": "top center",
         "type": "scatter",
         "x": [
          179.95757521470082,
          189.0438409721605,
          168.54655774201717,
          139.46939379965352,
          155.63611613201547,
          136.9898246903625,
          177.2939755634588,
          287.83797908831974,
          179.41878411567998,
          207.82633442078412,
          175.07387524113545,
          198.40181229489377,
          154.82535966989252,
          157.20475463760872,
          158.05225594574435,
          177.29549909569062,
          266.1595537104569,
          178.89758570833865,
          253.48630094633182,
          262.11411513446643,
          263.5797639504457,
          168.24924151278975,
          175.06569441324163,
          177.30025981834348,
          178.6388336946576,
          177.293599976991,
          177.67493774359028,
          306.64870959961104,
          177.39778637449268,
          142.68875626948298,
          151.0480530364893,
          266.3654712596713,
          375.1508940810307,
          375.1341260752401,
          264.84976046313653,
          193.06490935789384,
          157.86219140735574,
          269.4186106329282,
          156.8298893035855,
          157.36286750671013,
          179.1151610270003,
          286.70767475318416,
          179.45488810193885,
          286.73974663544624,
          155.22579440784247,
          156.09527189662356,
          155.66342725581592,
          221.76362629229197,
          177.51931925761136,
          286.7680216320862,
          178.60871157038696,
          178.72489357456934,
          179.2615898295941,
          165.70774100891467,
          176.6524618094711,
          176.787916727929,
          183.53730792352616,
          181.33883469955757,
          210.83539210109973,
          177.33264424071885,
          266.94435658163184,
          364.7052867713663,
          254.26845139894235,
          365.20208605639743,
          254.82461417231218,
          288.54514166555913,
          376.1320896952141,
          168.07782706812742,
          155.89149794882445,
          179.0979403950713,
          262.2787878455841,
          155.09488990145383,
          155.91950333413817,
          155.457413121639,
          157.70450111560686,
          156.38665162157454,
          157.7911546055721,
          155.9159727000223,
          158.44382472255325,
          266.24332710978837,
          155.4576141920069,
          266.0031516477855,
          154.89407516764948,
          155.53885891421348,
          179.23182308906786,
          287.4065021560659,
          179.6410349495247,
          179.61532045017563,
          243.373751168602,
          287.29844768098457,
          287.5887164031557,
          156.17742608589086,
          176.81701063828984,
          156.17742608589086,
          178.84035305509465,
          179.00136777545995,
          177.37017681592746,
          181.14119586196557,
          252.77870690864765,
          290.4906250757486,
          206.05965044864914,
          179.97887026638952,
          176.40478300695787,
          264.85777493120213,
          216.7054825568689,
          199.9286891689104,
          217.10235380595097,
          264.7701567400426,
          264.99124310822134,
          192.02868636201057,
          178.66635632636675,
          178.95597676083617,
          212.07300182247462,
          179.08079396761232,
          217.14541238830085,
          213.44199579287925,
          211.67632641976144,
          144.29730776446738,
          178.01099009565363
         ],
         "xaxis": "x",
         "y": [
          14.76679197510963,
          144.94793129585014,
          11.953248038500512,
          26.7601378977307,
          -9.121339116935546,
          -34.87459752174613,
          -0.09484439887634968,
          8.746923456283854,
          -66.28364157959562,
          -36.87415822152839,
          31.27683488620018,
          7.306381933004606,
          32.83406282909397,
          10.640971958330397,
          -46.34285084306322,
          -2.811327842334778,
          -1.120354476439972,
          2.7842598578993236,
          18.33088013101957,
          22.145078080466902,
          -1.446799884665479,
          75.99672488966081,
          33.21762726878358,
          -2.744893422765372,
          -41.66371421106265,
          -2.90763201269787,
          -47.74320600033347,
          -2.4611109254291663,
          -2.9186740840376255,
          -50.01804327569365,
          -57.14735369299145,
          -17.707857602811156,
          -75.61153119738785,
          -34.26728540623506,
          -48.63281268736956,
          -29.721124395407664,
          -27.311981545509894,
          -37.490424162957105,
          -26.07464656757305,
          -16.915663410195865,
          -22.008394718242517,
          -0.26300425144697487,
          37.200050784025755,
          28.332710754260233,
          113.85043218472816,
          38.75451229226221,
          76.36319825471745,
          34.841155952147346,
          -16.773898095604483,
          -2.6305704647243267,
          -34.15766795361128,
          22.08300203540195,
          6.99776169277666,
          14.61895631410046,
          -58.16735040720166,
          62.20998146618188,
          -128.1370036200249,
          -92.74918667232637,
          129.85013112818137,
          -2.805892409125879,
          -24.38101988126353,
          29.179083782114095,
          32.533680908733274,
          -20.781794271660658,
          -16.300797581164055,
          -27.222800668364876,
          -36.6430191168352,
          -91.2862854667202,
          10.404689192219893,
          -18.397237264068725,
          24.847756567559347,
          10.52258381519826,
          -3.65118423220585,
          -19.303318673772896,
          -43.00539648347371,
          -35.41009738928754,
          -43.191006496304865,
          -36.32994781721018,
          -45.8715845633235,
          -11.779299855098685,
          -12.1070934182885,
          12.370109068060296,
          20.93608944532555,
          -48.083052514434755,
          30.87902385553272,
          58.49851629748951,
          -14.359657200477747,
          -7.3153794202900535,
          -17.224643945264848,
          -3.516763303893093,
          -31.661912357172667,
          -29.758525905232695,
          -19.109847626389563,
          -29.758525905232695,
          -20.355633687578614,
          -37.731305183884665,
          -2.8950412158384657,
          -27.579085118836158,
          -0.46971450844382767,
          -20.934881972106982,
          18.640031435445266,
          67.10937172981572,
          21.136909554815727,
          -15.007266117356508,
          -8.419345169190127,
          -48.70906078324066,
          -39.16116871282887,
          -14.841898109932767,
          3.6671892356252958,
          7.850806442938036,
          -7.963855441418524,
          54.91915417828392,
          12.216328400519588,
          50.96096881855117,
          28.710694954578756,
          -28.483970645620815,
          -66.85943986248469,
          -41.764359339076954,
          -20.710475636981442
         ],
         "yaxis": "y"
        },
        {
         "customdata": [
          [
           14
          ],
          [
           15
          ],
          [
           6
          ],
          [
           1
          ],
          [
           3
          ],
          [
           6
          ],
          [
           17
          ],
          [
           15
          ],
          [
           12
          ],
          [
           12
          ],
          [
           1
          ],
          [
           16
          ],
          [
           16
          ],
          [
           12
          ],
          [
           5
          ],
          [
           0
          ],
          [
           3
          ],
          [
           17
          ],
          [
           12
          ],
          [
           0
          ],
          [
           0
          ],
          [
           12
          ],
          [
           1
          ],
          [
           17
          ],
          [
           6
          ],
          [
           9
          ],
          [
           0
          ],
          [
           0
          ],
          [
           9
          ],
          [
           17
          ],
          [
           12
          ],
          [
           12
          ],
          [
           15
          ],
          [
           15
          ],
          [
           15
          ],
          [
           15
          ],
          [
           12
          ],
          [
           3
          ],
          [
           0
          ],
          [
           2
          ],
          [
           1
          ],
          [
           17
          ],
          [
           15
          ],
          [
           14
          ],
          [
           14
          ],
          [
           11
          ],
          [
           3
          ],
          [
           16
          ],
          [
           3
          ],
          [
           8
          ],
          [
           2
          ],
          [
           5
          ],
          [
           12
          ],
          [
           1
          ],
          [
           10
          ],
          [
           1
          ],
          [
           9
          ],
          [
           6
          ],
          [
           17
          ],
          [
           12
          ],
          [
           6
          ],
          [
           0
          ],
          [
           6
          ],
          [
           4
          ],
          [
           9
          ],
          [
           5
          ],
          [
           14
          ],
          [
           15
          ],
          [
           15
          ],
          [
           3
          ],
          [
           0
          ],
          [
           0
          ],
          [
           0
          ],
          [
           17
          ],
          [
           16
          ],
          [
           9
          ],
          [
           6
          ],
          [
           17
          ],
          [
           12
          ],
          [
           0
          ],
          [
           3
          ],
          [
           15
          ],
          [
           15
          ],
          [
           0
          ],
          [
           0
          ],
          [
           0
          ],
          [
           3
          ],
          [
           8
          ],
          [
           12
          ],
          [
           12
          ],
          [
           2
          ],
          [
           5
          ],
          [
           12
          ],
          [
           14
          ],
          [
           15
          ],
          [
           12
          ],
          [
           1
          ],
          [
           17
          ],
          [
           12
          ],
          [
           17
          ],
          [
           6
          ],
          [
           9
          ],
          [
           3
          ],
          [
           17
          ],
          [
           12
          ],
          [
           12
          ],
          [
           17
          ],
          [
           11
          ],
          [
           17
          ],
          [
           2
          ],
          [
           17
          ],
          [
           17
          ],
          [
           12
          ],
          [
           5
          ],
          [
           12
          ],
          [
           9
          ],
          [
           12
          ],
          [
           9
          ],
          [
           0
          ],
          [
           17
          ],
          [
           10
          ],
          [
           15
          ],
          [
           1
          ],
          [
           14
          ],
          [
           12
          ],
          [
           9
          ],
          [
           3
          ],
          [
           0
          ],
          [
           0
          ],
          [
           0
          ],
          [
           0
          ],
          [
           17
          ],
          [
           8
          ],
          [
           9
          ],
          [
           0
          ],
          [
           15
          ],
          [
           4
          ],
          [
           6
          ],
          [
           12
          ],
          [
           6
          ],
          [
           15
          ],
          [
           12
          ],
          [
           8
          ],
          [
           15
          ],
          [
           12
          ],
          [
           12
          ],
          [
           10
          ],
          [
           6
          ],
          [
           13
          ],
          [
           9
          ],
          [
           10
          ],
          [
           13
          ],
          [
           12
          ],
          [
           10
          ],
          [
           12
          ],
          [
           6
          ],
          [
           12
          ],
          [
           12
          ],
          [
           9
          ],
          [
           13
          ],
          [
           15
          ],
          [
           14
          ],
          [
           17
          ]
         ],
         "hovertemplate": "Cluster=Cluster 1<br>PCA1=%{x}<br>PCA2=%{y}<br>Feature=%{customdata[0]}<extra></extra>",
         "legendgroup": "Cluster 1",
         "marker": {
          "color": "#EF553B",
          "opacity": 0.5,
          "symbol": "circle"
         },
         "mode": "markers",
         "name": "Cluster 1",
         "orientation": "v",
         "showlegend": true,
         "textposition": "top center",
         "type": "scatter",
         "x": [
          -10.786885175858203,
          -26.705765110677447,
          -75.14345685833058,
          -6.924178005050104,
          -81.38712760929532,
          -26.423778879126893,
          -59.17935520231854,
          -64.99992936316073,
          -16.733509172540483,
          -60.49186882851485,
          -58.66215614795784,
          -58.72465404132086,
          -5.394209986584487,
          3.7000084672069056,
          -28.107439215935734,
          -22.771667576302256,
          -33.83243843505022,
          -5.69368803458335,
          -7.103241952655848,
          -55.30077554411142,
          -41.94101146296153,
          -18.4024650408852,
          -16.47774635547621,
          -32.21277038419845,
          -31.025150058452994,
          -32.33262383500545,
          -39.137969277121314,
          -39.02071789016142,
          -36.54686966382207,
          -39.75934086715559,
          -81.40961693205907,
          -81.04676300557006,
          5.308986487797857,
          4.999029167209379,
          -86.65357366593679,
          -86.09126025256175,
          6.162352150324709,
          -33.099614027060674,
          -10.510667927630447,
          -15.85019695210668,
          -94.10346839679647,
          -85.58425684107408,
          -35.00908546521288,
          -48.95295698459961,
          -68.28204500294319,
          -42.541364642441984,
          -7.970333492326959,
          5.799583315930443,
          -31.341807628820572,
          -69.78790143650852,
          -26.91688519406097,
          -91.16090831907647,
          -92.4582263293953,
          -71.66758392550892,
          -91.07180135680052,
          -16.086370282636036,
          -32.68902357264487,
          -27.85799135232091,
          -32.68275335641584,
          -15.318234403791594,
          -57.99094832370076,
          -26.871483869779084,
          -71.86809116447893,
          -69.01441959030959,
          -91.87592235322195,
          -93.97323018529396,
          -87.28734741306728,
          -78.49342984283247,
          -79.1124650651248,
          -5.350102750187842,
          -80.70351156594866,
          -81.52125822872759,
          -59.63828955443565,
          -55.82669746085648,
          -16.441810060290848,
          -32.24835247069309,
          -32.22349649447321,
          -31.912188276434172,
          -27.82140910305075,
          -55.582133416819374,
          -77.3352228159682,
          -91.27498241564648,
          -92.01073014748381,
          -11.299469950671964,
          -11.527462287107028,
          -11.466950656691822,
          -34.87535490572424,
          -95.62558908967038,
          -92.92832530545932,
          -26.27217904598602,
          -27.74547786421588,
          -32.71487698976739,
          8.858573986165712,
          -12.316947548531656,
          -47.649201704735454,
          -83.50367268118919,
          11.896484451197914,
          -95.58674992551566,
          -71.09739518170414,
          -23.49809930478427,
          -18.248797719886163,
          -24.978038855172837,
          5.2395886715225535,
          -97.9167330944345,
          -49.9561364197549,
          -16.464463375729895,
          -5.915005555446102,
          -27.659735747380434,
          5.5069466910144955,
          -15.982199228497358,
          -18.13555838707846,
          -32.69335777043212,
          5.802877048734644,
          -32.38166445228994,
          -24.771147830613316,
          -42.17558813260136,
          -82.24383099914444,
          -9.00777547544505,
          -49.260127476748565,
          -5.634144762566937,
          -33.284009139891474,
          -85.43229066244362,
          -31.834058927016066,
          -37.23043112642503,
          -1.4173800336942588,
          -47.194562309666416,
          -75.39148751552084,
          -50.362676255250506,
          -43.203004586646834,
          -48.01029836084054,
          -43.67922139954232,
          -32.573007918109795,
          -31.52800020788812,
          -32.8857537614673,
          -31.14710154369035,
          -56.02433651601561,
          -32.24632390534381,
          -32.514394044358674,
          -93.87109205885382,
          -26.97871764503159,
          -48.02733044740841,
          -89.56245710476325,
          -0.33738293179121404,
          -27.285648136285356,
          -23.77891059511417,
          3.735499203203634,
          -11.056066504685987,
          -91.2632798085678,
          -75.96560048775456,
          -32.12893359182554,
          -97.8426978246614,
          3.032068969766368,
          -22.651585527656916,
          -7.402822222908191,
          6.805450657163726,
          -32.51501625071541,
          -42.53276549067281,
          -54.952318691321764,
          0.15007665158049466,
          -76.40970103989878,
          -85.15615600232344,
          -38.276699374334086,
          -55.61787023259068
         ],
         "xaxis": "x",
         "y": [
          -10.092259953757372,
          10.461007428435932,
          -37.229071349275095,
          -24.51707912631917,
          -43.15334983241082,
          49.72855669894393,
          30.021751525579006,
          74.36590036651498,
          -3.4266988574878576,
          -4.062357210728002,
          11.83388339387873,
          21.8946963473756,
          67.77009689316591,
          -3.672658430063956,
          -2.335042587626833,
          -6.070252227752238,
          -33.84421649741549,
          12.590384434379837,
          -37.25406250998984,
          8.459572542625224,
          -30.224449785738646,
          -20.46421016507407,
          -0.06223451854514777,
          13.082534742353106,
          -8.80989258766917,
          -43.11285582018012,
          -12.977030951641519,
          -24.90447540766584,
          -29.422009075897233,
          -25.32974265579437,
          -3.6195963930110904,
          -13.85210038252458,
          -15.020099813904547,
          13.745326471060011,
          32.63537925176945,
          -11.415992626776443,
          27.403971353483488,
          -45.640155479981686,
          -26.310230459898083,
          30.721810889574563,
          21.936748971243883,
          49.358343796347725,
          -24.253072431863373,
          3.6838739944409737,
          -19.5418878384353,
          -4.736781346820509,
          -33.60768684390076,
          28.42592456660127,
          12.643289692807944,
          -15.891825863413805,
          9.47751673709682,
          -12.194250215096945,
          -1.4079115493012104,
          13.176389055904389,
          -17.496863822074566,
          6.228803356826517,
          24.883115191426306,
          -22.583963679283183,
          -40.00209115214684,
          5.293485753707279,
          -19.954504018275177,
          -40.657146907569455,
          -18.796390748177252,
          -8.74857234663434,
          -8.055802729608732,
          12.663341413237651,
          -14.294481699305878,
          20.228403779193137,
          -4.014892109368607,
          -36.39427290609477,
          -2.8385283848943716,
          40.42797334120138,
          34.56529883216885,
          -14.039437187581102,
          36.41301627225613,
          33.04538810987189,
          -28.36976727992897,
          3.0667128813003477,
          -5.410993980983568,
          -10.067933795337568,
          -11.510755978460695,
          -4.852504296222435,
          63.1509830264921,
          27.605612431658333,
          47.20559435104907,
          37.4674372952455,
          -7.163485451997219,
          -29.81945307781389,
          -23.423790224900486,
          -46.417897533116,
          -7.593843874318253,
          35.44711499195338,
          26.50998285360546,
          -45.63156482921494,
          54.827787305491626,
          -3.1452000136876097,
          -47.62542417649491,
          22.926753789313423,
          12.034136542545516,
          -10.660210933200162,
          -5.489041123136382,
          -3.942109050356894,
          -21.702635299452073,
          2.0283674816709323,
          31.279140532359886,
          -3.8001802853772637,
          -3.7526349516122472,
          9.1533898285297,
          -9.610804496628571,
          -6.465047336284012,
          20.417687611710125,
          13.20641046167329,
          -15.4057070194793,
          19.444098531105976,
          -18.054911865041074,
          8.045262893478762,
          -14.13564720404319,
          -1.1666560486175084,
          -42.36013343119432,
          30.40526662953974,
          -39.21874331358566,
          19.63493669793568,
          -45.24897336602709,
          -74.43988279778029,
          -12.752840333531898,
          -17.628688489881743,
          -6.2792288350900805,
          -16.782307534314846,
          -25.886909638936256,
          17.1669733310299,
          -14.792548939693972,
          14.078914152103097,
          -57.796183212428446,
          12.634782524316696,
          33.224466711533296,
          66.78537838867328,
          23.37498279296992,
          -23.311352619361227,
          -11.280313334565449,
          -24.183095717056016,
          54.457746287730615,
          -6.055273994539482,
          -23.445680171469455,
          67.66779262121595,
          -10.991312157620506,
          -35.46253594363273,
          48.43888403692355,
          -19.221847631993192,
          -6.5853966702498115,
          -5.767182283152926,
          49.83125822714609,
          -5.718718072653469,
          13.330435383652537,
          24.848227394539375,
          -21.141089816766694,
          -23.31325542047693,
          8.002480545005,
          27.586172392660522,
          15.41932570429191,
          5.195721491965171,
          23.624907321847157,
          24.246744000309597,
          -14.645038357087271
         ],
         "yaxis": "y"
        },
        {
         "customdata": [
          [
           14
          ],
          [
           3
          ],
          [
           5
          ],
          [
           17
          ],
          [
           12
          ],
          [
           9
          ],
          [
           10
          ],
          [
           10
          ],
          [
           2
          ],
          [
           8
          ],
          [
           10
          ],
          [
           12
          ],
          [
           13
          ],
          [
           10
          ],
          [
           13
          ],
          [
           9
          ],
          [
           12
          ],
          [
           17
          ],
          [
           9
          ],
          [
           13
          ],
          [
           11
          ],
          [
           1
          ],
          [
           4
          ],
          [
           6
          ],
          [
           5
          ],
          [
           0
          ],
          [
           5
          ],
          [
           13
          ],
          [
           6
          ],
          [
           3
          ],
          [
           8
          ],
          [
           12
          ],
          [
           17
          ],
          [
           15
          ],
          [
           12
          ],
          [
           9
          ],
          [
           17
          ],
          [
           9
          ],
          [
           0
          ],
          [
           15
          ],
          [
           0
          ],
          [
           5
          ],
          [
           13
          ],
          [
           8
          ],
          [
           9
          ],
          [
           0
          ],
          [
           17
          ],
          [
           1
          ],
          [
           9
          ],
          [
           16
          ],
          [
           12
          ],
          [
           10
          ],
          [
           3
          ],
          [
           13
          ],
          [
           1
          ],
          [
           12
          ],
          [
           13
          ],
          [
           6
          ],
          [
           1
          ],
          [
           8
          ],
          [
           4
          ],
          [
           12
          ],
          [
           8
          ],
          [
           4
          ],
          [
           0
          ],
          [
           12
          ],
          [
           5
          ],
          [
           5
          ],
          [
           17
          ],
          [
           17
          ],
          [
           5
          ],
          [
           0
          ],
          [
           12
          ],
          [
           10
          ],
          [
           14
          ],
          [
           9
          ],
          [
           15
          ],
          [
           17
          ],
          [
           3
          ],
          [
           17
          ],
          [
           12
          ],
          [
           11
          ],
          [
           0
          ],
          [
           9
          ],
          [
           9
          ],
          [
           1
          ],
          [
           13
          ],
          [
           14
          ],
          [
           17
          ],
          [
           17
          ],
          [
           5
          ],
          [
           8
          ],
          [
           14
          ],
          [
           14
          ],
          [
           1
          ],
          [
           14
          ],
          [
           9
          ],
          [
           6
          ],
          [
           6
          ],
          [
           10
          ],
          [
           6
          ],
          [
           17
          ],
          [
           17
          ],
          [
           0
          ],
          [
           0
          ],
          [
           17
          ],
          [
           6
          ],
          [
           13
          ],
          [
           3
          ],
          [
           3
          ],
          [
           3
          ],
          [
           3
          ],
          [
           3
          ],
          [
           11
          ],
          [
           11
          ],
          [
           17
          ],
          [
           9
          ],
          [
           17
          ],
          [
           14
          ],
          [
           12
          ],
          [
           11
          ],
          [
           10
          ],
          [
           11
          ],
          [
           9
          ],
          [
           0
          ],
          [
           15
          ],
          [
           6
          ],
          [
           2
          ],
          [
           3
          ],
          [
           9
          ],
          [
           9
          ],
          [
           5
          ],
          [
           12
          ],
          [
           16
          ],
          [
           0
          ],
          [
           17
          ],
          [
           9
          ],
          [
           12
          ],
          [
           3
          ],
          [
           14
          ],
          [
           9
          ],
          [
           17
          ],
          [
           15
          ],
          [
           6
          ],
          [
           8
          ],
          [
           17
          ],
          [
           17
          ],
          [
           6
          ],
          [
           12
          ],
          [
           3
          ],
          [
           16
          ],
          [
           1
          ],
          [
           0
          ],
          [
           15
          ],
          [
           9
          ],
          [
           13
          ],
          [
           14
          ],
          [
           17
          ],
          [
           4
          ],
          [
           14
          ],
          [
           3
          ],
          [
           15
          ],
          [
           9
          ],
          [
           15
          ],
          [
           17
          ],
          [
           4
          ],
          [
           5
          ],
          [
           3
          ],
          [
           9
          ],
          [
           12
          ],
          [
           4
          ],
          [
           13
          ],
          [
           9
          ],
          [
           5
          ],
          [
           12
          ],
          [
           3
          ],
          [
           5
          ],
          [
           14
          ],
          [
           5
          ],
          [
           13
          ],
          [
           14
          ],
          [
           16
          ],
          [
           17
          ],
          [
           1
          ],
          [
           16
          ],
          [
           16
          ],
          [
           10
          ],
          [
           16
          ],
          [
           17
          ],
          [
           15
          ],
          [
           2
          ],
          [
           17
          ],
          [
           12
          ],
          [
           1
          ],
          [
           7
          ],
          [
           16
          ],
          [
           17
          ],
          [
           17
          ],
          [
           10
          ],
          [
           6
          ],
          [
           0
          ],
          [
           9
          ],
          [
           12
          ],
          [
           0
          ],
          [
           0
          ],
          [
           16
          ],
          [
           0
          ],
          [
           11
          ],
          [
           12
          ],
          [
           12
          ],
          [
           11
          ],
          [
           16
          ],
          [
           17
          ],
          [
           17
          ],
          [
           8
          ],
          [
           6
          ],
          [
           9
          ],
          [
           9
          ],
          [
           8
          ],
          [
           14
          ],
          [
           1
          ],
          [
           8
          ],
          [
           17
          ],
          [
           12
          ],
          [
           12
          ],
          [
           8
          ],
          [
           8
          ],
          [
           5
          ],
          [
           17
          ],
          [
           4
          ],
          [
           12
          ],
          [
           17
          ],
          [
           11
          ],
          [
           15
          ],
          [
           9
          ],
          [
           15
          ],
          [
           11
          ],
          [
           12
          ],
          [
           17
          ],
          [
           17
          ],
          [
           9
          ],
          [
           8
          ],
          [
           8
          ],
          [
           8
          ],
          [
           17
          ],
          [
           17
          ],
          [
           6
          ],
          [
           17
          ],
          [
           17
          ],
          [
           15
          ],
          [
           17
          ],
          [
           3
          ],
          [
           17
          ],
          [
           14
          ],
          [
           0
          ],
          [
           11
          ],
          [
           3
          ],
          [
           6
          ],
          [
           0
          ],
          [
           12
          ],
          [
           17
          ],
          [
           17
          ],
          [
           17
          ],
          [
           3
          ],
          [
           6
          ],
          [
           15
          ],
          [
           15
          ],
          [
           1
          ],
          [
           10
          ],
          [
           2
          ],
          [
           9
          ],
          [
           9
          ],
          [
           13
          ],
          [
           6
          ],
          [
           10
          ],
          [
           12
          ],
          [
           17
          ],
          [
           0
          ],
          [
           6
          ],
          [
           14
          ],
          [
           17
          ],
          [
           6
          ],
          [
           6
          ],
          [
           12
          ],
          [
           6
          ]
         ],
         "hovertemplate": "Cluster=Cluster 2<br>PCA1=%{x}<br>PCA2=%{y}<br>Feature=%{customdata[0]}<extra></extra>",
         "legendgroup": "Cluster 2",
         "marker": {
          "color": "#00cc96",
          "opacity": 0.5,
          "symbol": "circle"
         },
         "mode": "markers",
         "name": "Cluster 2",
         "orientation": "v",
         "showlegend": true,
         "textposition": "top center",
         "type": "scatter",
         "x": [
          50.936067120856755,
          114.32987030916361,
          98.76317898439625,
          103.45157805726706,
          7.36595443881632,
          108.70440667034723,
          52.0695282499932,
          107.74384911627925,
          54.690814386694846,
          70.87368203550271,
          96.66605154047156,
          85.48827587250508,
          68.98800961325189,
          38.19978723324301,
          59.72372051237713,
          22.005809582277934,
          52.99701518295937,
          25.77195346689156,
          64.09264595217866,
          74.86989523653288,
          52.95363752510288,
          79.60726950912235,
          16.726408385303763,
          107.31896448767705,
          82.19032451332781,
          63.12409822074752,
          21.616707352273135,
          75.67056369346318,
          74.54309034524644,
          46.20978595033485,
          65.73002878092215,
          49.38340962398098,
          43.242736479925746,
          66.34825366442399,
          46.72770952960805,
          15.507528488199034,
          64.1878180841351,
          93.24884033023439,
          42.745014221363704,
          63.414032708617974,
          124.22644974745701,
          21.257164860580332,
          20.537349954016566,
          56.19570164332185,
          87.48614523141036,
          51.80381331174789,
          43.761033215460635,
          60.02423060053109,
          60.70816477802695,
          71.14554596199689,
          80.25831601317432,
          53.58991042101363,
          96.30543645858522,
          46.323692197473335,
          77.84911399898314,
          16.859078804943355,
          59.939566862793974,
          53.9730058941166,
          77.00829280558413,
          64.5252334900435,
          51.44730861441045,
          58.26778042269145,
          98.17969557440144,
          118.29526946933716,
          69.77820768200979,
          42.228461533229655,
          31.46339301493969,
          30.155206678340488,
          79.27463036563806,
          80.31634909680766,
          75.81747255972977,
          66.78169880185088,
          117.17817820119299,
          77.72147649004137,
          70.55877172107873,
          31.286138861354313,
          87.55274727637358,
          47.500312659887754,
          66.24538217472248,
          33.19383004411947,
          56.883378482690034,
          109.02897241532675,
          52.88370298083042,
          47.26102647846888,
          48.49548509493483,
          82.61813693628,
          41.3463996979283,
          59.082705584043765,
          69.98086049205628,
          66.17230045588775,
          21.305184465823146,
          52.32491119278875,
          58.78059625643796,
          55.74509599576246,
          56.53876223653978,
          60.166419218460526,
          29.331755705399587,
          112.85284803907622,
          46.99352799671914,
          89.93126026212184,
          129.69302840198827,
          40.78579628187641,
          26.744105335446967,
          43.415159474571816,
          39.70152645132952,
          68.29242838473553,
          68.2818166715983,
          69.70566719227035,
          92.186611583247,
          92.20306836410926,
          92.17015480238474,
          92.12078445979799,
          92.21129675454037,
          54.171679522758396,
          47.66269650895668,
          41.87283441026059,
          97.16969017179316,
          97.71926870122073,
          90.35288777449802,
          108.81765677495521,
          102.10491403489067,
          79.0712982975595,
          98.26157275057996,
          96.43843695603009,
          86.28264473308614,
          96.72898846417401,
          114.83155534800548,
          113.59722502729667,
          33.722887017045444,
          58.535386789621214,
          68.28471077518121,
          76.19583452751255,
          68.95237221541178,
          91.48926274569392,
          15.740110013977018,
          101.01922805332798,
          60.594640537837336,
          26.918611734376114,
          88.2191966148832,
          55.981721612201234,
          98.56482487446057,
          84.9836595224474,
          65.0816952302568,
          70.03544399424634,
          93.26589336766357,
          47.94804429930628,
          59.88262271614134,
          101.31220652381761,
          56.69035556092519,
          109.2867405664522,
          89.82794503404527,
          49.99570222949189,
          20.242044194400993,
          69.69283997890682,
          28.24459254835515,
          64.94098798124188,
          37.81635181856975,
          71.47664529045123,
          48.21168723708251,
          90.6310740823261,
          81.61940312045314,
          93.0494546045588,
          48.86228023041385,
          91.96723748710858,
          48.38236510473452,
          97.1365371977422,
          68.88198093552796,
          49.35900705932943,
          59.889723936946176,
          59.08049372169294,
          29.616517489200298,
          33.42368495541982,
          103.13774173523609,
          65.29399291873672,
          38.530132699673416,
          43.110524386000804,
          81.03519721035437,
          31.59093292779558,
          40.084139421018186,
          105.83286180924202,
          31.59093292779558,
          49.38955933308607,
          24.69236919037617,
          50.54195310752615,
          14.598344279796507,
          97.15618911394077,
          15.33460224641205,
          102.49917796620208,
          102.04637835271802,
          68.8872048045303,
          18.78453425678798,
          113.67127327600153,
          21.691917794184263,
          70.94240417148806,
          106.38619915502532,
          30.799389561558133,
          31.434238011889395,
          50.691003573059035,
          70.19036608545356,
          106.94615976477498,
          32.16113462883997,
          97.22328192721173,
          71.20464958575728,
          69.46969019832748,
          73.08550326233623,
          80.24189987705634,
          70.7362010065461,
          15.6917627753154,
          86.8200722347211,
          32.64448755979502,
          84.58931971617717,
          38.09341116026434,
          69.65472496533776,
          108.1731236276037,
          42.41433245881671,
          104.29935936658916,
          24.284376961382808,
          102.2816095256933,
          62.74382272594531,
          97.61335961668223,
          94.93127819665726,
          62.537966631347764,
          60.07760077962716,
          105.6028654410384,
          56.137190003367735,
          62.94967882054279,
          63.15553491514029,
          20.993262707249382,
          28.5269796979696,
          126.45937743039804,
          36.515401895538616,
          67.9568129679381,
          101.69247977165682,
          65.16114827339969,
          102.41917816222147,
          84.6550973395933,
          47.941633885783844,
          111.73226635997165,
          55.93849044496076,
          102.32246381378724,
          25.90945819051299,
          22.33868489900193,
          132.54270835652568,
          23.194163092625057,
          102.54279830576019,
          112.17965899071429,
          106.63913449160857,
          56.02868381954529,
          52.07392319979974,
          65.40245154044817,
          15.858352217820192,
          54.04995383248195,
          91.37851989868182,
          27.28310878425759,
          69.31224035089011,
          21.753881229095157,
          59.3470803412999,
          65.59075109226465,
          70.22456926152641,
          57.22606559581277,
          112.86721816730875,
          106.47059466192357,
          95.91049985662548,
          96.38697883781057,
          99.5111199097923,
          66.2133607710883,
          64.8716667045396,
          33.89315223270431,
          69.47194119167024,
          58.22887457076564,
          96.46646175756995,
          46.11367562977104,
          26.30910119446148,
          67.28793287101807,
          91.2934196495728,
          24.7215578881066,
          34.44647570640602,
          63.113275599000694,
          76.94432124948416,
          36.53308335326326,
          37.909688487127355,
          106.85626967638926,
          38.93949796938876,
          46.00515914350642,
          29.362112470587046
         ],
         "xaxis": "x",
         "y": [
          5.817278965171886,
          -23.087714003070968,
          -29.57315671024599,
          6.204595562096831,
          -14.491444876760077,
          30.76361942341235,
          24.285526607214518,
          65.63184586828443,
          34.187695788454214,
          -56.64262405272528,
          48.88489459154954,
          28.705749341382568,
          15.942453470288248,
          30.15352248769803,
          -19.5102618966206,
          6.722314306894175,
          -10.558711768074533,
          -8.235097575586511,
          2.237848271713733,
          7.961912483848311,
          -51.23982437202114,
          -23.015301946058866,
          20.91651956562014,
          -35.10638809366013,
          -38.26833727992784,
          -80.60234859701363,
          -1.9562939632726493,
          -9.407036553807277,
          -15.878229056139906,
          -47.98987669646088,
          -33.75958060871193,
          -26.582425353816223,
          9.364840587459536,
          3.1588691066364833,
          -3.0033765390231726,
          -18.04130235185703,
          -45.735044714236956,
          -3.6814895480022614,
          38.12198673854525,
          106.55017337704963,
          -43.672785751205694,
          21.328604242784746,
          -11.31256316748727,
          41.699309224908966,
          -34.13695493123204,
          9.975075293497973,
          32.99187807006839,
          24.794809053439415,
          7.358356900418518,
          55.59274175241875,
          5.192261779573407,
          59.66693419689625,
          -1.3910454130191423,
          -12.581349374045873,
          26.209978433568978,
          -30.47433333298049,
          32.49102655921392,
          -15.030263534546508,
          -28.1507547842598,
          -39.23644493380841,
          -0.872122621796452,
          42.44341211943751,
          70.2790515154042,
          -4.453591430588863,
          -5.157072515716507,
          -11.454720513555063,
          11.773246345495664,
          43.59956736315329,
          -3.8501823814035308,
          20.016382148715472,
          39.703787016698875,
          64.06471380161756,
          53.316420989485344,
          -7.507149282611006,
          -72.42211078165883,
          18.439549010474867,
          75.16249799763446,
          3.159585184159609,
          -37.65752368811419,
          18.16515195162498,
          -6.814534541243827,
          -7.482317964049607,
          -7.378542999831075,
          -22.219254446683156,
          -26.84962121411337,
          -49.666928987737336,
          10.217241147491904,
          13.014277308796144,
          -13.050279128749017,
          59.31529449309047,
          -18.729445918579195,
          66.0164404594204,
          -23.916009092532647,
          21.572138845345986,
          53.03277260496152,
          5.856488562229233,
          -12.83267292268395,
          6.955803989478001,
          -8.93213877262542,
          -2.958320671393595,
          -17.117179795613982,
          -30.747506415529617,
          -27.785712158332558,
          53.4845261078145,
          -44.29580252937024,
          -35.817221001186574,
          -36.039883060668124,
          22.744423498502968,
          4.416557406858422,
          4.397531590276331,
          4.435583223440515,
          4.492660673186786,
          4.3880186819852876,
          20.731196551041073,
          -29.73672176303679,
          8.713216396877929,
          33.35507991458999,
          63.760268941046334,
          0.8844604888822123,
          -37.81236325454803,
          1.9924603020661862,
          32.70918558807652,
          7.406437131421552,
          29.410325457321683,
          -26.1449473155417,
          76.31684844959882,
          -27.995816610922372,
          4.399151887927945,
          -7.168208982733422,
          83.68314516381122,
          -35.97915704444589,
          21.75607900323899,
          21.33971389766973,
          20.68921174809497,
          -29.40840031850703,
          -4.334110895883276,
          -15.61091647376028,
          -16.21671796341905,
          6.999451513806022,
          1.0559351997855702,
          -7.969917698703437,
          -18.935215898812874,
          61.57816203134905,
          -23.89374941377116,
          -22.518683913363766,
          -3.1306884938118364,
          39.02166930729465,
          -11.132879302138308,
          8.590637360259697,
          13.653543377489182,
          77.48474828594648,
          10.992870771778684,
          -67.67667950750536,
          40.570273010096834,
          9.398581533672358,
          24.20313833121878,
          -27.405963970643523,
          -0.243719424846107,
          2.675994667694777,
          -26.65182704211915,
          2.7483715188588214,
          32.60714835094405,
          -22.762791919637053,
          0.25727803681288947,
          -5.518710529742404,
          -5.650995511104846,
          -28.688659499436444,
          -50.97027592045153,
          23.79124186248809,
          -11.737879598641513,
          15.00388765219796,
          16.845374708869315,
          -11.954889212210167,
          14.299307215226754,
          -22.481759067335055,
          -45.599435596207286,
          -10.009563186266071,
          -23.37158599099109,
          17.670058833851577,
          -27.351190303518038,
          -23.37158599099109,
          58.00927247319499,
          -9.873285131833395,
          65.46510021200574,
          80.69896357866128,
          -40.474641539715414,
          36.609949312794235,
          89.49961264737964,
          14.456418389138062,
          82.76683271786673,
          -6.954758405597624,
          1.9170960830507047,
          -23.439152388569347,
          -44.09363026968977,
          -35.35272254788007,
          57.19432057313018,
          2.4103569504859523,
          4.673979268921829,
          49.36763584834882,
          -26.50556698697557,
          65.96174695709418,
          -5.38138721210643,
          12.843754176038994,
          11.353070201410043,
          189.07301134117355,
          116.04181551566454,
          31.88714037325953,
          20.536828974980878,
          8.390178417167185,
          -22.332364138438926,
          110.22271784197362,
          7.462911369121776,
          -1.1769419663215157,
          18.094897363805565,
          16.2019611510662,
          -20.809450046981574,
          -17.428166950580692,
          -45.61021361539257,
          31.14642371683321,
          -52.80188942102364,
          41.90735733151421,
          21.707000718866315,
          23.40030450255812,
          -23.57994709490521,
          16.920224796137436,
          40.5858467148001,
          50.025269712767,
          35.16010753940913,
          -49.90494002043278,
          -9.567335982602437,
          -34.0730262477411,
          -21.224088089950975,
          9.539184899576163,
          19.91114400453715,
          38.70353582296372,
          -33.84254277933459,
          -3.25404332737204,
          31.75567596782081,
          24.768695809016762,
          14.828745960313782,
          19.63696828707352,
          77.00997485948244,
          -2.8912659930464604,
          -7.298955476694069,
          -46.20496939866344,
          -5.160990099385918,
          -33.45464638738671,
          15.593738535151903,
          58.43075051700337,
          25.323769238939292,
          0.041693522781450554,
          -42.042343136378776,
          -27.958917333414334,
          -24.557957016269686,
          -6.594111644111715,
          -56.896567693970816,
          -39.13413127972967,
          -33.20985279659394,
          18.066225642676493,
          4.8201263056548145,
          10.579596258640438,
          11.486235245086274,
          -16.30735028121022,
          -56.840255421448525,
          -6.184318247564842,
          37.63289753780811,
          34.47732127147278,
          -12.971346643863313,
          26.104449069520374,
          10.634750353567854,
          13.020577595363157,
          -17.755285607411825,
          -18.454128046331064,
          -35.81976010668419,
          -13.502956381814922,
          -16.360403521124354,
          4.588937011462748,
          -39.210032733536,
          -38.178165112019116,
          -14.81997486757453,
          8.597291813320261,
          -26.399022194658357,
          69.13965131042148,
          -16.66082399603679,
          3.2151782515823264
         ],
         "yaxis": "y"
        },
        {
         "customdata": [
          [
           4
          ],
          [
           14
          ],
          [
           17
          ],
          [
           12
          ],
          [
           12
          ],
          [
           9
          ],
          [
           0
          ],
          [
           10
          ],
          [
           16
          ],
          [
           12
          ],
          [
           11
          ],
          [
           0
          ],
          [
           0
          ],
          [
           6
          ],
          [
           13
          ],
          [
           11
          ],
          [
           13
          ],
          [
           0
          ],
          [
           7
          ],
          [
           14
          ],
          [
           3
          ],
          [
           0
          ],
          [
           4
          ],
          [
           12
          ],
          [
           0
          ],
          [
           17
          ],
          [
           6
          ],
          [
           12
          ],
          [
           17
          ],
          [
           10
          ],
          [
           8
          ],
          [
           12
          ],
          [
           17
          ],
          [
           3
          ],
          [
           0
          ],
          [
           15
          ],
          [
           12
          ],
          [
           2
          ],
          [
           0
          ],
          [
           14
          ],
          [
           3
          ],
          [
           12
          ],
          [
           8
          ],
          [
           0
          ],
          [
           13
          ],
          [
           17
          ],
          [
           10
          ],
          [
           1
          ],
          [
           16
          ],
          [
           1
          ],
          [
           8
          ],
          [
           4
          ],
          [
           9
          ],
          [
           8
          ],
          [
           13
          ],
          [
           17
          ],
          [
           8
          ],
          [
           0
          ],
          [
           8
          ],
          [
           6
          ],
          [
           0
          ],
          [
           9
          ],
          [
           11
          ],
          [
           2
          ],
          [
           9
          ],
          [
           1
          ],
          [
           4
          ],
          [
           13
          ],
          [
           4
          ],
          [
           1
          ],
          [
           13
          ],
          [
           12
          ],
          [
           0
          ],
          [
           0
          ],
          [
           3
          ],
          [
           5
          ],
          [
           17
          ],
          [
           17
          ],
          [
           16
          ],
          [
           4
          ],
          [
           12
          ],
          [
           12
          ],
          [
           12
          ],
          [
           5
          ],
          [
           4
          ],
          [
           12
          ],
          [
           3
          ],
          [
           12
          ],
          [
           6
          ],
          [
           14
          ],
          [
           11
          ],
          [
           11
          ],
          [
           14
          ],
          [
           2
          ],
          [
           8
          ],
          [
           8
          ],
          [
           9
          ],
          [
           17
          ],
          [
           10
          ],
          [
           17
          ],
          [
           17
          ],
          [
           6
          ],
          [
           12
          ],
          [
           9
          ],
          [
           10
          ],
          [
           10
          ],
          [
           17
          ],
          [
           0
          ],
          [
           17
          ],
          [
           0
          ],
          [
           12
          ],
          [
           9
          ],
          [
           9
          ],
          [
           17
          ],
          [
           15
          ],
          [
           14
          ],
          [
           11
          ],
          [
           5
          ],
          [
           6
          ],
          [
           12
          ],
          [
           1
          ],
          [
           11
          ],
          [
           17
          ],
          [
           0
          ],
          [
           11
          ],
          [
           6
          ],
          [
           12
          ],
          [
           10
          ],
          [
           9
          ],
          [
           17
          ],
          [
           9
          ],
          [
           9
          ],
          [
           0
          ],
          [
           3
          ],
          [
           14
          ],
          [
           14
          ],
          [
           17
          ],
          [
           12
          ],
          [
           9
          ],
          [
           9
          ],
          [
           17
          ],
          [
           17
          ],
          [
           0
          ],
          [
           17
          ],
          [
           0
          ],
          [
           0
          ],
          [
           12
          ],
          [
           1
          ],
          [
           14
          ],
          [
           2
          ],
          [
           16
          ],
          [
           12
          ],
          [
           17
          ],
          [
           6
          ],
          [
           9
          ],
          [
           1
          ],
          [
           9
          ],
          [
           12
          ],
          [
           12
          ],
          [
           14
          ],
          [
           17
          ],
          [
           6
          ],
          [
           9
          ],
          [
           15
          ],
          [
           17
          ],
          [
           3
          ],
          [
           12
          ],
          [
           17
          ],
          [
           17
          ],
          [
           12
          ],
          [
           3
          ],
          [
           15
          ],
          [
           13
          ],
          [
           5
          ],
          [
           8
          ],
          [
           0
          ],
          [
           6
          ],
          [
           10
          ],
          [
           9
          ],
          [
           9
          ],
          [
           17
          ],
          [
           0
          ],
          [
           0
          ],
          [
           17
          ],
          [
           14
          ],
          [
           5
          ],
          [
           10
          ],
          [
           14
          ],
          [
           5
          ],
          [
           13
          ],
          [
           17
          ],
          [
           8
          ],
          [
           9
          ],
          [
           10
          ],
          [
           0
          ],
          [
           13
          ],
          [
           9
          ],
          [
           3
          ],
          [
           0
          ],
          [
           12
          ],
          [
           12
          ],
          [
           12
          ],
          [
           17
          ],
          [
           6
          ],
          [
           9
          ],
          [
           17
          ],
          [
           17
          ],
          [
           17
          ],
          [
           17
          ],
          [
           12
          ],
          [
           0
          ],
          [
           12
          ],
          [
           17
          ],
          [
           17
          ],
          [
           17
          ],
          [
           13
          ],
          [
           13
          ],
          [
           10
          ],
          [
           5
          ],
          [
           14
          ],
          [
           17
          ],
          [
           2
          ],
          [
           12
          ],
          [
           14
          ],
          [
           15
          ],
          [
           16
          ],
          [
           13
          ],
          [
           14
          ],
          [
           12
          ],
          [
           3
          ],
          [
           9
          ],
          [
           9
          ],
          [
           9
          ]
         ],
         "hovertemplate": "Cluster=Cluster 3<br>PCA1=%{x}<br>PCA2=%{y}<br>Feature=%{customdata[0]}<extra></extra>",
         "legendgroup": "Cluster 3",
         "marker": {
          "color": "#ab63fa",
          "opacity": 0.5,
          "symbol": "circle"
         },
         "mode": "markers",
         "name": "Cluster 3",
         "orientation": "v",
         "showlegend": true,
         "textposition": "top center",
         "type": "scatter",
         "x": [
          -142.37270317021716,
          -157.01355390409296,
          -124.04746278649962,
          -187.35367387928906,
          -179.80506310200857,
          -131.7996978266944,
          -254.30020064147783,
          -146.35566715238448,
          -118.269070920563,
          -109.29677883724678,
          -141.662563451738,
          -249.55069066220568,
          -240.90499837105637,
          -147.37064316786396,
          -175.1218133115357,
          -139.55552628171995,
          -158.65820042903013,
          -160.65769046282898,
          -205.72291739658698,
          -154.53841528219598,
          -124.83948850148728,
          -140.97580989908977,
          -121.37456989739796,
          -199.2441764235095,
          -260.27628842051377,
          -130.7850235305326,
          -135.94849008147222,
          -157.9547701955929,
          -141.51961547166127,
          -142.47617508366693,
          -108.21401854985606,
          -170.14766736978297,
          -130.5477899540135,
          -172.74995249076136,
          -260.5432497625716,
          -139.78666604982777,
          -197.23645843763563,
          -124.214671211741,
          -249.81765200426355,
          -106.65975886598838,
          -158.07329951864287,
          -214.7507957802126,
          -172.29466806498746,
          -141.07160029744537,
          -123.4193176780549,
          -113.30235428069176,
          -183.84266942567615,
          -159.32240462672831,
          -145.40434153784346,
          -145.4385858016733,
          -108.17632741155565,
          -101.68903042129782,
          -151.88646243692935,
          -108.10094513495484,
          -205.82902720429857,
          -107.97353637595498,
          -108.13863627325523,
          -129.72999762395673,
          -135.15054669293608,
          -138.13480399460855,
          -125.72040466035206,
          -122.97440676959893,
          -139.5658171263115,
          -145.40384377783852,
          -140.6762384408122,
          -102.46227121736429,
          -102.12551112397708,
          -173.4238626791767,
          -145.3405955114915,
          -112.2183930268662,
          -144.81858479815148,
          -188.25994592622234,
          -184.68058119310967,
          -199.0838999515127,
          -151.088146558148,
          -167.90830814169516,
          -114.95773518218161,
          -138.7917197464832,
          -113.28759793937105,
          -234.38531744534674,
          -189.8440843475521,
          -244.12631401457529,
          -265.6822960224472,
          -214.69443848825634,
          -205.5023523615988,
          -210.39897852460732,
          -248.34933738190915,
          -236.9873827779311,
          -139.6769363249484,
          -114.30442929651589,
          -157.0119512664177,
          -146.086689392772,
          -191.76573888463471,
          -145.33441474753454,
          -151.15417505360463,
          -149.81637440859336,
          -126.56945200430015,
          -255.92723146130535,
          -146.5542872583243,
          -136.01865274670203,
          -159.3557007423474,
          -135.94786787511558,
          -135.78980169584727,
          -105.59654406532685,
          -102.73490362898302,
          -154.2840145238983,
          -130.65819514963934,
          -212.55983347871475,
          -115.71893504954797,
          -182.92348430382611,
          -167.74834978512234,
          -275.4414565205545,
          -135.01290665824004,
          -243.2905044339954,
          -145.5339449463917,
          -105.69614735449393,
          -140.0283980881461,
          -243.1072614455723,
          -133.93838271453885,
          -202.65920009034735,
          -112.37566318455166,
          -113.41301548243321,
          -144.86921336507746,
          -156.3212313571091,
          -200.54504104067115,
          -198.4214868922292,
          -112.90219189737637,
          -114.92758032975912,
          -104.14879391047177,
          -134.43191201749005,
          -200.32162644335855,
          -152.15884332141246,
          -180.04814986753885,
          -167.14363131313726,
          -169.11720015994283,
          -255.69995824069906,
          -179.18273196237266,
          -179.3002971865748,
          -102.70805682735482,
          -232.48515663672384,
          -102.87650073554039,
          -232.22871625457762,
          -248.9726924779552,
          -202.24741941200014,
          -248.9726924779552,
          -259.44728471136057,
          -211.87308359145212,
          -231.89079835317247,
          -123.87391758022682,
          -145.57485294953014,
          -145.79402557932815,
          -119.46061109057591,
          -128.97762978076972,
          -128.98824149390694,
          -128.985347390324,
          -166.5913092346993,
          -144.20872394894437,
          -173.53194806274502,
          -194.51601982935804,
          -155.03869772496185,
          -136.845648416789,
          -137.57529318604978,
          -137.9968669014833,
          -145.0414920866863,
          -130.3002411002209,
          -117.1923411735252,
          -134.77165766442042,
          -119.87503372155388,
          -108.71827595460479,
          -184.95187192425655,
          -151.54201892595017,
          -167.25583337353973,
          -115.64671460880712,
          -140.38508493297343,
          -142.63355729214243,
          -119.55366479471178,
          -130.55019243061992,
          -154.6955055479869,
          -166.72632286501002,
          -168.84218773337128,
          -147.0515625155036,
          -189.60518601382591,
          -135.27565876137322,
          -152.83130394698267,
          -134.24459276570292,
          -141.132572551855,
          -116.25269330718349,
          -132.63199302293486,
          -140.58290692888895,
          -118.9222052270907,
          -139.8258474209975,
          -133.92968245127895,
          -108.66899307768324,
          -124.81040949335355,
          -228.67968605963407,
          -101.75070253600254,
          -167.92181652047074,
          -185.45844522461192,
          -260.8720888010953,
          -200.40294923060432,
          -103.38852569408715,
          -205.60976418852565,
          -130.43819587198058,
          -135.90032453222477,
          -126.08754097833173,
          -150.79580210366908,
          -124.76531253663914,
          -102.6827169415985,
          -256.1326760303565,
          -159.02219065619477,
          -207.47988283366507,
          -147.16697061094965,
          -113.87591593289244,
          -119.38941505575652,
          -114.22980049792005,
          -145.1122628279039,
          -114.6333005698505,
          -113.82163996805771,
          -162.02615906580087,
          -116.3200068344457,
          -117.92923618333589,
          -145.79046102193925,
          -235.7734344685197,
          -134.4979261202703,
          -156.63661924260924,
          -147.56921540901686,
          -115.61991599041674,
          -162.04512880977643,
          -136.23363232051892,
          -115.1438260959672,
          -119.34398807202243,
          -172.49283011890495,
          -125.85476715370753
         ],
         "xaxis": "x",
         "y": [
          -7.347632600079585,
          -1.8912262409460905,
          -13.628971735318709,
          -24.97490938305041,
          -7.44597642843398,
          14.420433304872354,
          0.6159316132204242,
          36.12770547398615,
          49.05924484153206,
          -13.296662533258397,
          39.08607477170296,
          7.836991569251156,
          18.163944918848667,
          -18.097132495512817,
          -8.261979289825467,
          -5.026127650105355,
          -6.200961911461543,
          17.3502062450856,
          -19.028425065538332,
          -16.301307873380495,
          -34.27473684683246,
          40.36477773272221,
          2.5050387019994638,
          -11.910401767471066,
          -13.104230824234454,
          12.74422158710478,
          -21.624848164971645,
          -35.9447797824408,
          -4.30536094932971,
          12.624976156866158,
          19.816777009467415,
          -14.113991026240756,
          -28.365831551944577,
          -16.76693157635077,
          -6.85649553194454,
          13.123209943027147,
          -20.265581416685762,
          7.402544590890753,
          14.084726861541057,
          -0.8342067042439162,
          -33.95464962136732,
          -13.169900199469476,
          10.382154904710784,
          4.289967147361437,
          13.269830642979883,
          7.455477178008339,
          -43.56039231499772,
          5.641372237451938,
          25.273491692547278,
          5.843008285780054,
          16.720660312195527,
          17.45010949721374,
          12.904809959234825,
          10.528426917651753,
          -11.987704541818587,
          1.7089709580482204,
          13.624543614923644,
          -8.470612922429876,
          4.445384139369637,
          -20.32354975308184,
          -15.763750270455565,
          3.807273999051317,
          -8.91752627641726,
          -6.468774349147985,
          63.61635664669209,
          8.521954006927647,
          5.807731387339252,
          4.90637518868032,
          12.297406226904922,
          -32.25744921719708,
          7.617223503522921,
          -12.381398515042923,
          -14.482924598804908,
          2.9246898096572065,
          -27.887810013364554,
          -3.146765320699267,
          -23.06947465399338,
          -41.60606150169885,
          46.04058113895216,
          1.919869563603331,
          -4.448152281774466,
          -9.120451193460255,
          14.082630323480506,
          6.375691594924597,
          27.355788612659744,
          -14.237895453571038,
          -32.84890333167891,
          6.381403942294301,
          -7.796091673954371,
          -23.87037723291162,
          8.767594757483236,
          -3.8327359339417373,
          20.435364138681336,
          -6.850842407330475,
          50.8936854230947,
          -17.805504790688033,
          12.105110399637136,
          -29.342952482805867,
          2.8561638038775827,
          14.6358795597727,
          -14.566455778738272,
          -21.622945363855923,
          10.258477801072294,
          -14.848029549234951,
          -14.081648988384613,
          20.237047465507946,
          13.095949690672844,
          3.234895118378319,
          -22.647082633820062,
          32.468190403103456,
          19.006769428960798,
          -4.26091781691875,
          -31.524963068651086,
          18.101065022411206,
          4.308906624871667,
          -11.32768827780121,
          -49.38317478161635,
          -4.24543707078679,
          -15.190675358066462,
          -19.891687393704206,
          -37.736141294805435,
          -28.325383542453547,
          -30.695445268277926,
          48.15807498123313,
          -6.584964683305061,
          -4.1743503203941446,
          4.562057087879035,
          13.410370145706661,
          -16.90741369022152,
          3.511168779677419,
          -5.993627422735112,
          16.998105298612305,
          -26.735885815223796,
          -9.451728004633834,
          -20.837581299386667,
          -18.899499385142512,
          -45.13898773707716,
          -33.77150117178316,
          -20.017255302407953,
          10.767349283459424,
          -3.773526151021476,
          -4.159321222067941,
          23.830101274041862,
          12.165788702708822,
          23.830101274041862,
          10.383610325910668,
          -11.62539604379373,
          -1.802865617760155,
          -27.888207809451604,
          4.931041190584447,
          36.02722120120966,
          -1.6001106782905552,
          -14.452627290131526,
          -14.67528934961308,
          -14.61456333339084,
          -24.904763936214106,
          -17.918034793166584,
          -0.8605222898816512,
          -2.786531113951099,
          1.3465521137691718,
          -9.596855223360214,
          -1.8642015486658514,
          -5.680606134528154,
          54.16839998444576,
          31.76000160846441,
          -5.922027108704898,
          -16.698961802227135,
          8.297562916107168,
          -18.211410454571933,
          2.4334362343946836,
          -34.064444765923575,
          48.07133943007331,
          1.8190289960805788,
          -19.211689757387273,
          30.615266497057018,
          21.601930938908936,
          9.009623284586995,
          -18.266391930849576,
          -1.3606872452031435,
          -3.3757725907703953,
          -32.011442227512525,
          2.7086424577706545,
          19.941488269837187,
          -20.444913619081365,
          -74.72922910106512,
          18.47208094065426,
          -11.33592194613859,
          -24.70471951168539,
          10.924009951847378,
          17.94111537760337,
          34.581017322710395,
          -58.94974237213158,
          0.22515357977154618,
          39.86489733634321,
          5.836898069424762,
          32.00878272040583,
          -15.631530108545626,
          -10.234436437607766,
          9.838745834180527,
          4.289188372639754,
          -17.05002334957205,
          -19.35383403937292,
          1.1300745014506808,
          -18.234365790043068,
          21.112729484703088,
          -9.228835479018347,
          2.53876344470353,
          -28.499558306819857,
          -13.413351863342584,
          -3.8548790378704094,
          -17.211626431477985,
          -22.81669095827104,
          -40.30690608214647,
          4.463796223339117,
          -6.601952636792378,
          -16.10827461359372,
          23.290781775389704,
          31.566560668394697,
          -11.563871161542032,
          7.264737707665804,
          32.50963423126031,
          1.8479207319294733,
          -8.536932464905286,
          -17.040758501683786,
          67.28580315240094,
          51.43354875122586,
          -16.45397381338652,
          -8.345172773920718,
          -28.37959178203689,
          -35.77757057758805,
          17.634009465402915,
          -4.107781859370597,
          -5.217295733426639
         ],
         "yaxis": "y"
        }
       ],
       "layout": {
        "height": 600,
        "legend": {
         "title": {
          "text": "Cluster"
         },
         "tracegroupgap": 0
        },
        "margin": {
         "t": 60
        },
        "plot_bgcolor": "rgb(240,240,240)",
        "template": {
         "data": {
          "bar": [
           {
            "error_x": {
             "color": "#2a3f5f"
            },
            "error_y": {
             "color": "#2a3f5f"
            },
            "marker": {
             "line": {
              "color": "#E5ECF6",
              "width": 0.5
             },
             "pattern": {
              "fillmode": "overlay",
              "size": 10,
              "solidity": 0.2
             }
            },
            "type": "bar"
           }
          ],
          "barpolar": [
           {
            "marker": {
             "line": {
              "color": "#E5ECF6",
              "width": 0.5
             },
             "pattern": {
              "fillmode": "overlay",
              "size": 10,
              "solidity": 0.2
             }
            },
            "type": "barpolar"
           }
          ],
          "carpet": [
           {
            "aaxis": {
             "endlinecolor": "#2a3f5f",
             "gridcolor": "white",
             "linecolor": "white",
             "minorgridcolor": "white",
             "startlinecolor": "#2a3f5f"
            },
            "baxis": {
             "endlinecolor": "#2a3f5f",
             "gridcolor": "white",
             "linecolor": "white",
             "minorgridcolor": "white",
             "startlinecolor": "#2a3f5f"
            },
            "type": "carpet"
           }
          ],
          "choropleth": [
           {
            "colorbar": {
             "outlinewidth": 0,
             "ticks": ""
            },
            "type": "choropleth"
           }
          ],
          "contour": [
           {
            "colorbar": {
             "outlinewidth": 0,
             "ticks": ""
            },
            "colorscale": [
             [
              0,
              "#0d0887"
             ],
             [
              0.1111111111111111,
              "#46039f"
             ],
             [
              0.2222222222222222,
              "#7201a8"
             ],
             [
              0.3333333333333333,
              "#9c179e"
             ],
             [
              0.4444444444444444,
              "#bd3786"
             ],
             [
              0.5555555555555556,
              "#d8576b"
             ],
             [
              0.6666666666666666,
              "#ed7953"
             ],
             [
              0.7777777777777778,
              "#fb9f3a"
             ],
             [
              0.8888888888888888,
              "#fdca26"
             ],
             [
              1,
              "#f0f921"
             ]
            ],
            "type": "contour"
           }
          ],
          "contourcarpet": [
           {
            "colorbar": {
             "outlinewidth": 0,
             "ticks": ""
            },
            "type": "contourcarpet"
           }
          ],
          "heatmap": [
           {
            "colorbar": {
             "outlinewidth": 0,
             "ticks": ""
            },
            "colorscale": [
             [
              0,
              "#0d0887"
             ],
             [
              0.1111111111111111,
              "#46039f"
             ],
             [
              0.2222222222222222,
              "#7201a8"
             ],
             [
              0.3333333333333333,
              "#9c179e"
             ],
             [
              0.4444444444444444,
              "#bd3786"
             ],
             [
              0.5555555555555556,
              "#d8576b"
             ],
             [
              0.6666666666666666,
              "#ed7953"
             ],
             [
              0.7777777777777778,
              "#fb9f3a"
             ],
             [
              0.8888888888888888,
              "#fdca26"
             ],
             [
              1,
              "#f0f921"
             ]
            ],
            "type": "heatmap"
           }
          ],
          "heatmapgl": [
           {
            "colorbar": {
             "outlinewidth": 0,
             "ticks": ""
            },
            "colorscale": [
             [
              0,
              "#0d0887"
             ],
             [
              0.1111111111111111,
              "#46039f"
             ],
             [
              0.2222222222222222,
              "#7201a8"
             ],
             [
              0.3333333333333333,
              "#9c179e"
             ],
             [
              0.4444444444444444,
              "#bd3786"
             ],
             [
              0.5555555555555556,
              "#d8576b"
             ],
             [
              0.6666666666666666,
              "#ed7953"
             ],
             [
              0.7777777777777778,
              "#fb9f3a"
             ],
             [
              0.8888888888888888,
              "#fdca26"
             ],
             [
              1,
              "#f0f921"
             ]
            ],
            "type": "heatmapgl"
           }
          ],
          "histogram": [
           {
            "marker": {
             "pattern": {
              "fillmode": "overlay",
              "size": 10,
              "solidity": 0.2
             }
            },
            "type": "histogram"
           }
          ],
          "histogram2d": [
           {
            "colorbar": {
             "outlinewidth": 0,
             "ticks": ""
            },
            "colorscale": [
             [
              0,
              "#0d0887"
             ],
             [
              0.1111111111111111,
              "#46039f"
             ],
             [
              0.2222222222222222,
              "#7201a8"
             ],
             [
              0.3333333333333333,
              "#9c179e"
             ],
             [
              0.4444444444444444,
              "#bd3786"
             ],
             [
              0.5555555555555556,
              "#d8576b"
             ],
             [
              0.6666666666666666,
              "#ed7953"
             ],
             [
              0.7777777777777778,
              "#fb9f3a"
             ],
             [
              0.8888888888888888,
              "#fdca26"
             ],
             [
              1,
              "#f0f921"
             ]
            ],
            "type": "histogram2d"
           }
          ],
          "histogram2dcontour": [
           {
            "colorbar": {
             "outlinewidth": 0,
             "ticks": ""
            },
            "colorscale": [
             [
              0,
              "#0d0887"
             ],
             [
              0.1111111111111111,
              "#46039f"
             ],
             [
              0.2222222222222222,
              "#7201a8"
             ],
             [
              0.3333333333333333,
              "#9c179e"
             ],
             [
              0.4444444444444444,
              "#bd3786"
             ],
             [
              0.5555555555555556,
              "#d8576b"
             ],
             [
              0.6666666666666666,
              "#ed7953"
             ],
             [
              0.7777777777777778,
              "#fb9f3a"
             ],
             [
              0.8888888888888888,
              "#fdca26"
             ],
             [
              1,
              "#f0f921"
             ]
            ],
            "type": "histogram2dcontour"
           }
          ],
          "mesh3d": [
           {
            "colorbar": {
             "outlinewidth": 0,
             "ticks": ""
            },
            "type": "mesh3d"
           }
          ],
          "parcoords": [
           {
            "line": {
             "colorbar": {
              "outlinewidth": 0,
              "ticks": ""
             }
            },
            "type": "parcoords"
           }
          ],
          "pie": [
           {
            "automargin": true,
            "type": "pie"
           }
          ],
          "scatter": [
           {
            "fillpattern": {
             "fillmode": "overlay",
             "size": 10,
             "solidity": 0.2
            },
            "type": "scatter"
           }
          ],
          "scatter3d": [
           {
            "line": {
             "colorbar": {
              "outlinewidth": 0,
              "ticks": ""
             }
            },
            "marker": {
             "colorbar": {
              "outlinewidth": 0,
              "ticks": ""
             }
            },
            "type": "scatter3d"
           }
          ],
          "scattercarpet": [
           {
            "marker": {
             "colorbar": {
              "outlinewidth": 0,
              "ticks": ""
             }
            },
            "type": "scattercarpet"
           }
          ],
          "scattergeo": [
           {
            "marker": {
             "colorbar": {
              "outlinewidth": 0,
              "ticks": ""
             }
            },
            "type": "scattergeo"
           }
          ],
          "scattergl": [
           {
            "marker": {
             "colorbar": {
              "outlinewidth": 0,
              "ticks": ""
             }
            },
            "type": "scattergl"
           }
          ],
          "scattermapbox": [
           {
            "marker": {
             "colorbar": {
              "outlinewidth": 0,
              "ticks": ""
             }
            },
            "type": "scattermapbox"
           }
          ],
          "scatterpolar": [
           {
            "marker": {
             "colorbar": {
              "outlinewidth": 0,
              "ticks": ""
             }
            },
            "type": "scatterpolar"
           }
          ],
          "scatterpolargl": [
           {
            "marker": {
             "colorbar": {
              "outlinewidth": 0,
              "ticks": ""
             }
            },
            "type": "scatterpolargl"
           }
          ],
          "scatterternary": [
           {
            "marker": {
             "colorbar": {
              "outlinewidth": 0,
              "ticks": ""
             }
            },
            "type": "scatterternary"
           }
          ],
          "surface": [
           {
            "colorbar": {
             "outlinewidth": 0,
             "ticks": ""
            },
            "colorscale": [
             [
              0,
              "#0d0887"
             ],
             [
              0.1111111111111111,
              "#46039f"
             ],
             [
              0.2222222222222222,
              "#7201a8"
             ],
             [
              0.3333333333333333,
              "#9c179e"
             ],
             [
              0.4444444444444444,
              "#bd3786"
             ],
             [
              0.5555555555555556,
              "#d8576b"
             ],
             [
              0.6666666666666666,
              "#ed7953"
             ],
             [
              0.7777777777777778,
              "#fb9f3a"
             ],
             [
              0.8888888888888888,
              "#fdca26"
             ],
             [
              1,
              "#f0f921"
             ]
            ],
            "type": "surface"
           }
          ],
          "table": [
           {
            "cells": {
             "fill": {
              "color": "#EBF0F8"
             },
             "line": {
              "color": "white"
             }
            },
            "header": {
             "fill": {
              "color": "#C8D4E3"
             },
             "line": {
              "color": "white"
             }
            },
            "type": "table"
           }
          ]
         },
         "layout": {
          "annotationdefaults": {
           "arrowcolor": "#2a3f5f",
           "arrowhead": 0,
           "arrowwidth": 1
          },
          "autotypenumbers": "strict",
          "coloraxis": {
           "colorbar": {
            "outlinewidth": 0,
            "ticks": ""
           }
          },
          "colorscale": {
           "diverging": [
            [
             0,
             "#8e0152"
            ],
            [
             0.1,
             "#c51b7d"
            ],
            [
             0.2,
             "#de77ae"
            ],
            [
             0.3,
             "#f1b6da"
            ],
            [
             0.4,
             "#fde0ef"
            ],
            [
             0.5,
             "#f7f7f7"
            ],
            [
             0.6,
             "#e6f5d0"
            ],
            [
             0.7,
             "#b8e186"
            ],
            [
             0.8,
             "#7fbc41"
            ],
            [
             0.9,
             "#4d9221"
            ],
            [
             1,
             "#276419"
            ]
           ],
           "sequential": [
            [
             0,
             "#0d0887"
            ],
            [
             0.1111111111111111,
             "#46039f"
            ],
            [
             0.2222222222222222,
             "#7201a8"
            ],
            [
             0.3333333333333333,
             "#9c179e"
            ],
            [
             0.4444444444444444,
             "#bd3786"
            ],
            [
             0.5555555555555556,
             "#d8576b"
            ],
            [
             0.6666666666666666,
             "#ed7953"
            ],
            [
             0.7777777777777778,
             "#fb9f3a"
            ],
            [
             0.8888888888888888,
             "#fdca26"
            ],
            [
             1,
             "#f0f921"
            ]
           ],
           "sequentialminus": [
            [
             0,
             "#0d0887"
            ],
            [
             0.1111111111111111,
             "#46039f"
            ],
            [
             0.2222222222222222,
             "#7201a8"
            ],
            [
             0.3333333333333333,
             "#9c179e"
            ],
            [
             0.4444444444444444,
             "#bd3786"
            ],
            [
             0.5555555555555556,
             "#d8576b"
            ],
            [
             0.6666666666666666,
             "#ed7953"
            ],
            [
             0.7777777777777778,
             "#fb9f3a"
            ],
            [
             0.8888888888888888,
             "#fdca26"
            ],
            [
             1,
             "#f0f921"
            ]
           ]
          },
          "colorway": [
           "#636efa",
           "#EF553B",
           "#00cc96",
           "#ab63fa",
           "#FFA15A",
           "#19d3f3",
           "#FF6692",
           "#B6E880",
           "#FF97FF",
           "#FECB52"
          ],
          "font": {
           "color": "#2a3f5f"
          },
          "geo": {
           "bgcolor": "white",
           "lakecolor": "white",
           "landcolor": "#E5ECF6",
           "showlakes": true,
           "showland": true,
           "subunitcolor": "white"
          },
          "hoverlabel": {
           "align": "left"
          },
          "hovermode": "closest",
          "mapbox": {
           "style": "light"
          },
          "paper_bgcolor": "white",
          "plot_bgcolor": "#E5ECF6",
          "polar": {
           "angularaxis": {
            "gridcolor": "white",
            "linecolor": "white",
            "ticks": ""
           },
           "bgcolor": "#E5ECF6",
           "radialaxis": {
            "gridcolor": "white",
            "linecolor": "white",
            "ticks": ""
           }
          },
          "scene": {
           "xaxis": {
            "backgroundcolor": "#E5ECF6",
            "gridcolor": "white",
            "gridwidth": 2,
            "linecolor": "white",
            "showbackground": true,
            "ticks": "",
            "zerolinecolor": "white"
           },
           "yaxis": {
            "backgroundcolor": "#E5ECF6",
            "gridcolor": "white",
            "gridwidth": 2,
            "linecolor": "white",
            "showbackground": true,
            "ticks": "",
            "zerolinecolor": "white"
           },
           "zaxis": {
            "backgroundcolor": "#E5ECF6",
            "gridcolor": "white",
            "gridwidth": 2,
            "linecolor": "white",
            "showbackground": true,
            "ticks": "",
            "zerolinecolor": "white"
           }
          },
          "shapedefaults": {
           "line": {
            "color": "#2a3f5f"
           }
          },
          "ternary": {
           "aaxis": {
            "gridcolor": "white",
            "linecolor": "white",
            "ticks": ""
           },
           "baxis": {
            "gridcolor": "white",
            "linecolor": "white",
            "ticks": ""
           },
           "bgcolor": "#E5ECF6",
           "caxis": {
            "gridcolor": "white",
            "linecolor": "white",
            "ticks": ""
           }
          },
          "title": {
           "x": 0.05
          },
          "xaxis": {
           "automargin": true,
           "gridcolor": "white",
           "linecolor": "white",
           "ticks": "",
           "title": {
            "standoff": 15
           },
           "zerolinecolor": "white",
           "zerolinewidth": 2
          },
          "yaxis": {
           "automargin": true,
           "gridcolor": "white",
           "linecolor": "white",
           "ticks": "",
           "title": {
            "standoff": 15
           },
           "zerolinecolor": "white",
           "zerolinewidth": 2
          }
         }
        },
        "title": {
         "text": "2D Cluster PCA Plot"
        },
        "xaxis": {
         "anchor": "y",
         "domain": [
          0,
          1
         ],
         "title": {
          "text": "PCA1"
         }
        },
        "yaxis": {
         "anchor": "x",
         "domain": [
          0,
          1
         ],
         "title": {
          "text": "PCA2"
         }
        }
       }
      }
     },
     "metadata": {},
     "output_type": "display_data"
    }
   ],
   "source": [
    "# Show clusters in 2Dims \n",
    "\n",
    "plot_model(model, plot = 'cluster')"
   ]
  },
  {
   "cell_type": "code",
   "execution_count": 36,
   "metadata": {},
   "outputs": [
    {
     "data": {
      "text/html": [],
      "text/plain": [
       "<IPython.core.display.HTML object>"
      ]
     },
     "metadata": {},
     "output_type": "display_data"
    },
    {
     "data": {
      "image/png": "[encoded data removed]",
      "text/plain": [
       "<Figure size 800x550 with 1 Axes>"
      ]
     },
     "metadata": {},
     "output_type": "display_data"
    }
   ],
   "source": [
    "plot_model(model, plot = 'silhouette')"
   ]
  },
  {
   "cell_type": "markdown",
   "metadata": {},
   "source": [
    "And show mlflow screenshot"
   ]
  },
  {
   "cell_type": "markdown",
   "metadata": {},
   "source": [
    "![](Clustering_AutoML.png)"
   ]
  }
 ],
 "metadata": {
  "kernelspec": {
   "display_name": "Python 3",
   "language": "python",
   "name": "python3"
  },
  "language_info": {
   "codemirror_mode": {
    "name": "ipython",
    "version": 3
   },
   "file_extension": ".py",
   "mimetype": "text/x-python",
   "name": "python",
   "nbconvert_exporter": "python",
   "pygments_lexer": "ipython3",
   "version": "3.10.12"
  }
 },
 "nbformat": 4,
 "nbformat_minor": 2
}
