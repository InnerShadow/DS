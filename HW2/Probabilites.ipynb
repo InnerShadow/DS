{
  "nbformat": 4,
  "nbformat_minor": 0,
  "metadata": {
    "colab": {
      "provenance": []
    },
    "kernelspec": {
      "name": "python3",
      "display_name": "Python 3"
    },
    "language_info": {
      "name": "python"
    }
  },
  "cells": [
    {
      "cell_type": "code",
      "execution_count": 7,
      "metadata": {
        "colab": {
          "base_uri": "https://localhost:8080/"
        },
        "id": "13kNsAPU5NDO",
        "outputId": "2b2cbcdf-5473-44fb-9725-fa3ea056d208"
      },
      "outputs": [
        {
          "output_type": "stream",
          "name": "stdout",
          "text": [
            "Accuracy: 0.5\n",
            "\n",
            "Classification Report:\n",
            "              precision    recall  f1-score   support\n",
            "\n",
            "           0       0.51      0.75      0.61       102\n",
            "           1       0.48      0.23      0.32        98\n",
            "\n",
            "    accuracy                           0.50       200\n",
            "   macro avg       0.49      0.49      0.46       200\n",
            "weighted avg       0.49      0.50      0.46       200\n",
            "\n",
            "Coefficients of the model: [[-0.29994601  0.20706075  0.06104441]]\n"
          ]
        }
      ],
      "source": [
        "import numpy as np\n",
        "from sklearn.linear_model import LogisticRegression\n",
        "from sklearn.model_selection import train_test_split\n",
        "from sklearn.metrics import classification_report, accuracy_score\n",
        "\n",
        "# Generate simulated data\n",
        "# Suppose we have 1000 patients with 3 symptoms\n",
        "\n",
        "np.random.seed(0)\n",
        "X = np.random.rand(1000, 3)  # Symptoms (as an example generate random data)\n",
        "y = np.random.randint(0, 2, 1000)  # Existence of disease (0 or 1)\n",
        "\n",
        "# Split the data into training and test samples\n",
        "X_train, X_test, y_train, y_test = train_test_split(X, y, test_size = 0.2, random_state = 0)\n",
        "\n",
        "# Create and train a logistic regression model\n",
        "model = LogisticRegression()\n",
        "model.fit(X_train, y_train)\n",
        "\n",
        "# Make predictions and estimate the model\n",
        "y_pred = model.predict(X_test)\n",
        "\n",
        "# Show quality metrics\n",
        "print(\"Accuracy:\", accuracy_score(y_test, y_pred))\n",
        "print(\"\\nClassification Report:\")\n",
        "print(classification_report(y_test, y_pred))\n",
        "\n",
        "# Show the coefficients of the mode\n",
        "print(\"Coefficients of the model:\", model.coef_)"
      ]
    },
    {
      "cell_type": "code",
      "source": [
        "# Show probabilites\n",
        "y_prob = model.predict_proba(X_test)\n",
        "print(y_prob[:15])\n",
        "print(y_prob.shape)"
      ],
      "metadata": {
        "colab": {
          "base_uri": "https://localhost:8080/"
        },
        "id": "ylv8xluE7KEz",
        "outputId": "cb2c8c7d-68ad-4d2a-b6ab-e90560f4106f"
      },
      "execution_count": 9,
      "outputs": [
        {
          "output_type": "stream",
          "name": "stdout",
          "text": [
            "[[0.56117461 0.43882539]\n",
            " [0.49906287 0.50093713]\n",
            " [0.52459943 0.47540057]\n",
            " [0.54611904 0.45388096]\n",
            " [0.50684766 0.49315234]\n",
            " [0.51146429 0.48853571]\n",
            " [0.53417876 0.46582124]\n",
            " [0.51465881 0.48534119]\n",
            " [0.54739055 0.45260945]\n",
            " [0.50667916 0.49332084]\n",
            " [0.52103179 0.47896821]\n",
            " [0.53471652 0.46528348]\n",
            " [0.52670796 0.47329204]\n",
            " [0.52662663 0.47337337]\n",
            " [0.53372017 0.46627983]]\n",
            "(200, 2)\n"
          ]
        }
      ]
    },
    {
      "cell_type": "code",
      "source": [
        "from sklearn.metrics import roc_auc_score, roc_curve\n",
        "import matplotlib.pyplot as plt\n",
        "\n",
        "print(f'ROC-AUC: {roc_auc_score(y_pred, y_test)}\\n')\n",
        "\n",
        "fpr, tpr, thresholds = roc_curve(y_test, y_prob[:, 1])\n",
        "\n",
        "plt.figure(figsize = (8, 6))\n",
        "plt.plot(fpr, tpr, label = 'ROC Curve')\n",
        "plt.xlabel('FPR')\n",
        "plt.ylabel('TPR')\n",
        "plt.title('ROC Curve')\n",
        "plt.show()"
      ],
      "metadata": {
        "colab": {
          "base_uri": "https://localhost:8080/",
          "height": 599
        },
        "id": "y4CvcAe08Noz",
        "outputId": "9397cda6-26d3-4dc7-cf7d-9f776a12effc"
      },
      "execution_count": 10,
      "outputs": [
        {
          "output_type": "stream",
          "name": "stdout",
          "text": [
            "ROC-AUC: 0.4928728070175439\n",
            "\n"
          ]
        },
        {
          "output_type": "display_data",
          "data": {
            "text/plain": [
              "<Figure size 800x600 with 1 Axes>"
            ],
            "image/png": "[encoded data removed]"
          },
          "metadata": {}
        }
      ]
    }
  ]
}